{
 "cells": [
  {
   "cell_type": "code",
   "execution_count": 1,
   "id": "21baaf00",
   "metadata": {
    "_cell_guid": "b1076dfc-b9ad-4769-8c92-a6c4dae69d19",
    "_uuid": "8f2839f25d086af736a60e9eeb907d3b93b6e0e5",
    "execution": {
     "iopub.execute_input": "2025-07-19T18:35:49.986272Z",
     "iopub.status.busy": "2025-07-19T18:35:49.985964Z",
     "iopub.status.idle": "2025-07-19T18:35:50.015118Z",
     "shell.execute_reply": "2025-07-19T18:35:50.014104Z"
    },
    "papermill": {
     "duration": 0.037929,
     "end_time": "2025-07-19T18:35:50.016728",
     "exception": false,
     "start_time": "2025-07-19T18:35:49.978799",
     "status": "completed"
    },
    "tags": []
   },
   "outputs": [
    {
     "name": "stdout",
     "output_type": "stream",
     "text": [
      "/kaggle/input/sentiment-analysis/data\n",
      "/kaggle/input/sentiment-analysis-dataset/training.1600000.processed.noemoticon.csv\n",
      "/kaggle/input/sentiment-analysis-dataset/train.csv\n",
      "/kaggle/input/sentiment-analysis-dataset/testdata.manual.2009.06.14.csv\n",
      "/kaggle/input/sentiment-analysis-dataset/test.csv\n"
     ]
    }
   ],
   "source": [
    "# This Python 3 environment comes with many helpful analytics libraries installed\n",
    "# It is defined by the kaggle/python Docker image: https://github.com/kaggle/docker-python\n",
    "# For example, here's several helpful packages to load\n",
    "# Input data files are available in the read-only \"../input/\" directory\n",
    "# For example, running this (by clicking run or pressing Shift+Enter) will list all files under the input directory\n",
    "\n",
    "import os\n",
    "for dirname, _, filenames in os.walk('/kaggle/input'):\n",
    "    for filename in filenames:\n",
    "        print(os.path.join(dirname, filename))\n",
    "\n",
    "# You can write up to 20GB to the current directory (/kaggle/working/) that gets preserved as output when you create a version using \"Save & Run All\" \n",
    "# You can also write temporary files to /kaggle/temp/, but they won't be saved outside of the current session"
   ]
  },
  {
   "cell_type": "markdown",
   "id": "9523e9f6",
   "metadata": {
    "papermill": {
     "duration": 0.004993,
     "end_time": "2025-07-19T18:35:50.027662",
     "exception": false,
     "start_time": "2025-07-19T18:35:50.022669",
     "status": "completed"
    },
    "tags": []
   },
   "source": [
    "# **Importing the the Essential libraries**"
   ]
  },
  {
   "cell_type": "code",
   "execution_count": 2,
   "id": "7d20722e",
   "metadata": {
    "execution": {
     "iopub.execute_input": "2025-07-19T18:35:50.039383Z",
     "iopub.status.busy": "2025-07-19T18:35:50.039083Z",
     "iopub.status.idle": "2025-07-19T18:35:54.387179Z",
     "shell.execute_reply": "2025-07-19T18:35:54.386240Z"
    },
    "papermill": {
     "duration": 4.356155,
     "end_time": "2025-07-19T18:35:54.388998",
     "exception": false,
     "start_time": "2025-07-19T18:35:50.032843",
     "status": "completed"
    },
    "tags": []
   },
   "outputs": [],
   "source": [
    "import pandas as pd\n",
    "import numpy as np\n",
    "import matplotlib.pyplot as plt\n",
    "import csv\n",
    "import re\n",
    "import nltk\n",
    "from sklearn.feature_extraction.text import CountVectorizer\n",
    "from sklearn.preprocessing import StandardScaler\n",
    "from sklearn.metrics import confusion_matrix, accuracy_score\n",
    "from sklearn.metrics import classification_report"
   ]
  },
  {
   "cell_type": "markdown",
   "id": "6d4be77f",
   "metadata": {
    "papermill": {
     "duration": 0.004798,
     "end_time": "2025-07-19T18:35:54.398953",
     "exception": false,
     "start_time": "2025-07-19T18:35:54.394155",
     "status": "completed"
    },
    "tags": []
   },
   "source": [
    "# Reading the input dataset"
   ]
  },
  {
   "cell_type": "code",
   "execution_count": 3,
   "id": "c22df888",
   "metadata": {
    "execution": {
     "iopub.execute_input": "2025-07-19T18:35:54.410402Z",
     "iopub.status.busy": "2025-07-19T18:35:54.409942Z",
     "iopub.status.idle": "2025-07-19T18:35:54.477958Z",
     "shell.execute_reply": "2025-07-19T18:35:54.476955Z"
    },
    "papermill": {
     "duration": 0.075783,
     "end_time": "2025-07-19T18:35:54.479607",
     "exception": false,
     "start_time": "2025-07-19T18:35:54.403824",
     "status": "completed"
    },
    "tags": []
   },
   "outputs": [],
   "source": [
    "dataset = pd.read_csv('/kaggle/input/sentiment-analysis-dataset/test.csv', encoding='ISO-8859-1', quoting= csv.QUOTE_MINIMAL)\n",
    "# encoding='ISO-8859-1' is used for reading files with special characters"
   ]
  },
  {
   "cell_type": "code",
   "execution_count": 4,
   "id": "c4994eb9",
   "metadata": {
    "execution": {
     "iopub.execute_input": "2025-07-19T18:35:54.491127Z",
     "iopub.status.busy": "2025-07-19T18:35:54.490808Z",
     "iopub.status.idle": "2025-07-19T18:35:54.512430Z",
     "shell.execute_reply": "2025-07-19T18:35:54.511180Z"
    },
    "papermill": {
     "duration": 0.029454,
     "end_time": "2025-07-19T18:35:54.514130",
     "exception": false,
     "start_time": "2025-07-19T18:35:54.484676",
     "status": "completed"
    },
    "tags": []
   },
   "outputs": [
    {
     "name": "stdout",
     "output_type": "stream",
     "text": [
      "          textID                                               text sentiment  \\\n",
      "0     f87dea47db  Last session of the day  http://twitpic.com/67ezh   neutral   \n",
      "1     96d74cb729   Shanghai is also really exciting (precisely -...  positive   \n",
      "2     eee518ae67  Recession hit Veronique Branquinho, she has to...  negative   \n",
      "3     01082688c6                                        happy bday!  positive   \n",
      "4     33987a8ee5             http://twitpic.com/4w75p - I like it!!  positive   \n",
      "...          ...                                                ...       ...   \n",
      "4810         NaN                                                NaN       NaN   \n",
      "4811         NaN                                                NaN       NaN   \n",
      "4812         NaN                                                NaN       NaN   \n",
      "4813         NaN                                                NaN       NaN   \n",
      "4814         NaN                                                NaN       NaN   \n",
      "\n",
      "     Time of Tweet Age of User      Country  Population -2020  \\\n",
      "0          morning        0-20  Afghanistan        38928346.0   \n",
      "1             noon       21-30      Albania         2877797.0   \n",
      "2            night       31-45      Algeria        43851044.0   \n",
      "3          morning       46-60      Andorra           77265.0   \n",
      "4             noon       60-70       Angola        32866272.0   \n",
      "...            ...         ...          ...               ...   \n",
      "4810           NaN         NaN          NaN               NaN   \n",
      "4811           NaN         NaN          NaN               NaN   \n",
      "4812           NaN         NaN          NaN               NaN   \n",
      "4813           NaN         NaN          NaN               NaN   \n",
      "4814           NaN         NaN          NaN               NaN   \n",
      "\n",
      "      Land Area (Km²)  Density (P/Km²)  \n",
      "0            652860.0             60.0  \n",
      "1             27400.0            105.0  \n",
      "2           2381740.0             18.0  \n",
      "3               470.0            164.0  \n",
      "4           1246700.0             26.0  \n",
      "...               ...              ...  \n",
      "4810              NaN              NaN  \n",
      "4811              NaN              NaN  \n",
      "4812              NaN              NaN  \n",
      "4813              NaN              NaN  \n",
      "4814              NaN              NaN  \n",
      "\n",
      "[4815 rows x 9 columns]\n"
     ]
    },
    {
     "name": "stderr",
     "output_type": "stream",
     "text": [
      "/usr/local/lib/python3.11/dist-packages/pandas/io/formats/format.py:1458: RuntimeWarning: invalid value encountered in greater\n",
      "  has_large_values = (abs_vals > 1e6).any()\n",
      "/usr/local/lib/python3.11/dist-packages/pandas/io/formats/format.py:1459: RuntimeWarning: invalid value encountered in less\n",
      "  has_small_values = ((abs_vals < 10 ** (-self.digits)) & (abs_vals > 0)).any()\n",
      "/usr/local/lib/python3.11/dist-packages/pandas/io/formats/format.py:1459: RuntimeWarning: invalid value encountered in greater\n",
      "  has_small_values = ((abs_vals < 10 ** (-self.digits)) & (abs_vals > 0)).any()\n"
     ]
    }
   ],
   "source": [
    "print(dataset) #printing the dataset to see if there is any nan values"
   ]
  },
  {
   "cell_type": "code",
   "execution_count": 5,
   "id": "933b642b",
   "metadata": {
    "execution": {
     "iopub.execute_input": "2025-07-19T18:35:54.528304Z",
     "iopub.status.busy": "2025-07-19T18:35:54.527333Z",
     "iopub.status.idle": "2025-07-19T18:35:54.537693Z",
     "shell.execute_reply": "2025-07-19T18:35:54.536750Z"
    },
    "papermill": {
     "duration": 0.019426,
     "end_time": "2025-07-19T18:35:54.539577",
     "exception": false,
     "start_time": "2025-07-19T18:35:54.520151",
     "status": "completed"
    },
    "tags": []
   },
   "outputs": [],
   "source": [
    "df=pd.DataFrame(dataset) #creating a dataframe named 'df'\n",
    "dataset=df.drop(['textID','Country'],axis=1) #Since column'textID' id not relevent we drop that column\n"
   ]
  },
  {
   "cell_type": "code",
   "execution_count": 6,
   "id": "adcff0b7",
   "metadata": {
    "execution": {
     "iopub.execute_input": "2025-07-19T18:35:54.558828Z",
     "iopub.status.busy": "2025-07-19T18:35:54.558463Z",
     "iopub.status.idle": "2025-07-19T18:35:54.569088Z",
     "shell.execute_reply": "2025-07-19T18:35:54.567742Z"
    },
    "papermill": {
     "duration": 0.022757,
     "end_time": "2025-07-19T18:35:54.571004",
     "exception": false,
     "start_time": "2025-07-19T18:35:54.548247",
     "status": "completed"
    },
    "tags": []
   },
   "outputs": [
    {
     "name": "stdout",
     "output_type": "stream",
     "text": [
      "                                                   text sentiment  \\\n",
      "0     Last session of the day  http://twitpic.com/67ezh   neutral   \n",
      "1      Shanghai is also really exciting (precisely -...  positive   \n",
      "2     Recession hit Veronique Branquinho, she has to...  negative   \n",
      "3                                           happy bday!  positive   \n",
      "4                http://twitpic.com/4w75p - I like it!!  positive   \n",
      "...                                                 ...       ...   \n",
      "4810                                                NaN       NaN   \n",
      "4811                                                NaN       NaN   \n",
      "4812                                                NaN       NaN   \n",
      "4813                                                NaN       NaN   \n",
      "4814                                                NaN       NaN   \n",
      "\n",
      "     Time of Tweet Age of User  Population -2020  Land Area (Km²)  \\\n",
      "0          morning        0-20        38928346.0         652860.0   \n",
      "1             noon       21-30         2877797.0          27400.0   \n",
      "2            night       31-45        43851044.0        2381740.0   \n",
      "3          morning       46-60           77265.0            470.0   \n",
      "4             noon       60-70        32866272.0        1246700.0   \n",
      "...            ...         ...               ...              ...   \n",
      "4810           NaN         NaN               NaN              NaN   \n",
      "4811           NaN         NaN               NaN              NaN   \n",
      "4812           NaN         NaN               NaN              NaN   \n",
      "4813           NaN         NaN               NaN              NaN   \n",
      "4814           NaN         NaN               NaN              NaN   \n",
      "\n",
      "      Density (P/Km²)  \n",
      "0                60.0  \n",
      "1               105.0  \n",
      "2                18.0  \n",
      "3               164.0  \n",
      "4                26.0  \n",
      "...               ...  \n",
      "4810              NaN  \n",
      "4811              NaN  \n",
      "4812              NaN  \n",
      "4813              NaN  \n",
      "4814              NaN  \n",
      "\n",
      "[4815 rows x 7 columns]\n"
     ]
    },
    {
     "name": "stderr",
     "output_type": "stream",
     "text": [
      "/usr/local/lib/python3.11/dist-packages/pandas/io/formats/format.py:1458: RuntimeWarning: invalid value encountered in greater\n",
      "  has_large_values = (abs_vals > 1e6).any()\n",
      "/usr/local/lib/python3.11/dist-packages/pandas/io/formats/format.py:1459: RuntimeWarning: invalid value encountered in less\n",
      "  has_small_values = ((abs_vals < 10 ** (-self.digits)) & (abs_vals > 0)).any()\n",
      "/usr/local/lib/python3.11/dist-packages/pandas/io/formats/format.py:1459: RuntimeWarning: invalid value encountered in greater\n",
      "  has_small_values = ((abs_vals < 10 ** (-self.digits)) & (abs_vals > 0)).any()\n"
     ]
    }
   ],
   "source": [
    "print(dataset)"
   ]
  },
  {
   "cell_type": "markdown",
   "id": "20b7991d",
   "metadata": {
    "papermill": {
     "duration": 0.005206,
     "end_time": "2025-07-19T18:35:54.582825",
     "exception": false,
     "start_time": "2025-07-19T18:35:54.577619",
     "status": "completed"
    },
    "tags": []
   },
   "source": [
    "# Dropping all the rows containing missing values(nan values)"
   ]
  },
  {
   "cell_type": "code",
   "execution_count": 7,
   "id": "472de5ef",
   "metadata": {
    "execution": {
     "iopub.execute_input": "2025-07-19T18:35:54.596001Z",
     "iopub.status.busy": "2025-07-19T18:35:54.595684Z",
     "iopub.status.idle": "2025-07-19T18:35:54.608512Z",
     "shell.execute_reply": "2025-07-19T18:35:54.607362Z"
    },
    "papermill": {
     "duration": 0.021973,
     "end_time": "2025-07-19T18:35:54.610103",
     "exception": false,
     "start_time": "2025-07-19T18:35:54.588130",
     "status": "completed"
    },
    "tags": []
   },
   "outputs": [
    {
     "name": "stdout",
     "output_type": "stream",
     "text": [
      "                                                   text sentiment  \\\n",
      "0     Last session of the day  http://twitpic.com/67ezh   neutral   \n",
      "1      Shanghai is also really exciting (precisely -...  positive   \n",
      "2     Recession hit Veronique Branquinho, she has to...  negative   \n",
      "3                                           happy bday!  positive   \n",
      "4                http://twitpic.com/4w75p - I like it!!  positive   \n",
      "...                                                 ...       ...   \n",
      "3529  its at 3 am, im very tired but i can`t sleep  ...  negative   \n",
      "3530  All alone in this old house again.  Thanks for...  positive   \n",
      "3531   I know what you mean. My little dog is sinkin...  negative   \n",
      "3532  _sutra what is your next youtube video gonna b...  positive   \n",
      "3533   http://twitpic.com/4woj2 - omgssh  ang cute n...  positive   \n",
      "\n",
      "     Time of Tweet Age of User  Population -2020  Land Area (Km²)  \\\n",
      "0          morning        0-20        38928346.0         652860.0   \n",
      "1             noon       21-30         2877797.0          27400.0   \n",
      "2            night       31-45        43851044.0        2381740.0   \n",
      "3          morning       46-60           77265.0            470.0   \n",
      "4             noon       60-70        32866272.0        1246700.0   \n",
      "...            ...         ...               ...              ...   \n",
      "3529          noon       21-30         6624554.0         120340.0   \n",
      "3530         night       31-45        24206644.0        1266700.0   \n",
      "3531       morning       46-60       206139589.0         910770.0   \n",
      "3532          noon       60-70        25778816.0         120410.0   \n",
      "3533         night      70-100         2083374.0          25220.0   \n",
      "\n",
      "      Density (P/Km²)  \n",
      "0                60.0  \n",
      "1               105.0  \n",
      "2                18.0  \n",
      "3               164.0  \n",
      "4                26.0  \n",
      "...               ...  \n",
      "3529             55.0  \n",
      "3530             19.0  \n",
      "3531            226.0  \n",
      "3532            214.0  \n",
      "3533             83.0  \n",
      "\n",
      "[3534 rows x 7 columns]\n"
     ]
    }
   ],
   "source": [
    "dataset=dataset.dropna(subset=['text','sentiment','Time of Tweet','Age of User','Population -2020']) #dropping all the rows containing missing values(nan values)\n",
    "print(dataset) #printing the dataset to check if all the rows containing nan values are deleted"
   ]
  },
  {
   "cell_type": "markdown",
   "id": "8eb1a2f0",
   "metadata": {
    "papermill": {
     "duration": 0.005117,
     "end_time": "2025-07-19T18:35:54.620708",
     "exception": false,
     "start_time": "2025-07-19T18:35:54.615591",
     "status": "completed"
    },
    "tags": []
   },
   "source": [
    "# Assigning different columns for X and y"
   ]
  },
  {
   "cell_type": "code",
   "execution_count": 8,
   "id": "6762f158",
   "metadata": {
    "execution": {
     "iopub.execute_input": "2025-07-19T18:35:54.632289Z",
     "iopub.status.busy": "2025-07-19T18:35:54.631997Z",
     "iopub.status.idle": "2025-07-19T18:35:54.639907Z",
     "shell.execute_reply": "2025-07-19T18:35:54.639019Z"
    },
    "papermill": {
     "duration": 0.015296,
     "end_time": "2025-07-19T18:35:54.641205",
     "exception": false,
     "start_time": "2025-07-19T18:35:54.625909",
     "status": "completed"
    },
    "tags": []
   },
   "outputs": [
    {
     "name": "stdout",
     "output_type": "stream",
     "text": [
      "[['Last session of the day  http://twitpic.com/67ezh' 'morning' '0-20'\n",
      "  38928346.0 652860.0 60.0]\n",
      " [' Shanghai is also really exciting (precisely -- skyscrapers galore). Good tweeps in China:  (SH)  (BJ).'\n",
      "  'noon' '21-30' 2877797.0 27400.0 105.0]\n",
      " ['Recession hit Veronique Branquinho, she has to quit her company, such a shame!'\n",
      "  'night' '31-45' 43851044.0 2381740.0 18.0]\n",
      " ...\n",
      " [' I know what you mean. My little dog is sinking into depression... he wants to move someplace tropical'\n",
      "  'morning' '46-60' 206139589.0 910770.0 226.0]\n",
      " ['_sutra what is your next youtube video gonna be about? I love your videos!'\n",
      "  'noon' '60-70' 25778816.0 120410.0 214.0]\n",
      " [' http://twitpic.com/4woj2 - omgssh  ang cute ng bby.!' 'night'\n",
      "  '70-100' 2083374.0 25220.0 83.0]]\n",
      "['neutral' 'positive' 'negative' ... 'negative' 'positive' 'positive']\n"
     ]
    }
   ],
   "source": [
    "X=dataset.iloc[:,[0,2,3,4,5,6]].values\n",
    "y=dataset.iloc[:,1].values\n",
    "print(X) # all the columns except 'sentiment' column is assigned in X\n",
    "print(y)# 'sentiment' column is assigned in y\n",
    "\n",
    "# later we use this X and y to train the model after splitting them into training set and test set"
   ]
  },
  {
   "cell_type": "markdown",
   "id": "e8dcd20c",
   "metadata": {
    "papermill": {
     "duration": 0.005055,
     "end_time": "2025-07-19T18:35:54.651837",
     "exception": false,
     "start_time": "2025-07-19T18:35:54.646782",
     "status": "completed"
    },
    "tags": []
   },
   "source": [
    "# Cleaning the texts"
   ]
  },
  {
   "cell_type": "code",
   "execution_count": 9,
   "id": "e2fbf9d8",
   "metadata": {
    "execution": {
     "iopub.execute_input": "2025-07-19T18:35:54.664113Z",
     "iopub.status.busy": "2025-07-19T18:35:54.663338Z",
     "iopub.status.idle": "2025-07-19T18:35:55.900107Z",
     "shell.execute_reply": "2025-07-19T18:35:55.899182Z"
    },
    "papermill": {
     "duration": 1.244677,
     "end_time": "2025-07-19T18:35:55.901764",
     "exception": false,
     "start_time": "2025-07-19T18:35:54.657087",
     "status": "completed"
    },
    "tags": []
   },
   "outputs": [
    {
     "name": "stderr",
     "output_type": "stream",
     "text": [
      "[nltk_data] Downloading package stopwords to /usr/share/nltk_data...\n",
      "[nltk_data]   Package stopwords is already up-to-date!\n"
     ]
    }
   ],
   "source": [
    "nltk.download('stopwords') # dowloading all the stopwords from the nltk module\n",
    "from nltk.corpus import stopwords #importing all the stopwords from nltk.corpus\n",
    "from nltk.stem.porter import PorterStemmer # importing PorterStemmer from nltk.stem.porter \n",
    "corpus=[] # creating the empty array called corpus\n",
    "\n",
    "for i in range(0,3534):\n",
    "    review = re.sub('[^a-zA-Z]',' ',dataset['text'][i]) #replacing all the characters which is not between a-z or A-Z with a whitespace\n",
    "    review = review.lower() #converting ith text into lowercase\n",
    "    review= review.split() # splits the ith text into words which are separated by whitespace\n",
    "    ps=PorterStemmer() #PorterStemmer() helps in stemming the text[for example it converts 'ran','runs','running' into the base words i.e 'run']\n",
    "    all_stopwords=stopwords.words('english') # store all ENGLISH stopwords in all_stopwords\n",
    "    all_stopwords.remove('not') #remove the word 'not' from the list of stopwords\n",
    "    review = [ps.stem(word) for word in review if not word in set(all_stopwords)] #select the words which is not in all_stopwords\n",
    "    review =' '.join(review) # join all the clean words separated by a space\n",
    "    corpus.append(review) # append the array 'corpus'"
   ]
  },
  {
   "cell_type": "code",
   "execution_count": 10,
   "id": "82fbd6cd",
   "metadata": {
    "collapsed": true,
    "execution": {
     "iopub.execute_input": "2025-07-19T18:35:55.914990Z",
     "iopub.status.busy": "2025-07-19T18:35:55.914658Z",
     "iopub.status.idle": "2025-07-19T18:35:55.918764Z",
     "shell.execute_reply": "2025-07-19T18:35:55.917893Z"
    },
    "jupyter": {
     "outputs_hidden": true
    },
    "papermill": {
     "duration": 0.012711,
     "end_time": "2025-07-19T18:35:55.920257",
     "exception": false,
     "start_time": "2025-07-19T18:35:55.907546",
     "status": "completed"
    },
    "tags": []
   },
   "outputs": [],
   "source": [
    " #corpus consists of all stopwords"
   ]
  },
  {
   "cell_type": "markdown",
   "id": "7128e570",
   "metadata": {
    "papermill": {
     "duration": 0.005254,
     "end_time": "2025-07-19T18:35:55.931298",
     "exception": false,
     "start_time": "2025-07-19T18:35:55.926044",
     "status": "completed"
    },
    "tags": []
   },
   "source": [
    "# Creating the bag of words model"
   ]
  },
  {
   "cell_type": "code",
   "execution_count": 11,
   "id": "b6fb80a5",
   "metadata": {
    "execution": {
     "iopub.execute_input": "2025-07-19T18:35:55.943547Z",
     "iopub.status.busy": "2025-07-19T18:35:55.943213Z",
     "iopub.status.idle": "2025-07-19T18:35:56.374389Z",
     "shell.execute_reply": "2025-07-19T18:35:56.373423Z"
    },
    "papermill": {
     "duration": 0.43908,
     "end_time": "2025-07-19T18:35:56.375868",
     "exception": false,
     "start_time": "2025-07-19T18:35:55.936788",
     "status": "completed"
    },
    "tags": []
   },
   "outputs": [
    {
     "name": "stdout",
     "output_type": "stream",
     "text": [
      "            1       2\n",
      "0     morning    0-20\n",
      "1        noon   21-30\n",
      "2       night   31-45\n",
      "3     morning   46-60\n",
      "4        noon   60-70\n",
      "...       ...     ...\n",
      "3529     noon   21-30\n",
      "3530    night   31-45\n",
      "3531  morning   46-60\n",
      "3532     noon   60-70\n",
      "3533    night  70-100\n",
      "\n",
      "[3534 rows x 2 columns]\n"
     ]
    }
   ],
   "source": [
    "cv= CountVectorizer(max_features=4000) # bag of words(corpus) consists iof 4000 most frequently used words\n",
    "vectorized =cv.fit_transform(corpus).toarray() # used to convert a text corpus into a numeric matrix using the Bag of Words model\n",
    "X= np.concatenate((X,vectorized),axis=1) #join this vectorized matrix in the matrix of features X\n",
    "df=pd.DataFrame(X)\n",
    "X=df.iloc[:,1:] # drop the 'text' column since since we already have the numeric vectorized matrix\n",
    "df=pd.DataFrame(X)\n",
    "\n",
    "print(X[[1,2]])"
   ]
  },
  {
   "cell_type": "code",
   "execution_count": 12,
   "id": "87d0e6db",
   "metadata": {
    "execution": {
     "iopub.execute_input": "2025-07-19T18:35:56.388314Z",
     "iopub.status.busy": "2025-07-19T18:35:56.387993Z",
     "iopub.status.idle": "2025-07-19T18:35:56.404074Z",
     "shell.execute_reply": "2025-07-19T18:35:56.403002Z"
    },
    "papermill": {
     "duration": 0.023931,
     "end_time": "2025-07-19T18:35:56.405438",
     "exception": false,
     "start_time": "2025-07-19T18:35:56.381507",
     "status": "completed"
    },
    "tags": []
   },
   "outputs": [
    {
     "name": "stdout",
     "output_type": "stream",
     "text": [
      "         1       2            3          4      5    6    7    8    9    10    \\\n",
      "0     morning    0-20   38928346.0   652860.0   60.0    0    0    0    0    0   \n",
      "1        noon   21-30    2877797.0    27400.0  105.0    0    0    0    0    0   \n",
      "2       night   31-45   43851044.0  2381740.0   18.0    0    0    0    0    0   \n",
      "3     morning   46-60      77265.0      470.0  164.0    0    0    0    0    0   \n",
      "4        noon   60-70   32866272.0  1246700.0   26.0    0    0    0    0    0   \n",
      "...       ...     ...          ...        ...    ...  ...  ...  ...  ...  ...   \n",
      "3529     noon   21-30    6624554.0   120340.0   55.0    0    0    0    0    0   \n",
      "3530    night   31-45   24206644.0  1266700.0   19.0    0    0    0    0    0   \n",
      "3531  morning   46-60  206139589.0   910770.0  226.0    0    0    0    0    0   \n",
      "3532     noon   60-70   25778816.0   120410.0  214.0    0    0    0    0    0   \n",
      "3533    night  70-100    2083374.0    25220.0   83.0    0    0    0    0    0   \n",
      "\n",
      "      ... 3996 3997 3998 3999 4000 4001 4002 4003 4004 4005  \n",
      "0     ...    0    0    0    0    0    0    0    0    0    0  \n",
      "1     ...    0    0    0    0    0    0    0    0    0    0  \n",
      "2     ...    0    0    0    0    0    0    0    0    0    0  \n",
      "3     ...    0    0    0    0    0    0    0    0    0    0  \n",
      "4     ...    0    0    0    0    0    0    0    0    0    0  \n",
      "...   ...  ...  ...  ...  ...  ...  ...  ...  ...  ...  ...  \n",
      "3529  ...    0    0    0    0    0    0    0    0    0    0  \n",
      "3530  ...    0    0    0    0    0    0    0    0    0    0  \n",
      "3531  ...    0    0    0    0    0    0    0    0    0    0  \n",
      "3532  ...    0    0    0    0    0    0    0    0    0    0  \n",
      "3533  ...    0    0    0    0    0    0    0    0    0    0  \n",
      "\n",
      "[3534 rows x 4005 columns]\n"
     ]
    }
   ],
   "source": [
    "print(X)"
   ]
  },
  {
   "cell_type": "markdown",
   "id": "3884ae3a",
   "metadata": {
    "papermill": {
     "duration": 0.005727,
     "end_time": "2025-07-19T18:35:56.417047",
     "exception": false,
     "start_time": "2025-07-19T18:35:56.411320",
     "status": "completed"
    },
    "tags": []
   },
   "source": [
    "# Label Encode first and second column"
   ]
  },
  {
   "cell_type": "code",
   "execution_count": 13,
   "id": "baf952ff",
   "metadata": {
    "execution": {
     "iopub.execute_input": "2025-07-19T18:35:56.430135Z",
     "iopub.status.busy": "2025-07-19T18:35:56.429771Z",
     "iopub.status.idle": "2025-07-19T18:35:56.455465Z",
     "shell.execute_reply": "2025-07-19T18:35:56.454558Z"
    },
    "papermill": {
     "duration": 0.034188,
     "end_time": "2025-07-19T18:35:56.457143",
     "exception": false,
     "start_time": "2025-07-19T18:35:56.422955",
     "status": "completed"
    },
    "tags": []
   },
   "outputs": [
    {
     "name": "stdout",
     "output_type": "stream",
     "text": [
      "     1    2            3          4      5    6    7    8    9    10    ...  \\\n",
      "0       0    0   38928346.0   652860.0   60.0    0    0    0    0    0  ...   \n",
      "1       2    1    2877797.0    27400.0  105.0    0    0    0    0    0  ...   \n",
      "2       1    2   43851044.0  2381740.0   18.0    0    0    0    0    0  ...   \n",
      "3       0    3      77265.0      470.0  164.0    0    0    0    0    0  ...   \n",
      "4       2    4   32866272.0  1246700.0   26.0    0    0    0    0    0  ...   \n",
      "...   ...  ...          ...        ...    ...  ...  ...  ...  ...  ...  ...   \n",
      "3529    2    1    6624554.0   120340.0   55.0    0    0    0    0    0  ...   \n",
      "3530    1    2   24206644.0  1266700.0   19.0    0    0    0    0    0  ...   \n",
      "3531    0    3  206139589.0   910770.0  226.0    0    0    0    0    0  ...   \n",
      "3532    2    4   25778816.0   120410.0  214.0    0    0    0    0    0  ...   \n",
      "3533    1    5    2083374.0    25220.0   83.0    0    0    0    0    0  ...   \n",
      "\n",
      "     3996 3997 3998 3999 4000 4001 4002 4003 4004 4005  \n",
      "0       0    0    0    0    0    0    0    0    0    0  \n",
      "1       0    0    0    0    0    0    0    0    0    0  \n",
      "2       0    0    0    0    0    0    0    0    0    0  \n",
      "3       0    0    0    0    0    0    0    0    0    0  \n",
      "4       0    0    0    0    0    0    0    0    0    0  \n",
      "...   ...  ...  ...  ...  ...  ...  ...  ...  ...  ...  \n",
      "3529    0    0    0    0    0    0    0    0    0    0  \n",
      "3530    0    0    0    0    0    0    0    0    0    0  \n",
      "3531    0    0    0    0    0    0    0    0    0    0  \n",
      "3532    0    0    0    0    0    0    0    0    0    0  \n",
      "3533    0    0    0    0    0    0    0    0    0    0  \n",
      "\n",
      "[3534 rows x 4005 columns]\n",
      "[1 2 0 ... 0 2 2]\n"
     ]
    }
   ],
   "source": [
    "df=pd.DataFrame(X)\n",
    "from sklearn.preprocessing import LabelEncoder\n",
    "le =LabelEncoder()\n",
    "X.iloc[:,0] = le.fit_transform(X.iloc[:,0])\n",
    "X.iloc[:,1] = le.fit_transform(X.iloc[:,1])\n",
    "y=le.fit_transform(y)\n",
    "print(X)\n",
    "print(y)"
   ]
  },
  {
   "cell_type": "markdown",
   "id": "9fe7611b",
   "metadata": {
    "papermill": {
     "duration": 0.005409,
     "end_time": "2025-07-19T18:35:56.468363",
     "exception": false,
     "start_time": "2025-07-19T18:35:56.462954",
     "status": "completed"
    },
    "tags": []
   },
   "source": [
    "# Feature scale second third and fourth column"
   ]
  },
  {
   "cell_type": "code",
   "execution_count": 14,
   "id": "eae68303",
   "metadata": {
    "execution": {
     "iopub.execute_input": "2025-07-19T18:35:56.481377Z",
     "iopub.status.busy": "2025-07-19T18:35:56.481085Z",
     "iopub.status.idle": "2025-07-19T18:35:56.525603Z",
     "shell.execute_reply": "2025-07-19T18:35:56.524560Z"
    },
    "papermill": {
     "duration": 0.052744,
     "end_time": "2025-07-19T18:35:56.527271",
     "exception": false,
     "start_time": "2025-07-19T18:35:56.474527",
     "status": "completed"
    },
    "tags": []
   },
   "outputs": [
    {
     "name": "stdout",
     "output_type": "stream",
     "text": [
      "     1    2         3         4         5    6    7    8    9    10    ...  \\\n",
      "0       0    0  -0.00334 -0.010544  -0.14689    0    0    0    0    0  ...   \n",
      "1       2    1 -0.248825 -0.350677  -0.12401    0    0    0    0    0  ...   \n",
      "2       1    2   0.03018   0.92964 -0.168246    0    0    0    0    0  ...   \n",
      "3       0    3 -0.267895 -0.365321 -0.094011    0    0    0    0    0  ...   \n",
      "4       2    4  -0.04462  0.312392 -0.164178    0    0    0    0    0  ...   \n",
      "...   ...  ...       ...       ...       ...  ...  ...  ...  ...  ...  ...   \n",
      "3529    2    1 -0.223311 -0.300135 -0.149433    0    0    0    0    0  ...   \n",
      "3530    1    2 -0.103587  0.323269 -0.167737    0    0    0    0    0  ...   \n",
      "3531    0    3  1.135275   0.12971 -0.062486    0    0    0    0    0  ...   \n",
      "3532    2    4 -0.092881 -0.300097 -0.068588    0    0    0    0    0  ...   \n",
      "3533    1    5 -0.254234 -0.351862 -0.135196    0    0    0    0    0  ...   \n",
      "\n",
      "     3996 3997 3998 3999 4000 4001 4002 4003 4004 4005  \n",
      "0       0    0    0    0    0    0    0    0    0    0  \n",
      "1       0    0    0    0    0    0    0    0    0    0  \n",
      "2       0    0    0    0    0    0    0    0    0    0  \n",
      "3       0    0    0    0    0    0    0    0    0    0  \n",
      "4       0    0    0    0    0    0    0    0    0    0  \n",
      "...   ...  ...  ...  ...  ...  ...  ...  ...  ...  ...  \n",
      "3529    0    0    0    0    0    0    0    0    0    0  \n",
      "3530    0    0    0    0    0    0    0    0    0    0  \n",
      "3531    0    0    0    0    0    0    0    0    0    0  \n",
      "3532    0    0    0    0    0    0    0    0    0    0  \n",
      "3533    0    0    0    0    0    0    0    0    0    0  \n",
      "\n",
      "[3534 rows x 4005 columns]\n"
     ]
    }
   ],
   "source": [
    "scaler = StandardScaler() \n",
    "X.iloc[:, [2, 3, 4]] = scaler.fit_transform(X.iloc[:, [2, 3, 4]])# feature scaling second, third and fourth column because they can dominate the column having small numeric values\n",
    "print(X)\n"
   ]
  },
  {
   "cell_type": "markdown",
   "id": "d8d35520",
   "metadata": {
    "papermill": {
     "duration": 0.006596,
     "end_time": "2025-07-19T18:35:56.539984",
     "exception": false,
     "start_time": "2025-07-19T18:35:56.533388",
     "status": "completed"
    },
    "tags": []
   },
   "source": [
    "# Splitting the dataset into the Training set and Test set"
   ]
  },
  {
   "cell_type": "code",
   "execution_count": 15,
   "id": "f8d2999b",
   "metadata": {
    "execution": {
     "iopub.execute_input": "2025-07-19T18:35:56.554250Z",
     "iopub.status.busy": "2025-07-19T18:35:56.553917Z",
     "iopub.status.idle": "2025-07-19T18:35:57.203756Z",
     "shell.execute_reply": "2025-07-19T18:35:57.202800Z"
    },
    "papermill": {
     "duration": 0.659271,
     "end_time": "2025-07-19T18:35:57.205523",
     "exception": false,
     "start_time": "2025-07-19T18:35:56.546252",
     "status": "completed"
    },
    "tags": []
   },
   "outputs": [],
   "source": [
    "from sklearn.model_selection import train_test_split\n",
    "X_train, X_test, y_train, y_test = train_test_split(X, y, test_size = 0.2, random_state = 1)"
   ]
  },
  {
   "cell_type": "markdown",
   "id": "4af14412",
   "metadata": {
    "papermill": {
     "duration": 0.005513,
     "end_time": "2025-07-19T18:35:57.217220",
     "exception": false,
     "start_time": "2025-07-19T18:35:57.211707",
     "status": "completed"
    },
    "tags": []
   },
   "source": [
    "# Applying Logistic Regression"
   ]
  },
  {
   "cell_type": "code",
   "execution_count": 16,
   "id": "5dadc466",
   "metadata": {
    "execution": {
     "iopub.execute_input": "2025-07-19T18:35:57.231300Z",
     "iopub.status.busy": "2025-07-19T18:35:57.230877Z",
     "iopub.status.idle": "2025-07-19T18:36:09.620418Z",
     "shell.execute_reply": "2025-07-19T18:36:09.618710Z"
    },
    "papermill": {
     "duration": 12.399507,
     "end_time": "2025-07-19T18:36:09.622584",
     "exception": false,
     "start_time": "2025-07-19T18:35:57.223077",
     "status": "completed"
    },
    "tags": []
   },
   "outputs": [
    {
     "data": {
      "text/html": [
       "<style>#sk-container-id-1 {color: black;background-color: white;}#sk-container-id-1 pre{padding: 0;}#sk-container-id-1 div.sk-toggleable {background-color: white;}#sk-container-id-1 label.sk-toggleable__label {cursor: pointer;display: block;width: 100%;margin-bottom: 0;padding: 0.3em;box-sizing: border-box;text-align: center;}#sk-container-id-1 label.sk-toggleable__label-arrow:before {content: \"▸\";float: left;margin-right: 0.25em;color: #696969;}#sk-container-id-1 label.sk-toggleable__label-arrow:hover:before {color: black;}#sk-container-id-1 div.sk-estimator:hover label.sk-toggleable__label-arrow:before {color: black;}#sk-container-id-1 div.sk-toggleable__content {max-height: 0;max-width: 0;overflow: hidden;text-align: left;background-color: #f0f8ff;}#sk-container-id-1 div.sk-toggleable__content pre {margin: 0.2em;color: black;border-radius: 0.25em;background-color: #f0f8ff;}#sk-container-id-1 input.sk-toggleable__control:checked~div.sk-toggleable__content {max-height: 200px;max-width: 100%;overflow: auto;}#sk-container-id-1 input.sk-toggleable__control:checked~label.sk-toggleable__label-arrow:before {content: \"▾\";}#sk-container-id-1 div.sk-estimator input.sk-toggleable__control:checked~label.sk-toggleable__label {background-color: #d4ebff;}#sk-container-id-1 div.sk-label input.sk-toggleable__control:checked~label.sk-toggleable__label {background-color: #d4ebff;}#sk-container-id-1 input.sk-hidden--visually {border: 0;clip: rect(1px 1px 1px 1px);clip: rect(1px, 1px, 1px, 1px);height: 1px;margin: -1px;overflow: hidden;padding: 0;position: absolute;width: 1px;}#sk-container-id-1 div.sk-estimator {font-family: monospace;background-color: #f0f8ff;border: 1px dotted black;border-radius: 0.25em;box-sizing: border-box;margin-bottom: 0.5em;}#sk-container-id-1 div.sk-estimator:hover {background-color: #d4ebff;}#sk-container-id-1 div.sk-parallel-item::after {content: \"\";width: 100%;border-bottom: 1px solid gray;flex-grow: 1;}#sk-container-id-1 div.sk-label:hover label.sk-toggleable__label {background-color: #d4ebff;}#sk-container-id-1 div.sk-serial::before {content: \"\";position: absolute;border-left: 1px solid gray;box-sizing: border-box;top: 0;bottom: 0;left: 50%;z-index: 0;}#sk-container-id-1 div.sk-serial {display: flex;flex-direction: column;align-items: center;background-color: white;padding-right: 0.2em;padding-left: 0.2em;position: relative;}#sk-container-id-1 div.sk-item {position: relative;z-index: 1;}#sk-container-id-1 div.sk-parallel {display: flex;align-items: stretch;justify-content: center;background-color: white;position: relative;}#sk-container-id-1 div.sk-item::before, #sk-container-id-1 div.sk-parallel-item::before {content: \"\";position: absolute;border-left: 1px solid gray;box-sizing: border-box;top: 0;bottom: 0;left: 50%;z-index: -1;}#sk-container-id-1 div.sk-parallel-item {display: flex;flex-direction: column;z-index: 1;position: relative;background-color: white;}#sk-container-id-1 div.sk-parallel-item:first-child::after {align-self: flex-end;width: 50%;}#sk-container-id-1 div.sk-parallel-item:last-child::after {align-self: flex-start;width: 50%;}#sk-container-id-1 div.sk-parallel-item:only-child::after {width: 0;}#sk-container-id-1 div.sk-dashed-wrapped {border: 1px dashed gray;margin: 0 0.4em 0.5em 0.4em;box-sizing: border-box;padding-bottom: 0.4em;background-color: white;}#sk-container-id-1 div.sk-label label {font-family: monospace;font-weight: bold;display: inline-block;line-height: 1.2em;}#sk-container-id-1 div.sk-label-container {text-align: center;}#sk-container-id-1 div.sk-container {/* jupyter's `normalize.less` sets `[hidden] { display: none; }` but bootstrap.min.css set `[hidden] { display: none !important; }` so we also need the `!important` here to be able to override the default hidden behavior on the sphinx rendered scikit-learn.org. See: https://github.com/scikit-learn/scikit-learn/issues/21755 */display: inline-block !important;position: relative;}#sk-container-id-1 div.sk-text-repr-fallback {display: none;}</style><div id=\"sk-container-id-1\" class=\"sk-top-container\"><div class=\"sk-text-repr-fallback\"><pre>LogisticRegression(C=0.5, class_weight=&#x27;balanced&#x27;, max_iter=5000)</pre><b>In a Jupyter environment, please rerun this cell to show the HTML representation or trust the notebook. <br />On GitHub, the HTML representation is unable to render, please try loading this page with nbviewer.org.</b></div><div class=\"sk-container\" hidden><div class=\"sk-item\"><div class=\"sk-estimator sk-toggleable\"><input class=\"sk-toggleable__control sk-hidden--visually\" id=\"sk-estimator-id-1\" type=\"checkbox\" checked><label for=\"sk-estimator-id-1\" class=\"sk-toggleable__label sk-toggleable__label-arrow\">LogisticRegression</label><div class=\"sk-toggleable__content\"><pre>LogisticRegression(C=0.5, class_weight=&#x27;balanced&#x27;, max_iter=5000)</pre></div></div></div></div></div>"
      ],
      "text/plain": [
       "LogisticRegression(C=0.5, class_weight='balanced', max_iter=5000)"
      ]
     },
     "execution_count": 16,
     "metadata": {},
     "output_type": "execute_result"
    }
   ],
   "source": [
    "from sklearn.linear_model import LogisticRegression\n",
    "classifier = LogisticRegression(C=0.5,class_weight='balanced',max_iter=5000) # using class_weight='balanced' because it tells the model to pay more attention to minority classes\n",
    "classifier.fit(X_train, y_train) # training the model using training set"
   ]
  },
  {
   "cell_type": "code",
   "execution_count": 17,
   "id": "970d7ea6",
   "metadata": {
    "execution": {
     "iopub.execute_input": "2025-07-19T18:36:09.644463Z",
     "iopub.status.busy": "2025-07-19T18:36:09.644146Z",
     "iopub.status.idle": "2025-07-19T18:36:09.857500Z",
     "shell.execute_reply": "2025-07-19T18:36:09.856370Z"
    },
    "papermill": {
     "duration": 0.225926,
     "end_time": "2025-07-19T18:36:09.859176",
     "exception": false,
     "start_time": "2025-07-19T18:36:09.633250",
     "status": "completed"
    },
    "tags": []
   },
   "outputs": [
    {
     "name": "stdout",
     "output_type": "stream",
     "text": [
      "[[2 2]\n",
      " [1 2]\n",
      " [2 2]\n",
      " ...\n",
      " [1 2]\n",
      " [0 0]\n",
      " [1 1]]\n"
     ]
    }
   ],
   "source": [
    "y_pred = classifier.predict(X_test) # y_pred stores the predicted values\n",
    "print(np.concatenate((y_pred.reshape(len(y_pred),1), y_test.reshape(len(y_test),1)),1)) # the first column denotes the predicted results and the second column denotes the actual data from the test set."
   ]
  },
  {
   "cell_type": "markdown",
   "id": "f4ba4238",
   "metadata": {
    "papermill": {
     "duration": 0.005748,
     "end_time": "2025-07-19T18:36:09.871311",
     "exception": false,
     "start_time": "2025-07-19T18:36:09.865563",
     "status": "completed"
    },
    "tags": []
   },
   "source": [
    "# Evaluating the Logistic Regression model"
   ]
  },
  {
   "cell_type": "code",
   "execution_count": 18,
   "id": "bc4b2303",
   "metadata": {
    "execution": {
     "iopub.execute_input": "2025-07-19T18:36:09.884789Z",
     "iopub.status.busy": "2025-07-19T18:36:09.884458Z",
     "iopub.status.idle": "2025-07-19T18:36:09.894828Z",
     "shell.execute_reply": "2025-07-19T18:36:09.893908Z"
    },
    "papermill": {
     "duration": 0.018675,
     "end_time": "2025-07-19T18:36:09.896142",
     "exception": false,
     "start_time": "2025-07-19T18:36:09.877467",
     "status": "completed"
    },
    "tags": []
   },
   "outputs": [
    {
     "name": "stdout",
     "output_type": "stream",
     "text": [
      "[[136  57  11]\n",
      " [ 52 180  50]\n",
      " [ 12  57 152]]\n"
     ]
    },
    {
     "data": {
      "text/plain": [
       "0.6619519094766619"
      ]
     },
     "execution_count": 18,
     "metadata": {},
     "output_type": "execute_result"
    }
   ],
   "source": [
    "cm = confusion_matrix(y_test, y_pred)\n",
    "print(cm)\n",
    "accuracy_score(y_test, y_pred) # accuracy of 66.19% is achieved which is considered good for a classic ML model."
   ]
  },
  {
   "cell_type": "code",
   "execution_count": 19,
   "id": "e51c5589",
   "metadata": {
    "execution": {
     "iopub.execute_input": "2025-07-19T18:36:09.910046Z",
     "iopub.status.busy": "2025-07-19T18:36:09.909710Z",
     "iopub.status.idle": "2025-07-19T18:36:09.922370Z",
     "shell.execute_reply": "2025-07-19T18:36:09.921261Z"
    },
    "papermill": {
     "duration": 0.021808,
     "end_time": "2025-07-19T18:36:09.924172",
     "exception": false,
     "start_time": "2025-07-19T18:36:09.902364",
     "status": "completed"
    },
    "tags": []
   },
   "outputs": [
    {
     "name": "stdout",
     "output_type": "stream",
     "text": [
      "              precision    recall  f1-score   support\n",
      "\n",
      "           0       0.68      0.67      0.67       204\n",
      "           1       0.61      0.64      0.62       282\n",
      "           2       0.71      0.69      0.70       221\n",
      "\n",
      "    accuracy                           0.66       707\n",
      "   macro avg       0.67      0.66      0.67       707\n",
      "weighted avg       0.66      0.66      0.66       707\n",
      "\n"
     ]
    }
   ],
   "source": [
    "print(classification_report(y_test, y_pred)) # prints precsion recall and f1-scores of all the classes."
   ]
  },
  {
   "cell_type": "markdown",
   "id": "747bd0cf",
   "metadata": {
    "papermill": {
     "duration": 0.006082,
     "end_time": "2025-07-19T18:36:09.936775",
     "exception": false,
     "start_time": "2025-07-19T18:36:09.930693",
     "status": "completed"
    },
    "tags": []
   },
   "source": [
    "**This model doesnot ignore any class(positive, negative or neutral) and achieves the accuracy of 66.19%. Please let me know if you get more scores than this model. I'll be happy to learn.**"
   ]
  },
  {
   "cell_type": "markdown",
   "id": "4f1d91cb",
   "metadata": {
    "papermill": {
     "duration": 0.006063,
     "end_time": "2025-07-19T18:36:09.949204",
     "exception": false,
     "start_time": "2025-07-19T18:36:09.943141",
     "status": "completed"
    },
    "tags": []
   },
   "source": []
  }
 ],
 "metadata": {
  "kaggle": {
   "accelerator": "none",
   "dataSources": [
    {
     "datasetId": 989445,
     "sourceId": 1808590,
     "sourceType": "datasetVersion"
    },
    {
     "datasetId": 7895683,
     "sourceId": 12509482,
     "sourceType": "datasetVersion"
    }
   ],
   "dockerImageVersionId": 31089,
   "isGpuEnabled": false,
   "isInternetEnabled": true,
   "language": "python",
   "sourceType": "notebook"
  },
  "kernelspec": {
   "display_name": "Python 3",
   "language": "python",
   "name": "python3"
  },
  "language_info": {
   "codemirror_mode": {
    "name": "ipython",
    "version": 3
   },
   "file_extension": ".py",
   "mimetype": "text/x-python",
   "name": "python",
   "nbconvert_exporter": "python",
   "pygments_lexer": "ipython3",
   "version": "3.11.13"
  },
  "papermill": {
   "default_parameters": {},
   "duration": 25.702685,
   "end_time": "2025-07-19T18:36:10.776346",
   "environment_variables": {},
   "exception": null,
   "input_path": "__notebook__.ipynb",
   "output_path": "__notebook__.ipynb",
   "parameters": {},
   "start_time": "2025-07-19T18:35:45.073661",
   "version": "2.6.0"
  }
 },
 "nbformat": 4,
 "nbformat_minor": 5
}
