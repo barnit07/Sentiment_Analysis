{
 "cells": [
  {
   "cell_type": "code",
   "execution_count": 1,
   "id": "4e32bf09",
   "metadata": {
    "_cell_guid": "b1076dfc-b9ad-4769-8c92-a6c4dae69d19",
    "_uuid": "8f2839f25d086af736a60e9eeb907d3b93b6e0e5",
    "execution": {
     "iopub.execute_input": "2025-07-19T18:32:10.499012Z",
     "iopub.status.busy": "2025-07-19T18:32:10.498655Z",
     "iopub.status.idle": "2025-07-19T18:32:10.514644Z",
     "shell.execute_reply": "2025-07-19T18:32:10.513597Z"
    },
    "papermill": {
     "duration": 0.024931,
     "end_time": "2025-07-19T18:32:10.516375",
     "exception": false,
     "start_time": "2025-07-19T18:32:10.491444",
     "status": "completed"
    },
    "tags": []
   },
   "outputs": [
    {
     "name": "stdout",
     "output_type": "stream",
     "text": [
      "/kaggle/input/sentiment-analysis/data\n",
      "/kaggle/input/sentiment-analysis-dataset/training.1600000.processed.noemoticon.csv\n",
      "/kaggle/input/sentiment-analysis-dataset/train.csv\n",
      "/kaggle/input/sentiment-analysis-dataset/testdata.manual.2009.06.14.csv\n",
      "/kaggle/input/sentiment-analysis-dataset/test.csv\n"
     ]
    }
   ],
   "source": [
    "# This Python 3 environment comes with many helpful analytics libraries installed\n",
    "# It is defined by the kaggle/python Docker image: https://github.com/kaggle/docker-python\n",
    "# For example, here's several helpful packages to load\n",
    "# Input data files are available in the read-only \"../input/\" directory\n",
    "# For example, running this (by clicking run or pressing Shift+Enter) will list all files under the input directory\n",
    "\n",
    "import os\n",
    "for dirname, _, filenames in os.walk('/kaggle/input'):\n",
    "    for filename in filenames:\n",
    "        print(os.path.join(dirname, filename))\n",
    "\n",
    "# You can write up to 20GB to the current directory (/kaggle/working/) that gets preserved as output when you create a version using \"Save & Run All\" \n",
    "# You can also write temporary files to /kaggle/temp/, but they won't be saved outside of the current session"
   ]
  },
  {
   "cell_type": "markdown",
   "id": "1ed69236",
   "metadata": {
    "papermill": {
     "duration": 0.004787,
     "end_time": "2025-07-19T18:32:10.527028",
     "exception": false,
     "start_time": "2025-07-19T18:32:10.522241",
     "status": "completed"
    },
    "tags": []
   },
   "source": [
    "# **Importing the the Essential libraries**"
   ]
  },
  {
   "cell_type": "code",
   "execution_count": 2,
   "id": "59ba97ef",
   "metadata": {
    "execution": {
     "iopub.execute_input": "2025-07-19T18:32:10.538038Z",
     "iopub.status.busy": "2025-07-19T18:32:10.537695Z",
     "iopub.status.idle": "2025-07-19T18:32:14.032175Z",
     "shell.execute_reply": "2025-07-19T18:32:14.031327Z"
    },
    "papermill": {
     "duration": 3.502678,
     "end_time": "2025-07-19T18:32:14.034580",
     "exception": false,
     "start_time": "2025-07-19T18:32:10.531902",
     "status": "completed"
    },
    "tags": []
   },
   "outputs": [],
   "source": [
    "import pandas as pd\n",
    "import numpy as np\n",
    "import matplotlib.pyplot as plt\n",
    "import csv\n",
    "import re\n",
    "import nltk\n",
    "from sklearn.feature_extraction.text import CountVectorizer\n",
    "from sklearn.preprocessing import StandardScaler\n",
    "from sklearn.metrics import confusion_matrix, accuracy_score\n",
    "from sklearn.metrics import classification_report"
   ]
  },
  {
   "cell_type": "markdown",
   "id": "d804f7ce",
   "metadata": {
    "papermill": {
     "duration": 0.004802,
     "end_time": "2025-07-19T18:32:14.046714",
     "exception": false,
     "start_time": "2025-07-19T18:32:14.041912",
     "status": "completed"
    },
    "tags": []
   },
   "source": [
    "# Reading the input dataset"
   ]
  },
  {
   "cell_type": "code",
   "execution_count": 3,
   "id": "1e37b3a3",
   "metadata": {
    "execution": {
     "iopub.execute_input": "2025-07-19T18:32:14.060644Z",
     "iopub.status.busy": "2025-07-19T18:32:14.059529Z",
     "iopub.status.idle": "2025-07-19T18:32:14.095827Z",
     "shell.execute_reply": "2025-07-19T18:32:14.094863Z"
    },
    "papermill": {
     "duration": 0.045654,
     "end_time": "2025-07-19T18:32:14.097685",
     "exception": false,
     "start_time": "2025-07-19T18:32:14.052031",
     "status": "completed"
    },
    "tags": []
   },
   "outputs": [],
   "source": [
    "dataset = pd.read_csv('/kaggle/input/sentiment-analysis-dataset/test.csv', encoding='ISO-8859-1', quoting= csv.QUOTE_MINIMAL)\n",
    "# encoding='ISO-8859-1' is used for reading files with special characters"
   ]
  },
  {
   "cell_type": "code",
   "execution_count": 4,
   "id": "41e5ac17",
   "metadata": {
    "execution": {
     "iopub.execute_input": "2025-07-19T18:32:14.109030Z",
     "iopub.status.busy": "2025-07-19T18:32:14.108675Z",
     "iopub.status.idle": "2025-07-19T18:32:14.126672Z",
     "shell.execute_reply": "2025-07-19T18:32:14.125779Z"
    },
    "papermill": {
     "duration": 0.025745,
     "end_time": "2025-07-19T18:32:14.128612",
     "exception": false,
     "start_time": "2025-07-19T18:32:14.102867",
     "status": "completed"
    },
    "tags": []
   },
   "outputs": [
    {
     "name": "stdout",
     "output_type": "stream",
     "text": [
      "          textID                                               text sentiment  \\\n",
      "0     f87dea47db  Last session of the day  http://twitpic.com/67ezh   neutral   \n",
      "1     96d74cb729   Shanghai is also really exciting (precisely -...  positive   \n",
      "2     eee518ae67  Recession hit Veronique Branquinho, she has to...  negative   \n",
      "3     01082688c6                                        happy bday!  positive   \n",
      "4     33987a8ee5             http://twitpic.com/4w75p - I like it!!  positive   \n",
      "...          ...                                                ...       ...   \n",
      "4810         NaN                                                NaN       NaN   \n",
      "4811         NaN                                                NaN       NaN   \n",
      "4812         NaN                                                NaN       NaN   \n",
      "4813         NaN                                                NaN       NaN   \n",
      "4814         NaN                                                NaN       NaN   \n",
      "\n",
      "     Time of Tweet Age of User      Country  Population -2020  \\\n",
      "0          morning        0-20  Afghanistan        38928346.0   \n",
      "1             noon       21-30      Albania         2877797.0   \n",
      "2            night       31-45      Algeria        43851044.0   \n",
      "3          morning       46-60      Andorra           77265.0   \n",
      "4             noon       60-70       Angola        32866272.0   \n",
      "...            ...         ...          ...               ...   \n",
      "4810           NaN         NaN          NaN               NaN   \n",
      "4811           NaN         NaN          NaN               NaN   \n",
      "4812           NaN         NaN          NaN               NaN   \n",
      "4813           NaN         NaN          NaN               NaN   \n",
      "4814           NaN         NaN          NaN               NaN   \n",
      "\n",
      "      Land Area (Km²)  Density (P/Km²)  \n",
      "0            652860.0             60.0  \n",
      "1             27400.0            105.0  \n",
      "2           2381740.0             18.0  \n",
      "3               470.0            164.0  \n",
      "4           1246700.0             26.0  \n",
      "...               ...              ...  \n",
      "4810              NaN              NaN  \n",
      "4811              NaN              NaN  \n",
      "4812              NaN              NaN  \n",
      "4813              NaN              NaN  \n",
      "4814              NaN              NaN  \n",
      "\n",
      "[4815 rows x 9 columns]\n"
     ]
    },
    {
     "name": "stderr",
     "output_type": "stream",
     "text": [
      "/usr/local/lib/python3.11/dist-packages/pandas/io/formats/format.py:1458: RuntimeWarning: invalid value encountered in greater\n",
      "  has_large_values = (abs_vals > 1e6).any()\n",
      "/usr/local/lib/python3.11/dist-packages/pandas/io/formats/format.py:1459: RuntimeWarning: invalid value encountered in less\n",
      "  has_small_values = ((abs_vals < 10 ** (-self.digits)) & (abs_vals > 0)).any()\n",
      "/usr/local/lib/python3.11/dist-packages/pandas/io/formats/format.py:1459: RuntimeWarning: invalid value encountered in greater\n",
      "  has_small_values = ((abs_vals < 10 ** (-self.digits)) & (abs_vals > 0)).any()\n"
     ]
    }
   ],
   "source": [
    "print(dataset) #printing the dataset to see if there is any nan values"
   ]
  },
  {
   "cell_type": "code",
   "execution_count": 5,
   "id": "c0434c9e",
   "metadata": {
    "execution": {
     "iopub.execute_input": "2025-07-19T18:32:14.141085Z",
     "iopub.status.busy": "2025-07-19T18:32:14.140397Z",
     "iopub.status.idle": "2025-07-19T18:32:14.149604Z",
     "shell.execute_reply": "2025-07-19T18:32:14.148794Z"
    },
    "papermill": {
     "duration": 0.017266,
     "end_time": "2025-07-19T18:32:14.151014",
     "exception": false,
     "start_time": "2025-07-19T18:32:14.133748",
     "status": "completed"
    },
    "tags": []
   },
   "outputs": [],
   "source": [
    "df=pd.DataFrame(dataset) #creating a dataframe named 'df'\n",
    "dataset=df.drop(['textID','Country'],axis=1) #Since column'textID' id not relevent we drop that column\n"
   ]
  },
  {
   "cell_type": "code",
   "execution_count": 6,
   "id": "04ccd0ed",
   "metadata": {
    "execution": {
     "iopub.execute_input": "2025-07-19T18:32:14.162328Z",
     "iopub.status.busy": "2025-07-19T18:32:14.162026Z",
     "iopub.status.idle": "2025-07-19T18:32:14.172107Z",
     "shell.execute_reply": "2025-07-19T18:32:14.171224Z"
    },
    "papermill": {
     "duration": 0.017318,
     "end_time": "2025-07-19T18:32:14.173505",
     "exception": false,
     "start_time": "2025-07-19T18:32:14.156187",
     "status": "completed"
    },
    "tags": []
   },
   "outputs": [
    {
     "name": "stdout",
     "output_type": "stream",
     "text": [
      "                                                   text sentiment  \\\n",
      "0     Last session of the day  http://twitpic.com/67ezh   neutral   \n",
      "1      Shanghai is also really exciting (precisely -...  positive   \n",
      "2     Recession hit Veronique Branquinho, she has to...  negative   \n",
      "3                                           happy bday!  positive   \n",
      "4                http://twitpic.com/4w75p - I like it!!  positive   \n",
      "...                                                 ...       ...   \n",
      "4810                                                NaN       NaN   \n",
      "4811                                                NaN       NaN   \n",
      "4812                                                NaN       NaN   \n",
      "4813                                                NaN       NaN   \n",
      "4814                                                NaN       NaN   \n",
      "\n",
      "     Time of Tweet Age of User  Population -2020  Land Area (Km²)  \\\n",
      "0          morning        0-20        38928346.0         652860.0   \n",
      "1             noon       21-30         2877797.0          27400.0   \n",
      "2            night       31-45        43851044.0        2381740.0   \n",
      "3          morning       46-60           77265.0            470.0   \n",
      "4             noon       60-70        32866272.0        1246700.0   \n",
      "...            ...         ...               ...              ...   \n",
      "4810           NaN         NaN               NaN              NaN   \n",
      "4811           NaN         NaN               NaN              NaN   \n",
      "4812           NaN         NaN               NaN              NaN   \n",
      "4813           NaN         NaN               NaN              NaN   \n",
      "4814           NaN         NaN               NaN              NaN   \n",
      "\n",
      "      Density (P/Km²)  \n",
      "0                60.0  \n",
      "1               105.0  \n",
      "2                18.0  \n",
      "3               164.0  \n",
      "4                26.0  \n",
      "...               ...  \n",
      "4810              NaN  \n",
      "4811              NaN  \n",
      "4812              NaN  \n",
      "4813              NaN  \n",
      "4814              NaN  \n",
      "\n",
      "[4815 rows x 7 columns]\n"
     ]
    },
    {
     "name": "stderr",
     "output_type": "stream",
     "text": [
      "/usr/local/lib/python3.11/dist-packages/pandas/io/formats/format.py:1458: RuntimeWarning: invalid value encountered in greater\n",
      "  has_large_values = (abs_vals > 1e6).any()\n",
      "/usr/local/lib/python3.11/dist-packages/pandas/io/formats/format.py:1459: RuntimeWarning: invalid value encountered in less\n",
      "  has_small_values = ((abs_vals < 10 ** (-self.digits)) & (abs_vals > 0)).any()\n",
      "/usr/local/lib/python3.11/dist-packages/pandas/io/formats/format.py:1459: RuntimeWarning: invalid value encountered in greater\n",
      "  has_small_values = ((abs_vals < 10 ** (-self.digits)) & (abs_vals > 0)).any()\n"
     ]
    }
   ],
   "source": [
    "print(dataset)"
   ]
  },
  {
   "cell_type": "markdown",
   "id": "ac95f854",
   "metadata": {
    "papermill": {
     "duration": 0.004736,
     "end_time": "2025-07-19T18:32:14.183568",
     "exception": false,
     "start_time": "2025-07-19T18:32:14.178832",
     "status": "completed"
    },
    "tags": []
   },
   "source": [
    "# Dropping all the rows containing missing values(nan values)"
   ]
  },
  {
   "cell_type": "code",
   "execution_count": 7,
   "id": "a4b5db4e",
   "metadata": {
    "execution": {
     "iopub.execute_input": "2025-07-19T18:32:14.195363Z",
     "iopub.status.busy": "2025-07-19T18:32:14.194444Z",
     "iopub.status.idle": "2025-07-19T18:32:14.207472Z",
     "shell.execute_reply": "2025-07-19T18:32:14.206364Z"
    },
    "papermill": {
     "duration": 0.020619,
     "end_time": "2025-07-19T18:32:14.209110",
     "exception": false,
     "start_time": "2025-07-19T18:32:14.188491",
     "status": "completed"
    },
    "tags": []
   },
   "outputs": [
    {
     "name": "stdout",
     "output_type": "stream",
     "text": [
      "                                                   text sentiment  \\\n",
      "0     Last session of the day  http://twitpic.com/67ezh   neutral   \n",
      "1      Shanghai is also really exciting (precisely -...  positive   \n",
      "2     Recession hit Veronique Branquinho, she has to...  negative   \n",
      "3                                           happy bday!  positive   \n",
      "4                http://twitpic.com/4w75p - I like it!!  positive   \n",
      "...                                                 ...       ...   \n",
      "3529  its at 3 am, im very tired but i can`t sleep  ...  negative   \n",
      "3530  All alone in this old house again.  Thanks for...  positive   \n",
      "3531   I know what you mean. My little dog is sinkin...  negative   \n",
      "3532  _sutra what is your next youtube video gonna b...  positive   \n",
      "3533   http://twitpic.com/4woj2 - omgssh  ang cute n...  positive   \n",
      "\n",
      "     Time of Tweet Age of User  Population -2020  Land Area (Km²)  \\\n",
      "0          morning        0-20        38928346.0         652860.0   \n",
      "1             noon       21-30         2877797.0          27400.0   \n",
      "2            night       31-45        43851044.0        2381740.0   \n",
      "3          morning       46-60           77265.0            470.0   \n",
      "4             noon       60-70        32866272.0        1246700.0   \n",
      "...            ...         ...               ...              ...   \n",
      "3529          noon       21-30         6624554.0         120340.0   \n",
      "3530         night       31-45        24206644.0        1266700.0   \n",
      "3531       morning       46-60       206139589.0         910770.0   \n",
      "3532          noon       60-70        25778816.0         120410.0   \n",
      "3533         night      70-100         2083374.0          25220.0   \n",
      "\n",
      "      Density (P/Km²)  \n",
      "0                60.0  \n",
      "1               105.0  \n",
      "2                18.0  \n",
      "3               164.0  \n",
      "4                26.0  \n",
      "...               ...  \n",
      "3529             55.0  \n",
      "3530             19.0  \n",
      "3531            226.0  \n",
      "3532            214.0  \n",
      "3533             83.0  \n",
      "\n",
      "[3534 rows x 7 columns]\n"
     ]
    }
   ],
   "source": [
    "dataset=dataset.dropna(subset=['text','sentiment','Time of Tweet','Age of User','Population -2020']) #dropping all the rows containing missing values(nan values)\n",
    "print(dataset) #printing the dataset to check if all the rows containing nan values are deleted"
   ]
  },
  {
   "cell_type": "markdown",
   "id": "da1082dc",
   "metadata": {
    "papermill": {
     "duration": 0.004958,
     "end_time": "2025-07-19T18:32:14.219319",
     "exception": false,
     "start_time": "2025-07-19T18:32:14.214361",
     "status": "completed"
    },
    "tags": []
   },
   "source": [
    "# Assigning different columns for X and y"
   ]
  },
  {
   "cell_type": "code",
   "execution_count": 8,
   "id": "6a326f9e",
   "metadata": {
    "execution": {
     "iopub.execute_input": "2025-07-19T18:32:14.230853Z",
     "iopub.status.busy": "2025-07-19T18:32:14.230497Z",
     "iopub.status.idle": "2025-07-19T18:32:14.239103Z",
     "shell.execute_reply": "2025-07-19T18:32:14.238123Z"
    },
    "papermill": {
     "duration": 0.016197,
     "end_time": "2025-07-19T18:32:14.240557",
     "exception": false,
     "start_time": "2025-07-19T18:32:14.224360",
     "status": "completed"
    },
    "tags": []
   },
   "outputs": [
    {
     "name": "stdout",
     "output_type": "stream",
     "text": [
      "[['Last session of the day  http://twitpic.com/67ezh' 'morning' '0-20'\n",
      "  38928346.0 652860.0 60.0]\n",
      " [' Shanghai is also really exciting (precisely -- skyscrapers galore). Good tweeps in China:  (SH)  (BJ).'\n",
      "  'noon' '21-30' 2877797.0 27400.0 105.0]\n",
      " ['Recession hit Veronique Branquinho, she has to quit her company, such a shame!'\n",
      "  'night' '31-45' 43851044.0 2381740.0 18.0]\n",
      " ...\n",
      " [' I know what you mean. My little dog is sinking into depression... he wants to move someplace tropical'\n",
      "  'morning' '46-60' 206139589.0 910770.0 226.0]\n",
      " ['_sutra what is your next youtube video gonna be about? I love your videos!'\n",
      "  'noon' '60-70' 25778816.0 120410.0 214.0]\n",
      " [' http://twitpic.com/4woj2 - omgssh  ang cute ng bby.!' 'night'\n",
      "  '70-100' 2083374.0 25220.0 83.0]]\n",
      "['neutral' 'positive' 'negative' ... 'negative' 'positive' 'positive']\n"
     ]
    }
   ],
   "source": [
    "X=dataset.iloc[:,[0,2,3,4,5,6]].values\n",
    "y=dataset.iloc[:,1].values\n",
    "print(X) # all the columns except 'sentiment' column is assigned in X\n",
    "print(y)# 'sentiment' column is assigned in y\n",
    "\n",
    "# later we use this X and y to train the model after splitting them into training set and test set"
   ]
  },
  {
   "cell_type": "markdown",
   "id": "70270e9e",
   "metadata": {
    "papermill": {
     "duration": 0.005299,
     "end_time": "2025-07-19T18:32:14.251508",
     "exception": false,
     "start_time": "2025-07-19T18:32:14.246209",
     "status": "completed"
    },
    "tags": []
   },
   "source": [
    "# Cleaning the texts"
   ]
  },
  {
   "cell_type": "code",
   "execution_count": 9,
   "id": "29ebcb8f",
   "metadata": {
    "execution": {
     "iopub.execute_input": "2025-07-19T18:32:14.264117Z",
     "iopub.status.busy": "2025-07-19T18:32:14.263758Z",
     "iopub.status.idle": "2025-07-19T18:32:15.452976Z",
     "shell.execute_reply": "2025-07-19T18:32:15.452016Z"
    },
    "papermill": {
     "duration": 1.197863,
     "end_time": "2025-07-19T18:32:15.454763",
     "exception": false,
     "start_time": "2025-07-19T18:32:14.256900",
     "status": "completed"
    },
    "tags": []
   },
   "outputs": [
    {
     "name": "stderr",
     "output_type": "stream",
     "text": [
      "[nltk_data] Downloading package stopwords to /usr/share/nltk_data...\n",
      "[nltk_data]   Package stopwords is already up-to-date!\n"
     ]
    }
   ],
   "source": [
    "nltk.download('stopwords') # dowloading all the stopwords from the nltk module\n",
    "from nltk.corpus import stopwords #importing all the stopwords from nltk.corpus\n",
    "from nltk.stem.porter import PorterStemmer # importing PorterStemmer from nltk.stem.porter \n",
    "corpus=[] # creating the empty array called corpus\n",
    "\n",
    "for i in range(0,3534):\n",
    "    review = re.sub('[^a-zA-Z]',' ',dataset['text'][i]) #replacing all the characters which is not between a-z or A-Z with a whitespace\n",
    "    review = review.lower() #converting ith text into lowercase\n",
    "    review= review.split() # splits the ith text into words which are separated by whitespace\n",
    "    ps=PorterStemmer() #PorterStemmer() helps in stemming the text[for example it converts 'ran','runs','running' into the base words i.e 'run']\n",
    "    all_stopwords=stopwords.words('english') # store all ENGLISH stopwords in all_stopwords\n",
    "    all_stopwords.remove('not') #remove the word 'not' from the list of stopwords\n",
    "    review = [ps.stem(word) for word in review if not word in set(all_stopwords)] #select the words which is not in all_stopwords\n",
    "    review =' '.join(review) # join all the clean words separated by a space\n",
    "    corpus.append(review) # append the array 'corpus'"
   ]
  },
  {
   "cell_type": "code",
   "execution_count": 10,
   "id": "2acbc65f",
   "metadata": {
    "collapsed": true,
    "execution": {
     "iopub.execute_input": "2025-07-19T18:32:15.467632Z",
     "iopub.status.busy": "2025-07-19T18:32:15.467206Z",
     "iopub.status.idle": "2025-07-19T18:32:15.481488Z",
     "shell.execute_reply": "2025-07-19T18:32:15.480418Z"
    },
    "jupyter": {
     "outputs_hidden": true
    },
    "papermill": {
     "duration": 0.029041,
     "end_time": "2025-07-19T18:32:15.489625",
     "exception": false,
     "start_time": "2025-07-19T18:32:15.460584",
     "status": "completed"
    },
    "tags": []
   },
   "outputs": [
    {
     "name": "stdout",
     "output_type": "stream",
     "text": [
      "['last session day http twitpic com ezh', 'shanghai also realli excit precis skyscrap galor good tweep china sh bj', 'recess hit veroniqu branquinho quit compani shame', 'happi bday', 'http twitpic com w p like', 'great weee visitor', 'think everyon hate lol', 'soooooo wish could im school myspac complet block', 'within short time last clue', 'get day alright done anyth yet leav soon stepsist though', 'bike put hold known argh total bummer', 'check win', 'twitter tavern bore much', 'va weekend youngest son turn tomorrow make kinda sad get big check twipic', 'come socket feel like phone hole not virgin loos', 'hot today like hate new timet bad week', 'miss', 'cramp', 'guy say hi answer question yesterday nice song', 'go spiritu stagnent explod ego realis not great ok', 'stupid storm river us tonight', 'dead grandpa pay attent', 'need retail therapi bad ahhh gimm money geebu', 'go sleep', 'lame go make breakfast', 'that cool', 'hey peopl dont hate ground haha im sat eat appl watch death note anim', 'huh anoth scarepoint code sunday', 'look found http twitter com djt', 'ac fan doesnt swing way sweat hot humid day', 'guess depend want juri', 'resort eat mickey ds alon', 'faux gothi chick look sorri not go camden like pop punk jimmi eat world', 'ask twitter id sun sign', 'go', 'watch bodi lie good film', 'happi mother day mumm xoxo', 'realli need put laptop start get readi shindig miss twitterlov day', 'sorri least friday', 'feel sorri everi time print use like new paper', 'n rog never heard esti beat acum u tweet much', 'alway forget someth travel newark airport', 'left car walk home might need someon rescu petrol light flash', 'updat brett phone beep realli look wed stuff next five month', 'hi agre small children run happi not break tear', 'hope ur havin fun da club', 'miss old phone work good drop want new one birthday', 'think sg wonder', 'im realli sorri know wallah u feel life shittttttttt', 'not happi', 'watch acoust perform mood good friend episod miss show', 'oscil one', 'tire insomnia', 'thank ennio', 'total come get bring kelslaw hous', 'seem nice gener know stuff', 'u dirrrrrti oh pick hawk figur need longshot better bet car', 'almost got kitti yesterday work', 'realiti need check school time parti not tonight tho im go bed night night', 'caladesi definit nice peac way spend sunday got lil tan', 'still dont know would though', 'xo dang not certain okay', 'chang plan stay brandon papaya salad', 'dear rain suck gotta chang plan tonight', 'starbuck love eff school work later', 'cri whilst watch hollyoak need life lol', 'hi recov parti look forward excit bank holiday around diy shop life cant get much better sure', 'termin salvat', 'loss dumbfac not u u wknd wanna seeeeeee ya', 'enter registr detail everi time updat', 'monday wont abl love', 'ur cute fan dream littl dream kiss appear like dawson creek make flick', 'tgif right think broke toe last night bad foot', 'oherr soon plan parti saturday x', 'lamont yr young look dude', 'hmmm wrong link ignor tweet', 'cheat system green day ticket', 'traci berwick break achi breaki heart split way hallway', 'yep wish play dubiln', 'im ladi ladi move couch direct couch go', 'yay block parti bomb blockhead dave thank support nkotb', 'th februari', 'guess mom adopt kitti today month name corki', 'happi birthday snicker hope best day ever let go shop', 'thank work', 'lol man got hr iont woulda made wit ramen noodl v time', 'not feel well today', 'http twitpic com wp ear hurt medicin gum', 'berland lmao know know', 'gnight shar vega', 'underwir bra stick poke armpit', 'happi mother day', 'ye', 'call mitch im sweden', 'happi star war day may fourth', 'excit eat wartermelon bought day terribl not sweet', 'watch marley cri hard', 'take antibacteri school clean hand cant go loo', 'leav work tri decid return sunday afternoon monday meet noon uk time deadlin', 'haaaw well get class hope make', 'oooh sunshin patch sunshin gone time leav work replac rain vent', 'skype call billi webcam dont work', 'great studi time follow delici japanes meal arti tri get back studi mood', 'fml not car prohibit find job', 'lol sinc got twitter littl ago seem like load peopl set account', 'want see david cook', 'yeh', 'learn tat scenic way din plan go town somehow herd', 'want anyth specif want see puppi', 'yeah need fricken cell number ive tri home month he busi miss braddddddddd', 'toy stori trailer premier need comput back', 'ughh phone hp', 'hand made dan jenn sock blocker made exot wood one call purpl heart', 'yay break', 'bahah sadli not', 'alway champion leagu parti ti awesom', 'well not stay away kind surround happi mother day ur mom treiz', 'adel repli yet wait till confirm case somebodi might translat alreadi', 'that rough hubbi knee surgeri help end let us know result keep prayer', 'might go back much earlier expect bye bye bay area', 'playin citi villain wishin buddi playin', 'yep three thing good haircut abil listen valu not take serious', 'riley hack twitter hahaha', 'big sad face bing work iphon take regular mobil live search', 'like record sooth voic', 'man im sad school end high school might better', 'folk thought hilari told stori saw shirt wore tonight laughter night', 'absout best', 'oh god cri much watch guy bgt http bit ly xz', 'near daili exercis start show result', 'welcom', 'bout hit pmark make one final meal wit housem', 'get go home go work', 'vote cmt com', 'got home nice parti not tire yet', 'sunburn', 'job nice day not better', 'wish could go bea weekend', 'rupert grint boy ive accept tht fanci im certain doesnt feel not worth tell', 'love book', 'ok eye doctor guy take forev sit cold room jerk', 'im slow tweet cuas lost phone', 'well thank phone', 'would take photo stuf anim pretti funni', 'tweetdeck act realli strang hum reinstal mayb updat horizon anoth adob memori leak', 'tikcet want go', 'happi mother day', 'gonna hot today today ryan last day pre k believ sahm sinc', 'dream weekend awak', 'oh return supermarket doom find noth drink', 'yay miss naptim', 'group saturday littl bit footbal hour nap hour soccer basketbal tsu yogurtland life good', 'set new comput min love norton ghost', 'ahhh mommi got new sheet bed comfi', 'celest final sleep silenc', 'im im lazi thank god bank holiday', 'pretti dang tire chamber class nap', 'poop hog shitter', 'ye im full dvr like day ago lol swear didnt dvr would never watch tv', 'happi muthath day mom salut', 'hahaha alright', 'supposs support local economi lol good congrat', 'good know thank', 'flavor day', 'weather let morn ugh hada gd nite tho', 'listen condr scr got invit watch live concert june th munich http bit ly daxa postrock', 'e l wow bring back mani happi memori love band ye know show age care', 'cute pictur get fat lick bbq must found chop someon els', 'oh love sunday morn like mum made scrambl egg toast', 'hate work sunni boohoo', 'onlin http plurk com p stjdg', 'bundi day warm weather come', 'wonder cld make thing wors alreadi answer', 'dutch market agenc ask job applic appli charact less http www energ nl twillicitati', 'twitter spoil fun frustratingli slow couldnt even bid properli', 'chick haha complet agre', 'pack leav right', 'lol u head', 'go bed great night friend glad know feel class someon els', 'mani mine includ ahem shld known better back wldn miss mani opportun haha', 'nice leav offic sun still', 'miss soccer mom', 'garlic pill spider bite toe lol classic alway hungri u kill funni', 'sigh ah well mayb second email clear get approv', 'miss tweet joe time differ uk dont get fave support uk', 'came mind said adapt famili vocabulari', 'look forward bodi work today', 'watch ye man bahaha movi mess', 'sadli think know exactli put expir drawer thing life span less two year', 'much not unless one pillow end suffoc one sleep next', 'meet best friend first thing morn gym omg still shock hope get better soon', 'wow fast next soderl ferrer gill simon lost', 'yup theori great realiti beyond imagin also made plan not know vs fail', 'glad know ad display problem due firewal config yr offic phew', 'woot', 'like monday wish sunday caus fun day freak jam littl miss', 'http bit ly nack', 'wait last movi finish test screen ghost girlfriend past glass wine lolli bag hand yay', 'happi starwarsday may th everyon paintbal', 'must head back offic', 'st joe dirti', 'http twitpic com w k camp black butt lake', 'get messag add reciev soz new', 'hate life', 'sick stomach headach wish someon could come rub templ', 'natalya gotta tell what go call lost phone number broke blackberri', 'thought unfair ppl n got depress hater', 'cri real tear', 'brown hold onto one http twitpic com w eh', 'panchito burfday parti tonight wish kiddo', 'back town mac crash better', 'archi andrew think veronica', 'best thing life free x', 'miss mom today best friend even though gone sever yr still miss dearli happi mother day', 'watch blood veoh episod love music wish could watch live action not old enough', 'bummer', 'truth maxwel forget futur father children', 'http twitpic com jw racoon ate bread', 'sure let mom know fabul think almost mother day', 'stori glad not one babi terrifi think never come back', 'launch today teacher chang plan watch stupid move tesla', 'pleasant sooo rare time kill', 'thank ooh see read desert island http gd ys k great book', 'lol tiz good song', 'work internet shop think achiev goal upload previous set time keep go', 'anix bought cheesecak ice cream last week think good suck much take', 'caus frustrat buddi', 'wright thank return mack jam', 'readi sadden depress dull upset dread weekend', 'sorri lack tweet ive buzi new vid saturday', 'humbl best go work paintbal day soon fuel strip doubt', 'go bed cant take thiss longeerr maan u', 'morden richard not see get back good luck', 'thank realli appreci know hardest thing ever done', 'spent last hour sign yearbook miss guy', 'love everi littl thing', 'mobil stop reciev text messag stoooopid thing', 'hi simon let know done', 'amaz night favorit ladi friend', 'oyler poor littl woman smush head', 'fixin clean hous mom mother day', 'think peopl say save drama fo yo mama sure even yo mama wanna listen ur drama ode mother day', 'hey school hate place', 'got star pre wash fail rinc', 'sister law left prom look soo pretti tear around', 'follow', 'bought three book yipe read ten book summer thing', 'realli bore brother went get permit stay road jk lol feel like friend abandon except', 'goodnight', 'moon hiya hun not day dentist appoint ouch notebook feel sick', 'emili ahahha scare would work', 'need chang monitor', 'know dude run make jenni watch convers lol onlin much', 'vote everi day', 'not wale past quad want outsid fun', 'rock home macca sign petit big bang tour au lol', 'think food ate made sick feel good', 'eagerli anticip twitpic', 'lot task complet today first weclom new member canadamigo social network site www canadamigo com coffe', 'want stay bed day go work instead sux', 'chillen tri figur thing gettin drunk', 'yay doctor interview back doctor blood work', 'film carniv music video remind cherri festiv use go back home ahhh memori', 'siiiiiickkk dun feel good', 'propellerhead harddriv long got music repo back shape felt nostalg', 'gloriou sunni day london town drama school fight peopl sword protect romant structur face', 'feel sorri hope dnt cri nd time', 'would wish sever migrain would stop doc prescript arent work', 'full moon love friend famili b day wish came true addit gray matter one cutest movi ever', 'life would suck without kelli clarkson', 'revis exam', 'host next logi laugh bit realli', 'hi jordan gonna u know ur busi know ur probabl tire pleas reschedul nc leav us', 'joy feel like red lea', 'love think trek london would bit much', 'hey hey', 'think revis garden morn without sunscreen isnt best idea ive oucccccccch', 'miser feel like im gona cri sux', 'know delici miss germani like holland well use shoppin weekend lol', 'lol true mayb next year looov siggi rememb password mod thing cake', 'lol get watch hehe', 'hope great certainli spent enough time studi', 'btw download iphon sdk', 'straighen hair not go straight want bummerrr', 'need botox work lip go chang name angelina joli thought sad though racism', 'doctor laugh oh crane patient arkham aslyum work', 'morn great day school go', 'weird mood muahaz', 'congrat photo dre', 'sanctuarysunday thank join sanctuarysunday follow sanctuari peopl keep date tweet', 'done disneyland kid knock stop hotel bar grab grey goos tonic way peac', 'ok lol miss hope cramp get better know pain', 'oh good review', 'mileycyru wont let twitter keep say twitter capac someth bird keep come', 'extrem hungri thing hous soup like soup pout', 'hilari', 'love guy stand behind', 'bout hit sack got tomorrow happi mother day mom', 'lost dc hat', 'start video edit first spank movi mina ad next updat', 'effect podcast audio version book plu ad charm banter', 'sunni synday morn nicol later usual mommi got sleep', 'brows find everyth univers interior design', 'not tweet sixteen day miss fun though ingrid mon frak awesom bbq today', 'visit si fr joemar dito bataan frm camiguin sum ofcmat suppos meet saturday luwa', 'soo excit pasadena seminar find conferm email', 'ugh feel well sudden', 'want new phone seen much cellphon commerci', 'test theori right arm strum got feelin hum new tune', 'http twitpic com vuuy cool', 'school day exit amaz premier', 'ti use inde esp newbi like', 'gonna go see sister mount sinai least anoth hour', 'handl tg', 'back back muffin', 'relax work mother day oh well good day hope well', 'lasttt mondayyy classs', 'yup join nin access fun', 'walk work think sit bellagio time wednesday', 'unfair wanna go', 'download movi good day black sexi http tinyurl com ckmkul cool movi', 'ju got back run sunset blvd cuzin tri kill leg still movin sittin', 'aww sad miss see guy big screen', 'knooww hot water bottl iss whangamata without ahhhhh', 'eeeeep jealou work um u receiv viva broadcast onlin plz', 'thank much phaoloo', 'hotel thank', 'watch gh feel bad carli omg', 'rofl like hear', 'ok frustrat hella dust screen blackberri', 'anyon awak oh god die want go sleeeeeeeeeeeeeeeeeeeeeeeeeeeeeeeeeeeeeeeeeeeeeeeeeeeeeeeeeeep', 'long think next weekend open go hous warm parti', 'chang plan work insid bar tonight', 'thank follow', 'well good luck', 'work get quick bite eat kill wrist self address envolop', 'arghhhhhhhhh keep twitterbon peep', 'undervot go overal', 'make german appl slice nom nom nom', 'look like anoth night offic lol', 'tummi hurt', 'got hour sleep', 'anybodi els experienc pain slowdown facebook', 'lol peopl falcon boo one becca', 'realli need earn money watch pcd concert', 'poor pirat last wisdom tooth look realli peaki', 'mozzer cancel tonight look', 'wait aaron get town leav work booo', 'morn tweat tweat twitter', 'head home charli vet', 'wanna b malik take stage', 'go bed soon happi mother day mother ryan less week', 'bore bore bore wish someth tomorrow especi weather not fair', 'well even breakdown better act unfortun britain got littl talent', 'go leed shop', 'sadli view site due region restrict', 'hs still offic realli tire wanna go home', 'ali aj new album summer yay', 'day awwwww fun fam boo boo', 'lovelytrinket like way word rocki road', 'mexican coca cola bottl new favorit thing high fructos corn syrup sugar awesom old school', 'got peopl let skip sci pratic beco skola impt dont wast parent money nt fair', 'noth witti say', '', 'hi ho hi ho work go', 'thank hint http tinyurl com chtx e', 'u welcom babe kill show yuuupp', 'hey candi', 'never good stereotyp teen', 'love maitu n love happi mother day mama', 'sorri', 'want go singapor mother seem not', 'jb front factor x wooh contest timee', 'u go chicago', 'problem wih pizza ii love much addict pizza dot dot curv', 'tire', 'love breakfast mum yummi pancak', 'yay fun', 'thank us mami bringin sexi back', 'lucki awesom', 'oh god moth live power outlet actual powersquid', 'crave burrito boy larg halibut everyth jalepeno line hot sauc anybodi hook', 'oh time real', 'pay sale tax great even wors mom pop busi doubl pay busi licens', 'love much call talk fan love lot mitchel see u el cajon june', 'miss bed sleepi', 'woo two day till awesom gig one day till uni finish day gig yp', 'tv internet make catherin someth someth', 'anyon advic need', 'found mj mous flat dj cours none left size', 'dread hear even wors news tonight', 'whole follow actual peopl know write anymor', 'haappi bank holiday weeeek aah', 'thought licens store bc take away experi want provid', 'michael look like tire pic work hard', 'slept littl well lot whooop', 'say new layout cute x see cuti hahahah http plurk com p suqp', 'good night rob sleep well safe travel tomorrow', 'know suck data plan weak sauc', 'well make bed creat nois clean clean day long music smile x', 'bit new scientist week last week watership', 'dear oh dear', 'monday run fast', 'play old school playground still except lame got rid tire swing', 'happi mommah day mom http plurk com p stqya', 'cal work hehe mind gutter sittin doin student loan thing', 'lol could written would good monday week might catch x', 'surround offici niec nephew yet', 'cant wait dte michigan summer guy great look custom nkotb track jacket', 'nope fifth gener ipod classic like dumb', 'meet overr', 'love smell procrastin morn oder', 'consid nurs younger realli think could cope babi die', 'know definit go tri see weekend', 'nice', 'oh must gettin old mom use watch show miss', 'lol total made laugh made day', 'tonight fun', 'creepi guy walk dog fill creeper day', 'good morn took longest shower ive ever taken life like min shower woah lol', 'facebook', 'get drive dad airport fli vega wsop wanna go vega', 'franco made breakfast mom tri cut strawberri safe knife fb http twitpic com wsmw', 'http twitpic com w h better person send u feel like mous american tail ri', 'allergi sun wear short stuck advisori whole day bore except fun peopl make fun', 'thank know happi sad time know got right stuff', 'merchant agre teenag daughter spend money movi concert week', 'someon soon lucki recipi th tweet oh wait', 'good morn went bed feel alreadi morn goe fast go gym soon nice day', 'one governor one director compani', 'internet week longer', 'jesu christ meadowhal could better air con hot', 'listen p nk tunag tri teach cat danc think get back dancer next tour', 'sure', 'get readi work sun shine plu w e bgt tonight gonna finish', 'aztec mask harder thought u kno think pretti good job not artist', 'listenin old school new found glori hedro gimi high school band load besid home grown', 'kelli kelli pay bill kaden pay em want follow lol dosent get pay bill', 'want gooo', 'evryon come http www blogtv com peopl ginanicol spam much blogtv glitch might work', 'readi tomorrow mommi get gift mother day hope love', 'ugh fun concert screen crack phone fell', 'take backstreet boya put silk mc hammer pant sgt pepper beatl coat lame music smap', 'happi vstudio shortcut backkk', 'wait hear evp cuuuut pictur', 'head verizon pray pinkberri go make', 'await repli two project one cancel', 'coco still', 'watch belong love sister kiddin', 'hello ur saturday go', 'show spymast screen', 'well sacramento hope appreci rivkah sass treat well sit omaha pout', 'leav beach great day vicent need time togeth', 'got caught rain sand monsoon way home even though look like complet idiot', 'left alreadi miss nashvil back sunday', 'go bed cav game judg lol', 'busi bob jealou not sure even afford go meet john de lanci leonard nimoy', 'live countri govern alway circu show sad true', 'went twitter crazi last nigh p well that happen u got nothin ta clock da mornin', 'want chocol', 'http twitpic com ja r tell not love someon like', 'yep go better', 'fun', 'nose stud fell find look like head amsterdam today get new one', 'spork shall see', 'excel analog', 'good morn tweep busi not work way', 'lmao im joke mate', 'follow babi u said n da chat u luv ya goodnit', 'busi work must run traffic bad', 'got rad new shirt aunt made cool shini shini pink materi', 'awesom talk find true watch rubi commun close', 'f hour guess sleepin live room', 'hahaha nien ur soo smart lmao think good lookin wht gurli come home weekend', 'http twitpic com oz happen model', 'herebi announc employ happier alhamdulillah', 'juz regist cp twitter tweet wont go thru argh hmm wanna follow idol lyk away pc', 'speak speak', 'paid bill go mailbox find', 'could would requir today not duvet day imagin outfit wendyhous photo worthi', 'glad hear made hear place use countri look forward arriv', 'found swing set sale block home super cheap want kid one answer phone list', 'mani farewel parti sad see peopl leav', 'still piti come lamb though', 'got cup gotta come get', 'take take face robbi', 'reason wonder love', 'happi birthday ness', 'wow realli hope get better asthma suck', 'feel cousin monkey http plurk com p x pa', 'charli chocol factori mood johnni depp bed prepar hour wok day tomorrow', 'layer absolut posit div web compabl killer', 'hate left one slice bread left bag half sandwich', 'love random act kind laughter', 'gha work hope traffic clear time get', 'watch anoth episod jona better hannah montana much true', 'go meet new famili babysit wish still sleeeep', 'hi heather dont know saw messag april not twitter friendli', 'beliv one episod go', 'also watch famili guy onlin www fancast com ye total shill', 'know right poorpoor girl show put young peopl competit like though', 'not excit peopl reserv morn lovin halo right sure', 'wowi wooie someon updat twitter without remind not even mad impress lasagna', 'today anoth good day less extrem experi anyon fan watch season', 'go tonight never wrote back info im sososo sad', 'still not im sick sick', 'collin not sure understand twitter thing work', 'wat stress week ju hope everyth fall place', 'hubbi dentist readi hold hand get nervi potenti buy car tomorrow', 'aww got see st grade teacher last day retir', 'sure continu tweet conf call worri cat bee', 'lol made huge mess school shirt use charcoal stick art', 'b finish', 'bgt made cri tonight', 'gawww facebook slow', 'im cool cant wait hear stori xoxo', 'bird poo updat manag clean slight stainag remain tip', 'also convic happi danc told ador happi danc ever', 'day til nyc journey soon begin music babi', 'feel love pizza girl eat pizza everyday', 'way earli anyway nigth night love', 'say pleas repli dougi doubl dare', 'not either went snicker although enjoy listen rr beer', 'hey esme u', 'muahahahhahaha well mayb think crazi someth scare yet though', 'nope not drunk sometim think mayb mayb twitter would make sens ya know', 'today got pop shirt lovess ittt haha x', 'epicentr wheelock place tourist', 'perfect night best month life far boo', 'yayi help im english homework holiday', 'hi ya demi im glad ur back http twitpic com vuuy person love pictur haha', 'think tour england dont got see aweoms peopl', 'puke mouth brilliant respons pant http tinyurl com cy z top wrong', 'good morn haha read swine flu probabl not come pig peopl poor pig got blame', 'bum even one testimoni flickr', 'sorri feel way', 'yeah prom night craft good movi', 'flu not swinish one flu', 'go logan squar pretti sure shirt philli local tmrw', 'see floor make offer let know receiv call soon', 'send healthi heal thought mumborg direct', 'not prom ha chines ice chai old school pokemon good night', 'prayer famili dog mozart put afternoon pic http tinyurl com mozartdog', 'went short flight around geelong waterfront surpris well handl still exhaust last week meetup', 'keep prayer welcom back tx hope good safe flight', 'good morn scari world', 'back work audit away time make hard decis happi', 'ummmm comment lol actual not watch gh week', 'think u enough friend includ lol', 'zs nagi present http www nordugrid org manual html', 'layn hmm ur fav movi tv show', 'gonna first twitter caus amaz lol come canada would anyth see perform', 'thank face show photoshoot', 'worri bizarr find', 'sorri fail grasp mean', 'walker sadli go killumbu show realli want one want drive', 'morn lou housework im church', 'extrem happi see new track awaken featur indivib http www indivib com vibe php citi', 'hahaha n u', 'love mom happi mother day mommi', 'chill mcfli last night absoulut incred love', 'god asylum realli never get anyth cool', 'got fight kick bar least knock fat lip though pull anoth number', 'work mother day slideshow cake card balloon deserv best', 'earli bird get worm case birder get wit carnag', 'eat', 'thank hope good one', 'thank complet calvin appreci', 'morn everyon sorri go earli last night bad news felt total today new day', 'wow new googl icon suck http bit ly z jie', 'hahah best thank god terri laugh hard miss rememb race truck', 'tell peopl contact peopl', 'kill jasmin talk age', 'got awesom hair cut todayyyi look hottt haha homework', 'never alon think one care realiz alway one person care', 'someon sweet tooth die somethin sweet attack chock coat tini teddi could find lol', 'appl mous work shini red coffe tabl', 'commentari sad sad', 'yet anoth good weekend someon sigh man like boy', 'head strand goodnight', 'everi day life late feel ya girl', 'hiya look', 'aw stink sorri', 'tri recov broken heart yet nd rd time', 'ach probabl not label mi believ name use air bbc america', 'ha find thing googl came databas acronym dibb front seat aka shotgun', 'witti ye franc belgium good carnt beliv much traffic hit way back', 'comp slo w', 'didnt send text', 'oh mannn gonna tomorroww', 'unfortun not take repair shop replac', 'come vietnam make live show miley much fan love viet nam', 'guy could fun cardboard box miss alreadi bro', 'littl twitter mention snl', 'josi surgeri offici unabl procreat way poor medic babi', 'sign account polit websit could post comment work', 'nigerianboi thank jt also enjoy r u follow ill follow u back', 'mum lost grangemouth utter hilar total lost', 'sorri femal atl lone', 'feel aw new medic make nauseou', 'inooo arent wanna go meet kyle im obsess not fair', 'need bear hug im go camp today', 'could send california sunshin way', 'need present mom could anybodi help', 'weirton juli way north tippi top lol think southern wv folk like us much', 'learn use twitter', 'bad mood dont feel good bad one care', 'love much got hide spot gonna go check dataloung', 'tri one', 'your diabet dad might not sure still allow eat sugar throughout day', 'realli want sleep butmi eye let', 'check yourz rayn', 'slip on year sinc checker day matter fact torn black classic', 'ian go matine tomorrow plan least go expens night', 'less hour', 'know work bore prefer take life', 'gmorn hermana thank testimoni wonder post alreadi', 'ha noth man right mother day except take kid mum hand whole day', 'ahhh whatchu talkin babi hahaha believ youu heh actual life worth take risk http tumblr com xs qy', 'raid leader made us run drill practic switch', 'clang rock use right anyway accord comment appl gcc dunno public tho', 'unlik cierra look like poop today whatevahh lol', 'enjoy hanami picnic cherri tree park hope weather stay nice', 'comp delet half app', 'whin park swing victori mine right', 'well would seem enter nine individu without ssn itin ein accord appl hurray', 'like ten time better place xd beauti fun gold coast hot dog xd', 'whole bodi sore move hundr piec luggag last weekend guess visit gym often', 'oh kind', 'yeah quick use mm addi bought sat make even smoother', 'even look fabric unless need polar fleec worth extra go needl thread', 'pleeaaase come sun', 'ummm last night dm said good question', 'man realli sorri', 'watch jobro live chat not live though haha', 'wow tomorrow never see peopl kind sad', 'ncaa basebal road omaha south carolina hit run homerun dagger heart mason south carolina', 'send messag greg time answer ok still love goog luck move eri', 'honesti much sorri resist', 'oh ok alway wonder work top ear done dont think could get anyth els pierc', 'noooooooo anoth headach hope not migrain', 'pm today drag bore im get romanc book prob wont til morn night twitter babe', 'twitter fam hop back aim went ghost lolz sowwi', 'make good girl go bad', 'site republish blog feed often end higher blog googl search result', 'go dinner bb', 'hope georgia still wide awak hiccup', 'phone knew charg last night sigh', 'quit', 'oh ye level', 'babi adventur hour car lake ann mi admit cri littl truck pull', 'http twitpic com uyn need right absolut mindddd blow love much', 'frustrat stupid iphon need blackberri', 'woo got fast mobil broadband connect', 'realli want sporebat pet', 'still mother day lunch uncl hous nice time', 'oh ate pizza last night stupidli feel closer somehow', 'oh right sorri get ya still email wow cool', 'great time boston thank babi girl http plurk com p rplmi', 'bad homi', 'awak what breakfast lulu shingl ha ha ha', 'good morn everyon', 'love one especi shoe anyway gmn punya acc lookbook ya http lookbook nu look', 'shake shake shake shake shake', 'rain', 'good morn world', 'hope everyon great week let know think im crazi hate coffe xd', 'back br', 'time put weapon charger night sleep tight', 'use tiffi comput feel differ mine touch differ', 'happi mother day mom sure heart mankind', 'still talk', 'want crimson gem saga go play rf guerilla demo repeatedli mission fail die mani time dick around', 'lol great movi', 'b last v tomorow live appl n not caffein n cut chocol bye bye choci', 'awoken loud bang continu day good thing got earli rest last night', 'let go', 'feel realli sick', 'heck yeah jandi timsamlak rawesom', 'internet ju cut bout shoot sum guy eye kandi', 'u school today', 'not broken monday mean monday fix http blip fm jgio', 'peopl work stress', 'rt heart past day etsi boo hoo total', 'love sister brag tire spell bowl right haha ok', 'never trust someon els batteri oper power tool hurri', 'lol tweet funni met calgari awesom wait next hp movi', 'work still recov amaz beauti weekend mention incred friend', 'smell cigarett alcohol least like', 'done internship', 'rip offic edward may god continu bless famili wit cop kill cop seen thing happen wire', 'invas old ladi end still clean not go abl make tweetup tonight', 'current goal lose pound next tuesday come soooo readi gatlinburg', 'best friend bought someth realli want', 'depend goal much want spend cannondal special cervelo good brand', 'phone mum http tinyurl com otdn u', 'tooo', 'net die yeah sad', 'anticip next ten day', 'dont know follow sme ppl e anoy bore note self unfollow peep monday morn', 'yeah start reach earli mid', 'get readi babysit', 'bad migran need go danc tonight not good combin', 'grind skyguard rep less aw anticip yet still aw last tabard need', 'dunno saw happi birthday girl', 'look forward see hear norway live fast', 'awesom', 'actual workin home tonight', 'want beach sun', 'oh tire', 'well dog still shelter hope someon good', 'well tell fashion tip need woman heheh', 'hello taylor miss month', 'wear lot white http tinyurl com dlbltg', 'alway good idea', 'rememb day big fan wesley realli felt youngster deal', 'get nail done relax benji hour away', 'not long hun head hurt', 'walmart play hide seek', 'whatev mean', 'sudden crave broccoli chees soup realli bad mouth water envis bread bowl head', 'wish peopl would notic', 'test work fine tweetdeck cool eh', 'wish babe', 'morn rode behind guy bird cage contain plastic tyrannosauru rex attach bicycl get photo', 'love summer oddli want school year end', 'lolz modesti kix rox gal line door', 'morn everon sing tuck turn light kept safe sound night', 'bother work tomorrow', 'kitten cute grow n becom cat', 'guess ol tom anoth mission imposs like tri prove innoc get hug', 'hey scare last night sever bad nightmar', 'gawd peopl still rememb pregger comment hate', 'oh tweetdeck malfunct il web fixd', 'heeeeey abandon twitter momma dot', 'yeah freakin suck', 'villag may fayr bag pack readi bring back home made goodi', 'followfriday cuz ive never ad anyon followfriday either cuz got cool pictur', 'sooo tell lost followerzzz', 'thank repli cours realli explain googl found explan', 'look peopl', 'wish would see not eye heart http plurk com p sv bb', 'awwww got photo cute bunni', 'long day still mow lawn', 'shoot mile', 'long sinc talk let alon seen make sad', 'happi mother day mom', 'want cooki breakfast luckili adult', 'mow hate lawn', 'shouldnt reset work right first time someth', 'yeah left caus pc run client anymor thought would new one', 'feel bad profil pic', 'capon island day summer start', 'movi sleep today good day h ff', 'plane go littl ride mtb monday may tower', 'fiesta hous mouth hit password', 'live version much better http blip fm', 'paus button game life', 'black market materi right friend', 'get marri vega novemb elvi imperson happi', 'tri join chat site would not let sign', 'home', 'sing song film movi best', 'song make want cri', 'drive u come across aggress drive behaviour anoth driver u chase car tell driver drive', 'mediteranian kitchen oh well get right', 'wrong', 'total awesom see reboot crew nice', 'that good know bet look like', 'hahhahah realli made laugh loudd ahahahahahahahahah fuunni', 'wish could get pregnant', 'im tri fix doesnt ahi dio mio u good lol', 'hiya miss', 'play', 'realli sick', 'yay sunday maid came hous clean', 'thx robban http www sk game com match', 'thank jk love ya death', 'go al need check one store hope find thing look', 'geez wonder wrong peopl either need go run go sleep tomorrow fun day', 'parent busi make feel like realis got wors need see doctor sleep suck', 'g night jonathan tri stay realli wait till ur timezon much easier', 'prom rate irrit go bed goodnight', 'look everyon bad boy rank higher meghan mccain http tinyurl com oj mz', 'rain wanna see hair how everyon', 'ftrh ride home', 'english screw overal percentag x xii probabl adm test happen', 'want chines food realli baaad', 'download song http plurk com p rp wx', 'almost said grammer exist either grunt stop', 'gonna take good care littl babi gonna strong boy sure', 'ha lemm know find tho suspect lot complaint peac night friend', 'see shane dawson video', 'sad face', 'aaaaahhhh friday funer', 'alreadi miss', 'laura lp ok thank help hope respond sooner later thank', 'commish day atl fam saw updat net websit look awesom', 'awww suck also finish uni total mini housewarm ye work around schedul lol', 'famou dave mom hungri', 'would vote miley live ireland fine good luck sl n bye irish sorcha xxxx', 'home nite sleep pull bed maggi wish durden got find apt', 'oh summer begin yay fight cri stress start kid hr sinc got', 'feel deflat doggi', 'sad young love come end sooo cute togeth', 'omg realli sowwi p tire morn p lol', 'owww back pain hm walmart could get cupcak', 'believ guy gonna stay one day rio de janeiro', 'make boyfriend look differ cute matter', 'lol thx', 'work tonight http plurk com p x kbv', 'well go peac corp prospect', 'rmbr time torn night sentosa one didnt spit unknown fact abt', 'good idea remov old receipt tissu paper nonsens take pic', 'whatev', 'wango tango good night', 'not best financi situat moment beyond broke money spend soon earn atm', 'hello total go biggest shop center europ go shop togeth', 'fix openbox theme littl', 'sell laptop cheap anyon interest toshiba gig ram', 'recent experi anyth go fear might go indian food not good peopl not good', 'wish bum kinda', 'hey mitchel live get chanc call', 'look sunshin offic window', 'back sore not done jump last night', 'work', 'bride la mode pow wow first thing morn past weekend love wed fresh mind pic soon', 'got paycheck april bonu b deposit day rest gotta wait til mon', 'nope way stop put wiv', 'recommend return broken duck toy battei came person give may get mad trust', 'not much substitut variat ate much oof', 'beauti weather u sick babi tanapoli', 'oui mademoisel bare turn around day without bump one', 'flickr pic chester zoo danwtmoon post photo welcom chester zoo jockey http tinyurl com cq qw', 'woke watch jon kate plu eight tri pretend like still normail famili', 'e freak', 'dont even know lenaaa go cloth show', 'jane yay buti nagustuhan nyo isang bar lang enclos ko sa mail test matutunaw hindi next time uli', 'memori', 'yep noth worri', 'back work tomorrow whose idea go back saturday oh wait would mine fail', 'go start small like slowli higher stake', 'make videoblog', 'read evermor lynn viehl', 'wow storm power', 'get phone back week yeeeewww', 'back school daili show amaz gonna watch later think xd', 'breez yer pleas good day', 'musicmonday epic song light sound yellowcard http tinyurl com db ppm', 'hot cuppa coffe made milk fortifi monin irish coffe syrup bliss', 'right im peep hope fix twitter mobil tweet race twitter day fail', 'anticip meet tapan parikh appar wont pass nairobi head straight mombasa', 'watch armi wive alway make cri', 'product day', 'rest peac adam glenn epp gone never forgotten week loud da air ya', 'gotta love summer', 'mark go ok far b far reliev look like futur programm class', 'ala normal night monday quiz night', 'anyon go photograph today manag get macro shot flower bloom', 'buckley good morn sunni london sound like oxymoron happen true today hurrah', 'cool fantast', 'live stickam com itstyleryo come chat', 'right like cape breton coal mine lesson learn', 'ye quit rusti hope get back tune skill tim play guitar threaten duet', 'hey everybodi hah day cool got back walk dog omgosh send link pleas', 'srri im not interest right stay til caus tummi hurt im poop work', 'might not enough money colleg', 'lol woow okay not big deal', 'love leav laptop bed creat nice toasti spot', 'mean someon hit dog car lay', 'start tomorrow go book sam forgot', 'salt vinegar chees onion make breath smell lol', 'welcom ad alreadi', 'rose mornin miss danc time guess danc extra hard tomorrow', 'sorri hear dude prob much', 'discov numpi array hold valu type use manipul array number uncertainti', 'mayb take drink feel massiv hangov still not yself today', 'download tweet deck look savi', 'today friday realli hope read messag repli soon could not reach phone go work', 'whatev know like hahahhah', 'oh fun weekend friend gone mother made famili weekend', 'good morn twitterland happi monday', 'write report', 'thank timmi turn strep high fever', 'oh nice someth nice next week go madrid next weekend day', 'keep chill', 'beauti day not got first class', 'fabul get pic gmail act fool sometim u dm', 'yeah terribl cockatoo hardest live emot good thing found though', 'suck', 'ye', 'datti thank sankar ur wish', 'love wake think weekday realiz weekend', 'sorri bout cat', 'person join penileword', 'wash cloth type xd woooo', 'miss u still club u know west coast', 'love love love pot psycolog friday night treat', 'happi star war day may fourth', 'play lighter fire match grass', 'art would one awesom sauc', 'bucki ferret offici insulinoma daili prednison interview p doc today go back monday test', 'never pragu money first citi visit', 'coffe time', 'creepi first realli grow like cri like babi tosh die', 'realli son screw ill talk msn later k xox', 'wait good twenti minut one good night though', 'alway hope die see old one make sad', 'thank alen seem submit commun news error must prove', 'follow ruin twitter experi', 'blah car repair almost dollar shop around better deal', 'weetabix choco milk yum', '', 'sad lost anoth person close cancer', 'thank kinda bittersweet though', 'nutbar good morn twittertakeov', 'first time twitter', 'captain jack back', 'la ben dream make saddddddd want togetherrr swear get bawlinggg help', 'internet fast slow fast connect go', '', 'year old barbi doll still rock girl h ken bad either memori', 'weather make finger numb still wait', 'lol yeah ima mama thank happi mama day laker day love', 'done summer', 'geno hr ago would went pat neon light got lol drink south philli bar', 'http yfrog com xoxij fri bread good gave littl pinch lettuc ha ha', 'wow effect thank updat', 'got today also miss friend', 'catch read twitter n bf break', 'not right rememb fearless tweet seen fearless', 'thought dwell certain person', 'transit time tonight work night shift woke', 'gonna go work honey today excit', 'aww that bad lost though', 'new privat acc use close twitter friend', 'hate go onlin look balanc bank alway lot lower need', 'actual web work fine tweetdeck seem culprit sad done two diff locat', 'x geo isu go swear wors day ever', 'could empir dirt e dad freez fulli shiver everi els warm fone allow ff', 'tell think pride prejudic zombi not hype sugar', 'tdh instal rubi gem rail keep pleas', 'ultim train look forward sunset', 'go work great day atleast get commin wahooooooo', 'good see back sorri happen', 'st mother day tomorrow', 'said darl happen fall asleep carri home cuz know goodnight twittererer', 'clear whole offic sign next place truck yet fulli clean back seat lol', 'not gonna storm said', 'broke ipod', 'bank someth must wrong found juli harl sil book want', 'haha state pride import', 'ugh say friend might swine flu omg', 'haha problem fun', 'final got wash hair feel much better gotta dri effffffort', 'final feel back swing thing work get marri last week sigh relief wed plan', 'suck booo', 'hate untal mean talent friend', 'look like rain weekend climb', 'googl map not work anyon els', 'oh', 'dont realli trust judgement vouch xo jk think becom friend', 'jesu heal', 'surpris much billi idol turn tweet monitor constantli not obsess anyth billyidol', 'werd true', 'birthday well happi birthday', 'without wing', 'tweet thought rememb see one cant see glad teatre ok', 'night twitterland x five hour sigh', 'happi birthday hour minuet haha', 'lunch break go back work', 'glad see typic bank holiday weather wise go much today yeah right', 'hayley william pretti much amazz', 'app said need later', 'noth', 'php websit upgrad hell bank holiday plan', 'not realli good night miss littl girl', 'miss captain', 'im send mother http bit ly aa rf', 'oi mock fact dont cri tv thing feel bad xxx', 'public get anyon follow', 'bring back everyon button access pt http twitter com public timelin link bottom set', 'bore talk lol not', 'know right guess oldest hold rank field trip anymor', 'sign hello twitter world', 'get rotf toy till much later tell anybodi worth get', 'head xbox go shop morrow', 'saw call cannot answer second hour phone convo mom stop talk', 'excit http plurk com p stk', 'hmmm realli weird idk one sowwi', 'oh look bore even bore exam saturday', 'practic beast today not go see julian tonight', 'get somewher first real kiokudb catalyst app yay', 'thank though tri posit wine may not help lol wish could make gig', 'think niec got sicke lame', 'rise shine time get prettifid', 'tri sooooo hard work home today fail not fault though', 'gosh stinki old headach mayb lunchfast', 'glenna bore glad beauti day maci went swim kri play golf sat home wait', 'bout drink imma head da hous', 'get suck true life steve documentari intens love nice see peopl get live back', 'love life ni night twitter', 'knew meant', 'succes follow tayla', 'new phrase never doubt mo william six game win streak', 'fun tomorrow night think fun bar art galleri wish could', 'th pleas not mayb get attempt win tomorrow', 'tri learn tweet good hope', 'bleargh never clean much hous want work matter earli wake today sink laundri', 'great social network site still grow', 'got paid hour could retir xbox live think rock band', 'learn not walk day sprint sprinkler without stretch', 'half asleep wrote previou messag greatest friend haha', 'still tri see star trek woman go alon bf pretti much worthless anyway lol', 'law chang could realli push bcaus gran bathgat us citizen b dad born', 'new follow pretti cool tweep check em', 'work today went shop relax learn toefl', 'watch arsen v chelsea today', 'get ear tube hour food', 'yay asap lol awwh miss friday night happi hour even luna del sea boy hahahaha', 'left base load', 'cowboy western seen good luck', 'alreadi', 'tri back document play along take forev back', 'test shoot later afternoon mention holland indi wine festiv week tongu red', 'dad know got drunk today didnt get troubl', 'excus love cav west even though share', 'lol could tri serious tho dont suck', 'wanna see rest saw like minut', 'happi mother day mom love', 'burn cd outa blank disc', 'new album truli geniu happi', 'aliv go w notebook make cri stuff', 'okaii cool wait seri begin guna awesom x', 'cri walk rememb usual', 'hav follow', 'happi star war day everyon celebr famili ok not celebr go round famo', 'also certain cd camp certain somebodi gave yeah guy video realli frickin hot', 'mother day', 'yay birthday sadli voic almost gone pretti good night', 'final hit friend thank', 'part religion call peopl good tast music celebr jona brother day', 'work bore mind', 'watch notebook', 'ye tax disguis book fee commiss onlin travel portal charg tri ixigo com next time', 'twitter gettin lil bit confusin twitterif twitdroid twitterberri underst txt bit tho lol ah well twitter cool anyway', 'final sleep time', 'http twitpic com l best kind gum ever bought pack', 'heater blew', 'tri fail', 'finish mine part remark difficult cram kanji', 'everyon tweet britain got talent feel left', 'yay mother day love mi madr', 'revers overdraft fee', 'n ne not good day', 'miss soulja boy danc', 'woke came realiz put much want need drop friend dammit', 'day left freedom realli want get weekend hate essay', 'lol guy awesom', 'home good night world', 'http twitpic com vtlm awww realli cute', 'got alot runnin around today get job app complet file glad got job', 'lappi charger complet dead conserv left batteri afford buy new one', 'well must say lucki guess mean chillin concert huh', 'happi mother day mom around world love mine anyth world wait celebr woo', 'put real pic go miss avatar', 'folio work keep get distract deb pic', 'sad border not guerrilla garden book otherwis love relax day', 'sleep find grandmoth quilt locket sick caus may lost somehow stolen', 'take bad dog pet hotel sad', 'hit sheet', 'wish ipod need jona miss sexi voic jb forev', 'watch gilmor girl rerun know els day', 'wow hot miser peopl probabl kill right', 'thank mama absolut ador', 'ohh snapp fun', 'sit wait exam start', 'think ever tri peanut butter toast', 'would premier avatar footag also better hang', 'home chelsea jam session chelsea abbi luh', 'visit grandpar later btw heard kati perri hook whew cool love k clarkson version', 'sweet haha like super proud new mom feel like got perfect daughter great mom', 'gosh im bore earli n wanna go sleeeepp work kay', 'sure fine not daft look sometim', 'ha give kristen plenti free hug sigh could', 'ye mac expens', 'hate cottag chees even got fanci stuff last weekend lemon berri could eat half', 'link work', 'need go bank', 'come estonia know epic hors hehe good trainer good beach ride', 'jona wow total amaz awesom', 'got laid stupid economi', 'http twitpic com plan ruin', 'noth better grandaught smile noth feel better big hug grandkid hoot', 'wake darl', 'oh know aprreci back plan', 'ye would love cowbel', 'umm ya mean ship', 'realli wanna go australia england', 'slept entir flight woke fact girl besid watch chitti chitti bang bang', 'gym sesh', 'tri get sleep mum blare le mi realli loudli sit room', 'think gonna abl go see jb concert wrong time close', 'sad panda hulu eleph show skinnamarinkydinkydink sing along', 'happen dm need txt phone defunk', 'word minut speech teen movi due wednesday blah blah wait glenn ball', 'gonna cri went bad histori test realli hate histori', 'got sleep anymor guess im not realli gonna go back bed im not realli sleepi', 'go work', 'agre whole holli thing', 'truetru not xd', 'sad miss go away parti due much work realli gonna miss kid', 'come conclus lemongrass chicken tast like lysol much lunch', 'one random phone call ever god kill', 'crimini cute http tinyurl com cd yab sinfest', 'neighborhood ga station gone kaput busi conveni trip ice whatev mile travel', 'tomorrow mother day n si gonna make onigiri mom gonna kewl cant wait tomorrow', 'make sad peopl phone sick', 'take care sick children', 'welcom life', 'event write song finish tmnt vs mmpr song excit record wednesday', 'yup way earli alreadi work', 'oh sweet definit check get chanc', 'youuuu aaass aaass loooool', 'want ride bicycl today cold cloudi today', 'import person', 'not said like though go steadi though', 'thank one day time right', 'miss mine not fun', 'via found geocach head http coord info gc ret probabl find day http bit ly js', 'let dream spock goodnight', 'e thank follow nice meet', 'danni cut beauti curl', 'god good', 'forc watch movi book report im lazi read', 'thank ami full hot', 'think take needl watch horribl gori short film drug month ago scar life', 'finish watch last star war', 'thank http blip fm z n', 'ars get bed hello sunshin', 'everi pair jean nowaday tight think mah butt gettin big oh', 'bought two top scarf yesterday sister success hijack morn wear breakfast remov tag', 'btw realiz profil pic make look much older say', 'aw sorri e hope look lame ear alway next year lamer ear fail uhh love ya e', 'tini cc seem load think go bat cage appar gotta book adv', 'chees onion vinegar tast weird crisp england got load weird crisp flavoru lol like x', 'thank yooou might get seen hm', 'ohh grandpa stabl kno detail til tomorrow visit keep fam ur prayer thank goodnit', 'sore throat not good four perform weekend', 'handwrit isnt everyon make fun im sit myseld lrc', 'disappoint talent lineup revent n super estrella hmm feel get tix time around', 'ppl year anniversari video http gd ysb come break', 'come merci btw alway inspir sinc teenag', 'crappi', 'freez cold cant function right type weather starv max', 'anyon ever heavi feel sad heart that case rite', 'haha sorri hear', 'k k close get', 'old school burnout lap around track like use nascar', 'hannah slept last night gave bottl went right back sleep lol', 'aww could would gbi', 'ate mani kiss', 'thank warn good thing heart unbreak', 'everyon place tomorrow bonfir tofu dog austin power', 'like stuff strang voicemail http bit ly ykxm', 'well done happi ya', 'ok ye infact chat earlier n b well', 'well bro', 'im sorri wish instead would give good excus get away hehe love', 'true form bank holiday monday look like might raini hope hold til later famili friend plan walk picnic today', 'call number uk realli want call u know xxxxxx', 'think fml chang lml love life', 'ha give spymast chanc curiou miss u', 'ah thought manag fiat fiat oh well shripriya shri one must shorten', 'love nd half even day orch jazz band daddi', 'tire turn internet play morn', 'watch wall e cute sad', 'happi star war day', 'got notifi podcast accept itun http budurl com sbit cours realiz miss format fix', 'heyi thnxx invit ur parti rob ill june th ill miss u u go itali txt hon', 'tire summer alreadi', 'mite articl trib bout portia keep eye', 'given pizza kid would never let fav hot one', 'im hangin cousin holli tlkin grandpar phone went dead', 'that great', 'princess sakura mine therefor want use tj grr', 'wish could teach dog play xbox ala thumb', 'clean room found http yfrog com b j took w v insist pay ticket', 'thank total bush today though time code', 'still make icon', 'gonna go bed night tweeter dont think sleep hahah nite', 'wait turn wii fit gym close', 'omg sun glimps cloud woohoo', 'haha yea feel like taken wrong direct use cool place mess', 'she must truli amaz woman phenomen son', 'nice clear head', 'think like casual attend instead review might not anoth issu felix thank', 'pic show boo pic site show not', 'babi need right right', 'umm get readi help mum give gj present get could wait peopl arriv parti', 'togeth', 'http twitpic com wuaq anoth prof pic', 'happi mother day mom', 'http twitpic com vw not gonna buy one two three ultim slaughter machin', 'asylm yay regist lost friend', 'church bellss ringin got go adieu god bless german', 'still feel like craaaap like everyon earth need know lol fun birdi', 'watch dor utv movi great perform', 'u watch spell bee contest winner kavya shivshankar impress perform not even hear word b', 'probabl not weather', 'relax much thing list realli not much', 'got messag twitter freak', 'wonder hate drive countri road stuff', 'head long band practic last one first show saturday night hope good one http digg com u miw', 'say happi mother day mom http plurk com p stezd', 'sorri hear news', 'place flown sinc move north realli pretti area fli expens', 'sad daniel leav florida gave big hug', 'mother day alreadi bought gave mother day present mother', 'best friend leav go back school today sad', 'hey us follow atl', 'pm perrrfect univers align', 'new nick name arosh like like', 'bore decid iron baju sklh thn realiz hate tht iron sleev hahaha im schl', 'trump casino vega', 'jimski book ye', 'ilook phone book ur name first show like got ti ti number ur email', 'ask karma point pleas http plurk com p wxnt', '', 'offici book seattl go best birthday weekend ever made sad', 'carter link doesnt work', 'awww mother day gone work today witht camera littl hope', 'guess get load email peopl ask stuff al time serious wonder ever read comment x', 'late nothin', 'ahh love chines music haha not gonna see luff til thursday', 'peopl peopl nooooo id never guess tht idiot im grouchi', 'see hannah klein lookin good today', 'aha mari brother wallpap phone dolli sheep aha lole', 'say wrong link cannot find address', 'know kitti profession', 'send bless', 'ahh ok enjoy miss', 'tonight tv view bgt hignfi reggi perrin wont tweet howev minic hidden ipod', 'mudweight haul last time http yfrog com zr jqj', 'disloc knee bad pain time ga air morphin fun though', 'cant believ alreadi monday weekend went soooo fast keep finger cross', 'barack obama legend watch dinner speach pretti funni', 'got whoop jason bradburi ace', 'ouch miami tomorrow morn suck cruis drive back next saturday', 'sadd last night fl go back ar tomorrow', 'accord mari chaayaa look like sexi emo dp not emo', 'sound awesom', 'well tricki one would say', 'school start june two day go still want l', 'still internet today', 'tbh credit phone sux cant even text peopl see happen like total grrrsvill', 'gahhhh homework masterchef half hour hahah recruit', 'month bad month tri get advert togeth kobold quarterli', 'concern famili', 'idk cant', 'get spam colleg email account way rub graduat', 'much tune word today thank', 'gonna get got bitten', 'sad miss call time got home practic late', 'im jealou im slave away store your chill boat', 'get bore routin lol', 'drink respons mean pleas share tip two drunk right', 'got earli pay bill figur like bandaid get quickli bad wrong', 'ooh work im afarid look forward sunni weekeknd tho', 'watch lowkey freestyl sell mixtap http tinyurl com dev xh perform norwich tonight', 'feel sorri besti good luck ali', 'need one think earlier today download pictur via usb evernot eyefi', 'put new consult work week good feel congrat offer', 'oh gosh want parti done alreadi', 'ive total not got job tell', 'snappi deliv tea ice cream love sister', 'eek wait see well everyon els gahh know want lol', 'friday freakin happi today annoy day buuut weekend tgif', 'yep awesom max haha', 'head pool around ish seriou garden go tweetdeck til sunday even', 'sick rig tomorrow', 'go dread dmv tomorrow', 'way nottingham icof tonight gig umtil download fail', '', 'jasper clip first favorit twitter messag', 'hey r u back la right ur favorit part bout europ never countri xcept canada xo jenna', 'handz quiet unfortunatli hell good chill right', 'wish could time xbox project tie', 'right trip', 'ember yay thank cover sad ang alist pleas', 'yay love host money breakfast jenna lee hr amaz pretti sexi jenna lee yay', 'gut kitchen empti liter empti even kid hungri', 'darn thought meant white sox', 'jtv gone minut alreadi show boobag without', 'got work take whole day great boss', 'poor lmao stick head window', 'etherr main preoccup etherr preoccup humm schizophren', 'dohh old never heard last year', 'instrumentalist like give singer hard time vocalist job toughest sick', 'got nashvil ihop staff hit dougi mayn night', 'miss matt today', 'shift go birthday get excit im turn mean im almost', 'feel tempt high volum jeep start acura wave', 'inorit humid well', 'head back home win', 'stomach hurt', 'good luck pressur test worri everyth great', 'realli wish could', 'conflict realli like mike still feel darrin realli complic know', 'cant', 'ye mayb today write', 'notic yesterday actual realli happi startrek', 'back frizz head', 'okay yesterday good went food shop cook chicken taco bake cooki back work', 'look photo shoot pic check myspac pic see love', 'walkathon morn among first arriv finish line', 'littl beetl not feel love search bring zilch bar peep appear funni', 'thank ye vaneta much appreci', 'bitter hug', 'went see hannah montana movi wiv jodi friday well good feel nasti laugh lil girl cri lol', 'http twitpic com saw famili five get motor home laundromat clean cloth bed', 'lol go easi use', 'quit peacock oceanograph choic new favorit play', 'yeahhh u got plenti great fan spain u come play gig', 'lunch alreadi ur lil late buddi', 'ugh noth valley serious gotta move', 'keyboard cat dead year play keyboard cat', '', 'delici let walk sometim hubbi other miss', 'sorri jj miss post make sure next time', 'deg c tech room major downsid lot heat help hot outsid', 'wow last hour twitter yet sent twitter guy bare w', 'squabbl peopl internet great tumblar bad ego internet friend', 'hun ye ye', 'leigh thank tri stay posit head space keep push thing end', 'exam commmmmiinnnnnggggggg', 'enjoy week work back next week', 'come tri find fan', 'hey know ya dont know want say yopu help lot iraq want thank', 'feel tierd much colleg work', 'mmm reconsitut meat product week old veggi gotta love rehydr warm milk breakfast', 'oh say aint', 'hope join find one', 'thank god overcast ivori tri get mom take lunch egh doesnt look like gonna work', 'cant thank enough nitin', 'sadli late traceycak got elsewher not still yummi tea w wee wknd', 'well piss get site work come thru phone', 'http twitpic com ar post guitar hero kick', 'dont like kde sinc ver like vista fail', 'woke make breakfast', 'http twitpic com fue formerli pretti car', 'thought hubbi deploy n got blue need stiff drink breastfeed booz ugh', 'need motiv life oh love would nice', 'welcom', 'wait start weekend sick work self medic fresh herb', 'itx credit unfortun', 'ugli gray outsid even san diego not cold get may gray june gloom us', 'know mean', 'cooki good', 'love happi birthday said sound like mixtur john lennon chrissi hynd jani joplin', 'griffith good atmo decid stay til close funni', 'support superfli way', 'would lime lemon deal sound fabul text back', 'make feel like use', 'start true franchis onlin mode dynasti huge madden onlin leagu not much', 'im troubl find realli yummi egg free ice cream favoriteicecream got recommend anyon', 'tea break cant wait drive home tonit', 'watch mock week slow cook', 'unfortun leav hous time', 'twub', 'da heck garag man get ask', 'k feel like need cri believ less year ill walk across stage get high school diploma', 'got ipod touch download app', 'hey hey happi mother day http plurk com p svwii', 'lol friday saturday lol im australia', 'alfradiqu fun well hope much go', 'night tri get bed earli well earli normal person', 'mother day love madr chel tonight cant wait see present', 'confer call hp gave invalid pass code attend', 'go sleep back hour lol good night', 'good place eat lo angel want tri someth differ today', 'fuze give away cape komen race cure today alway love hug hun', 'suppos get go find sumthin wear tomorrow get', 'yo woke groggili walk offic sleep lap', 'lab inform logic board dead well fark expens replac know mypowerbookg rip', 'hit view myspac thank everyon', 'still sick bout play ps till laker game start', 'second year not', 'eatin dinna herd tom bradi not movin fast', 'not readi babi tomorrow grow fast', 'woke morn think saturday', 'cd know heart realli tal think intro countri music', 'glad like took around half hour would less kept stop food break haha', 'last class one final tomorrow final friday', 'lao mein spanikopita haha would know', 'ps wish come tonight', 'hate feel like need break away everyon soon exam defo portsmouth bit', 'head hurt wait see new photoshoot', 'goodmorn everyon', 'think final thought kind cheap way', 'vivid dream last night croon away', 'long day dancin travelin celebr life happi mother day', 'alway one time alway late wanna sleep miss mere', 'want invit sick see link peopl play left', 'still send much tweet philippin tour pleas', 'miss puppi', 'abus servic manual follow manag pain love style', 'san jose good time w bro also help dad edit next holi land brochur wish could go', 'excit tomorrow gotta clean hous clean clean clean ahhhhhhh', 'fam well hope', 'blond keep fail driver licens test everytim stop jump back seat', 'come rochest nikki beer hog roast alway help', 'thank', 'slowli crunch realiti june fast approach word class anoth year ad age', 'guess r sleepin', 'put mohawk son head kill vibe alway', 'well get', 'kickbox class today pretti bum still go work hard http myloc zt', 'alon weekend', 'wish michou show right god life isnt fair', 'poor dead josh http bit ly jkphn pleas leav messag condol boy rip', 'watch rain reminisc time everytim rain love life', 'got sunburn coney island bike ride', 'hey get email yet', 'much hair fall everytim shower sad disgust http yfrog com p aj', 'pff life suck sometim', 'wish laptop charger could tweet faster', 'show time babi bye bye tweeter', 'chicken chip', 'waaah asshat cv yesterday shortchang paid chip', 'happi mom day spain last sunday hint first singl radio lym mini', 'nope kick habit year ago', 'not sexi tube stick stomach thank', 'earli morn first portmeirion home', 'listen david archuleta album amaz', 'aww that bummer', 'dont wanna im spanish today', 'missin ia guy realli', 'lol haha funnyyi lol im talk bestfriend ashleyyyi', 'yep good morn night even whatev xd', 'workk yay', 'certainli spring vail co rain snow mother natur know mountain close ski season', 'hameron seen alreadi link lj post', 'aww thank soulmat haha', 'car car car need one ha ha one found last night want bad sold not', 'joint w crazi thx hey trax heard er rear end', 'za thank man wait', 'fedex pizza cancel nyc trip later summer', 'start pack', 'best buy target still electrik red album loos hope never even heard girl', 'sent home yest work today feel like hell burn high temp got hubbi', 'great exercis sunday morn stop wheel karma r w transform neg love life', 'like startrek person feel startrek movi better xmen', 'ye ye ye lotsa fun cant wait dont like make shaun much front tho co ill get awkard haha', 'ur anti understood messag sorri left ur vote bnp msg end due space', 'thank kirst post run inspir', 'wanna crawl desk take nap nvrmind dirti', 'gonna go see sister mount saini least anoth hour', 'okay somepleas save watch ninja warrier eat egg roll last night', 'still bed laptop yep borin', 'happi mother day', 'look girl name easier look boy', 'excel point', 'oh twa brilliant idea say say idea woman', 'actual not far truth', 'good morn return willen island spring definit sprung http bit ly eyrtt enjoy', 'watch one fine day eat cereal start good sunday good movi', 'concord irvin ca', 'omg sore shoulder', 'welcom cuti pie kiddo pictur btw love shade', 'g mornin twittervil took day tweet n yesterday jones get back today', 'goin ta bed goodnit jessica', 'lmao witti wacko love', 'refus get excit want let happen long not june die', 'believ would believ bring horizon chill goe spine whenev hear line', 'xotashhh love day school one friday', 'u never sent carri ur miss', 'booooo senior yearbook suck thank memori bh', 'heyi terrenc u come school may th talent show', 'there much light pollut see star', 'sick n tire peopl steal peopl work', 'back bed', 'troubl view well tube reason', 'wasnt workin hour id gettin ratars point couldnt even see let alon stand feel', 'warmfuzzi friend', 'supernatur http twitpic com l realli miss', 'happi sunday', 'pleas let know allright de need know first wake littl enjoy cofe', 'well mayb someon care', 'awww nice', 'slave away work', 'us tweep forget call mom today', 'fml ran mile got scrape yearbook got math test eff today', 'haha agre test dummi go say whatev want alway love magic', 'dont work saturday suppos hang friend watch still hang jona', 'go tmobil need new phone g not work anymor', 'raaaaaaaaaaagh earli morn not even earli must leav work minut', 'go', 'ooo yuk that not good im retch tweet', 'mm film usual handl fuji oh met girl san diego kwento soon miss youuu', 'lol that p less ive got toward cruis', 'seiz bolt ya still stuck bush actual seiz bolt lame perhap heat work', 'hear song brighten someon day alway make grin', 'r tweet peopl oh right open houseofrock last night still bed', 'work canada shoot inform come way soon express interest email address eh', 'mr bate left', 'hate broken wrist pe next ugh', 'watch snl guess justin timberlak omg funni hahahah', 'last day cgi', 'say hi buy shot lol jk', 'thank play moment ago actual differ even chill version spooki haha', 'well bed cant wait parti mother day like hour', 'gonna mad hungri get home forgot money', 'guy come alabama suppos tonight cancel great seat', 'hey plz look http www twitpic com vd u think plz tell', 'bouvierb day trend topic ahh happi birthday pierr bouvier', 'http skipal com p png come apart easi enough', 'sadli brother told skatepark live bummer', 'tell x email pic officialshew', 'heao keen next weekend mummi', 'hate stupid boy arrgh', 'hi ms fussi wave', 'hope take quot person throw day guess shoulda wait bit', '', 'sound like great time', 'spell name wrong messag receiv http tinyurl com krw p', 'email pic ur labtop wana put one background http myloc ds', 'british expat tweet tommi giant sprout especi fli part sprout seaso http tinyurl com c kvb', 'im go work marri wud never see', 'weird mayb updat sent phone haha', 'http twitpic com jbwh sleepov nobodi stop camera hand', 'wish would rain', 'amaz day boyfriend good drummer', 'pansi wtf codeh', 'know extra hand comment would caus troubl upload hous music beyond vol', 'go know taylor dolton jacob chri sister', 'got back run feel grrrrrreeeeeaat', 'come', 'ye want keep go would', 'sunburn ouch', 'fun time friend beer pic http yfrog com agj', 'appear go home tomorrow not good thing', 'graduat ceremoni start realli wish could', 'hahaha omg got hr sleep', 'love make happi', 'thank send link', 'arrrr better half made brekki bed weather not gud black countri day let put damper plan bbq', 'wish u could rub head', 'hodg yup loss', 'sad miss grandma angi alway like rd grandma', 'ohhhh remind know not one send toothpast', 'love scanton farrr elain got cartilag pierc cute', 'wake pleas', 'would applaud self valid sort good theolog psycholog sociolog reason agre lighten', 'realli alumnu know mac yet', 'im sorri', 'rain', 'lol exam go mcast school finish form soo disappoint', 'messag teas isnt fair', 'way comment site unless member', 'ask sf schedul dahl mayb next time', 'ack read show horribl account tast', 'thx ur msg awesom luv new singl xoxo', 'urban outfitt taunt amaz cloth way expens', 'last week interview told fb queen glad see connect', 'gonna ask want go club hidden hous sat night hehe', 'head back baltimor tonight', 'well thx get earli morn meet wonder agre like get earli', 'write make sens', 'word count hand hurt', 'pop well feel lousier play', 'laugh loud bu read statement ethic peopl move away', 'play wish jordan knight', 'hi x websit soo cool love use thank', 'order new shirt', 'pretti soon gonna unfollow word cut quickli grow habit love challeng', 'omggg heard someon gonna die new season secret life american teenag noooo', 'cant find shoe hope bad itll get nite im happi', 'get readi tonight teacher dinner beach rain hate', 'got', 'know told didnt want stay home lie realli want stay home', 'not happi', 'gaba haha think let topic drop quick poll would settl matter believ', 'wish see clip show host hotti shawn ye still hotti', 'bright side school', 'must view pictur saturday morn mill time x', 'listen watch boy guitar hero', 'turn fast food', 'hate not get e mail go stuff ice toe long stori calpol cold soooo night xxxx', 'rockstar umm bout em aint get see da game see dey surviv anotha game da seri due notin lebron im guessin', 'hey tri callin u wont let', 'depress watch think danc', 'home form school long weekend ppl would happi im not im still mad sad', 'life excit today someon close mardi bum start rub', 'miss nanni', 'allison catch later terri', 'kyle codi wee bro', 'oh understand french well mayb exxager littl bit lol want least year exp', 'pea plant', 'think castl fun', 'anthoni prom', 'home day scale one ten feel old compar haha cute', 'move anywher long freak dishwash despis dish', 'im ok year old go drive crazi come territori guess', 'poor kella med ear infect lost food twice doc', 'ye right church', 'tri find someon go mall', 'dhellohannah pleas follow need follow haha', 'hm still workin contract hmm feelin aw', 'total forgot phone home morn', 'proud year old love carpent', 'feel sick stomach idkk whyy', 'work go', 'cute twit potugues', 'hey bud shot email', 'good yeah fine thank dread histori tomorrow not mood hyperact year old lmao', 'ew sorri zach', 'know im kid', 'http twitpic com jber aww wonder hate us later lol', 'round', 'hate bff groundedd boooooooooo', 'star trek imax huge screen still worth watch', 'ti sharonp', 'get readi see cousin graduat gonna miss em', 'shouldnt left', 'miss fun armi eclips sarmi sarmi sarmi', 'law renc head feel like surfac sun underneath beaver pelt', 'love drag hell yeah spend day studi plan happen', 'http tinyurl com c nlzh forgot much like song', 'aww', 'cup tea', 'wait youtub link', 'finish watch episod rubi metaprogram screencast lot cool tip great need code practic master', 'go twitter english foreign follow', 'citi tell brandon said hi', 'love site hoot realli enjoy hair cut thailand alway tri time ir right thank tip', 'not made work get feelin blurgh', 'heheheh u want torrent', 'way back home crazi night coast', 'throat hurt sleep', 'wow hugh jackman total bulk wolverin movi helloooo nurs dreeaami yup crush spirit mend', 'amr haha', 'im depress pretti day everyon either someth bleh', 'rain outsid motiv sleep', 'ok spent like soundtrack galaxi class starship eve onlin sigh', 'hey buck love u load love buck', 'wow bed comfi nap much short get work not want', 'exam haha remembrd china buffet king yesterday vair amus', 'hmmm dollhous sound pretti good http bit ly z azv think ima download tri watch', 'live usa would gotto go park aunti live nyc bronx grrr', 'nig get not without check lmfao', 'sftw pot tea', 'thank invit though', 'look absolut beauti eleg', 'brown thank much natali hope u well', 'pleas send youtub link erin watch cook get see cowboy', 'work unfortun', 'earli morn walki realli thing least vagu warm', 'get right think obsess hyde voic chosen guitar song learn summer time perfect pick', 'good price bulk sm premium sm http promot itagg com', 'head london meet let us know still not sure time meet', 'actual post show know happen overflow', 'wors fever sore throat cancel trip see littl bro fever sore throat', 'case gigolo picolo', 'yeah im okayi lot happen not anyon special moment', 'reconnect amadeu friend', 'yea head home chang head pelham sad thought supos head nkotb concert', 'black good tight say tight not good', 'aw say pic exist anymor', 'today lunch cuz wel embarrass self school ok final test final year aaaaa thanx god friend', 'eat chocol readi break', 'newsread fill blog yay keep pm ing blog site love read', 'test ymtumbkr iphon http tumblr com xiy qycvc', 'home alon one left gummi bear', 'back melli parti fun sleepi', 'haha yay cure', 'guess not type songwrit dream great one', 'know alreadi two week', 'sick sick sick suck even breath properli', 'ad name twitter account learn use amaz thing', 'ooh that earli start ive got bed plan time ha loveyoujonesi', 'allright pastor jiayou book', 'booo best friend leavin weekend ever without', 'oh god oh god oh god new supernatur start tonight new sam dean oh god breath', 'never around sl quiz want water park ticket waaaa', 'hey wife die realli confus myspac littl read twit', 'kind excit go school today dont know hope good day', 'rainbow unicorn film hour', 'keep read contract cataract someon bring panera', 'guess internet hous rais hand not dial', 'friend cancel tomorrow noth make sad xxxxxx', 'ugh n g bad', 'come today could go graveyard hoorayi', 'hair turn whiiit', 'unfortun not drunk enough lol money get drunk alot though u imagin haha', 'yeah prbli pickin song singstar check last store updat dunno cranberri song', 'tonight bad night', 'bristol ish love brunch sunday ruth chri good got sick', 'mom world congratul', 'better hurri label copycat', 'sooooo hungri right eaten wed', 'welcom twitter friend', 'happi mother dayyy denisee', 'ben jerri fail got email free ice cream say click redeem coupon click get error messag', 'anyon els seen dm notif email say repli web cool accent weird onlin', 'yayayyayayay toy stori come june though', 'strain hear hard way', 'awwwh u stuck traffic booo', 'fear not deserv alot care anim get food worri', 'live empir hotel free bottl servic rock connect', 'googl wave present http bit ly ehfov not impress nice not realli', 'bud kudo hardcor gym train great lifechang experi keep', 'brief interrupt brb goodnight catch u later gotta ck someth', 'still miss dont think come back', 'dude new star trek burger king commerci bud light burger king proud u man', 'mad hell someon stole pink black leapord print pump want wear today god glori bless abundantli', 'didnt includ taylor follow friday', 'got new silverstein cd aha amaz highli recomend', 'chri came exactli one hour mope around left end fall asleep', 'bum today', 'went cd store search cd', 'big welcom twitterlandz grrl realli wish could made betti show glad hear success', 'listen lamb god', 'spill chocol milk car', 'hubbi promis job promot move sign new leas n withdrew promot', 'plu deposit tax return chequ first time year clear immedi', 'love get gift mail wonder friend back home miss myrtl beach much littl homesick today', 'tomorrow go sooo awkward embarass light sound last night awesom', 'still feel weird ex engag mom made thing wors even want still odd', 'band hawaii sublim sound sublim hater move along http blip fm yy n', 'hockey fukin good hole xd', 'shop smart shop mart', 'ye meant anyth turn hirigana though', 'incred sweet good hubbi', 'caught tweet got home time last min itv show bgt tonight miss', 'lunch peopl aikido', 'bad come enjoy urself tho', 'watch et today suppos clip new moon hate drag hell', 'oh god liter drove rain hard see front shake', 'mi sausag', 'got sniffl got kid hubbi left work sydney weekend boo hoo', 'hous probabl resembl kind heaven mayb ciaran angel move henc inabl locat', 'good hear sever peep work tonight', 'hope', 'actual think upset lost data cake mania pretti far game', 'boo dlp sold', 'saw star trek amaz serious good entir cast excel spock kirk especi want see', 'aww miss usa', 'serious quiet lone without bunni', 'rotc brought climb wall work cowork tri climb want forgot climb shoe home today', 'ok break back book fun love http blip fm z da', 'down glass ginger ale relish earli even bed said lifetim', 'watch firework bay bridg', 'x yepp like dylan cole better', 'still freakin miss game jonasnewsong', 'yeah still total high soooo notlook forward aug sept', 'dang left rolando dinner leftov home knew put shop fridg last night left downtown', 'worri', 'sad go miss see pennywis year', 'haha thank shannon boat got first', 'watch love almost die mean noth', 'woke hour earli studi test', 'open hope shortli guarante though', 'work boo pin up play uncommon ground wednesday night p w devon ave chicago', 'got shower', 'back meet min', 'even ie would better', 'pinkwind thing vanessa dad sister made sn th grade', 'cant chang profil pictur facebook', 'lookd soo freak poor wee thing', 'omgood final back dinner fam bam', 'tri dl sim realiz pc meet standard requir need new pc lol', 'happi clean squeaki clean', 'chase shea fisher download', 'hmm whilst walk citi receiv inviataion suv limo via prom fellow date oh boy', 'sickkk two day sinc summer start suck alreadi', 'retro prom wish danc gonna miss great danc nite still blast drink', 'chose iphon http tr im kpae', 'got fight ryan he like cri im dead insid sigggh', 'adam morgannnn jumbo slice', 'bloodi poet matter', 'name label pictur hadnt ad took http www twitpic com hap pictur', 'still need see movi vampir', 'happi friday weekend everyon tgif noth', 'yeah seen funni hey honey jill sent box', 'jt snl tonight', 'studio ghibli year ponyo http bit ly whar alway seem perfect wait till august', 'go sleep tomorrow exam review', 'brian cat still shown feel sad sick afraid eaten someth look good', 'miss nate usual tonight', 'anyon got ffe account add', 'one groovi guy time shorti short photofollow', 'birthday tomorrow jack weekend', 'come never sleep past not good', 'snuck window im lay roof look star nice night tonight', 'download ton stun beauti wallpap www interfacelift com go look', 'one goe jimmi fallon justin timberlak doin gibb bro show snl http blip fm z vd', 'realli realli not bore bad know news that ok brb x', 'cannot relax practic graduat', 'patchouli oil incens surg popular mostli among devote free love hippi lifestyl', 'hi godd day eweryon im reel good mood day', 'whoo bgt realli must multi task art work time though back colleg monday', 'accord mick jagger hindu raga sf sort music', 'take big man type sad tweet like', 'better throw', 'go stuck seem misplac remot extra bad tonight well', 'big thank melodi gotta love sunshin lot vit', 'got babi g wach zi ladi gaga wear eh eh film clip pink love kay thank heap win olivia', 'hey let follow awesom', 'love shoe perez look fine alway oh ladi gaga say outstand', 'even pick n pop go dinner ta lum tum tum som tum major avenu decid go home not clube tonit', 'paper write til heart content', 'awww sweeti hope mom wonder mother day', 'yeah dude mike', 'great movi best welsh flatmat', 'got headach hard work today still not readi heineken tri finish', 'rachel go lunch baixa lot stuff wanna come', 'got gym w energi', 'im sad cant go make sad', 'go tri warm milk lactos intoler haha', 'pictur show', 'take mum jewelleri shop coffe mother day', 'bring hk loung tomorrow drink till pm kareok think nice sunday', 'oh complet forgot thirsti thursday oh gaga suck', 'wanna feel chin', 'haul vid photo slideshow fun http www youtub com eyezaddict', 'feel great', 'ahhhhhhhh get miley notic', 'coffe brew musicmonday morn listen fray good week', 'wanna jet mirag get hawaii either someday much love wockeez supercr w', 'finish yet anoth amaz book susan elizabeth philip god love book much one read next hmmm', 'c serious screw studi', 'well retir drummer drum roll need read post sinc take ton time lol', 'new twitter', 'tire heck wanna go home sleep cant caus im wash till daddi get work', 'surfin', 'see star trek sleep much action wind', 'got freakin macbook hoorayyy freakin delet phootbooth', 'ok exagerr twitter not bad guess', 'happi mother day tell ur mom awesom madr great exampl archuleta familia', 'good morn howev night time bed hug great day', 'know extrem happi chang world want anybodi els', 'get fab portrait readi upload today', 'dsl welcom', 'miss mom today made date everi year get flower togeth yr alon felt weird', 'hot room wanna go swim', 'got pool still box need level suitabl patch ground set', 'http twitpic com u ooo wish hot', 'new found respect know know konami code', 'work mo sunni today see band tonight', 'ace exam', 'sooo hot day put ton sunblock jog still think face burnt though', 'name jason sunshin work', 'took forum access away fail', 'lie last weekend said get upset fyi', 'hahaha guess reinforc skate haha rememb u r friend semi god gluten intol', 'yeah want know', 'day goe think im gonna write song still think imposs get true friend', 'omg meant perfect wolverin sir hehe', 'hang babyy', 'not yet earli', 'tron oh god whose tire', 'arab girl onlin everi one sleep', 'ate someth know keep tell thing food', 'good morn soooo tierd', 'n get', 'wanna tonight', 'go bed brain focu need fresh new start pray god grant fresh tomorrow', 'well noth flash differ chocol chang good meet u yesterday gr atmospher discuss', 'took antibiot still feel like', 'guy live citi pari u spend entir life trafficjam grrrr not use anymor', 'nomor adventur time', 'happi bank holiday monday tweeterama spend day yoga ocd attack', 'laura gone weekend miss alreadi', 'nutella croissant mango melon coffe love stalk iri breakfast bed courtesi n hous til noon', 'whuuurrrrr gland realli swollen guess weekend blow', 'spare time seem twill spent homework weekend', 'lazzzzzzzzzzzzzzzi monday bank holiday nicol u direct msged yet', 'yummi yum cha mother day mum dad arcel egg pant yuuuuuum http twitpic com w x', 'thing twitter could without http mikefrizzi com blog p src like guy', 'wanna bea well bea', 'lol catch u', 'stupid wireless', 'hahaah cri blow fuse typic move', 'spirit week tuesday make eight die later school wednesday thursday final sleep friday', 'http twitpic com nbd readi jona brother experi real brother not includ', 'saw thumb play virtua tenni', 'sorri parent come around gonna eat hous hunt richardson raaaain cheeeck', 'saw dooop bmw seri park top back bad rain', 'laundri time lot', 'ha ha thank not drag mountain today', 'great time mpix shootout great thank mpix', 'weather love head home via supermarket plan spend qualiti time knit tonight', 'sad end softbal season', 'women scienc technolog confer la jolla interest day met realli great peopl', 'well not gonna fit big long advertis', 'musem equal fail hall life close caus construct', 'join twibe visit http twibe com spin join not spinner know respect spinner need coffe', 'http twitpic com ymw gonna miss guy much thank make year senior school amaz', 'freya good night', 'rain doesnt go away stay bed week til mommi get', 'much enjoy what name articl', 'yeahh', 'hour till mother day parti yeah', 'arrr bummer want win', 'eat roommat cereal sorri bro', 'good news tooth', 'yeah behind classic cinema calendar make time go see anyway', 'aww littl girl britain got talent actual love ant n dec oh simon cowel', 'done class freshman year', 'amaz due time constraint could visit meadow pine forest shall post imag later', 'http twitter com friend page press previou page', 'wrong dr phil shame love show abl watch', 'love love say love', 'favorit spotter last tweet go phone', 'eeek come im soo excit see thursday', 'thank annoy', 'tire phone walkman work like charm l need better video wap realli thank yesterday buy album', 'biggest crush pink know aliv', 'happi mother day everyon', 'emerg radio iphon awesom listen johnson counti sheriff live scanner stream', 'thank much belat followfriday shout payingitforward', 'momma day may th forget someth nice mommyyi', 'brah u not happi', 'hah knock wood pc never crash yet laptop care stuff mayb', 'histori', 'happi birthdayyy hope awesom day see next last night', 'oprah guest ever saw one http tinyurl com x n', 'haha shave facial hair except moustach caus thought would cool made look gross', 'new delerium music video http tr im kpu mix tiesto guess bill leeb final forgot music root', 'alexand cours dinner wear someon els red wine', 'nice day like make miss alki', 'fizz realli not new peopl dunno em said tri', 'concert hope make guest appear', 'though lol work miss blah wut cha', 'keep tri invit think afraid', 'thank followfriday see us south african holiday fri', 'ahhh u know realli suck sprain toe ouch', 'juli', 'denomin librari everyth block', 'emoticon christian http twitpic com riq', 'good luck servic tomorrow wish could see guy vacat', 'hey sorri got last night', 'yo thoma thank follow social media director disney awesom like learn let lunch', 'gosh miss singer theater miss learn music act exercis n especi miss onstag', 'good episod top gear tonight', 'awhil ago freak hot wet turn', 'not sad tweet twitter not someon misspronounc word kto make fit card would tweet', 'ta babe know love curri', 'nooooo dont dare lol im gonna cri hair', 'not found thing look', 'sad pay', 'made vid prove skill deni step dad said disown post sowey', 'aww help get sweepi si say whip cream bed save u', 'perth ford falcon new ad receiv post hcc site soon', 'doneee wheeee hahaaaaaaaa tire sleepi peter u suck not come bday', 'monday morn bath soooo relax ladi luxuri would start everi day like', 'msn crash way much hmph', 'im angri right today im not doind noth classmat ye think stay friend mr comput hope not', 'social saw g awwww', 'hey thank follow', 'enjoy star trek pleas', 'babi god sad realli oh well life partaaay xxxxxxxxxx', 'sleep darn frustrat', 'want complet hypocrit attend r rate event time iron', 'hey write yet littl girl middl ride', 'http twitpic com wptj one prize mag book annual dunno other publish prolli googl', 'award first ever credit card', 'tt ridicul sweet', 'sorri hear', 'hey pretti good suck daughter exactli glad see not alon good luck mom', 'lester guess yester day think someth cop out', 'start account year', 'say happi mother day mom', 'yay particular', 'work watch later even though not', 'oh final msg review boardgam bookchas telli even get nice letter', 'stay afterschool today not friend tell em text lol likin us', 'wide awak scof pizza feel like sumo weak day run tomorrow', 'ill post', 'honor', 'man bore today not tweet guy', 'ye twin wontt watch', 'cut thumb saw small metal', 'love mortal combat right', 'sbarro dinner krispi kreme dessert mmmmm not healthi', 'depress ugh help', 'spellingi aw twiiter', 'snowbear final come congrat che warren', 'oh stop', 'start diet today think face never get back kilo unless cut leg', 'mmm pizza dinner yum burnt mouth though', 'screw fact post long updat twitter', 'awak hate sick', 'beat understand', 'inspir blog someth inspir haha', 'happi mother day everyon mother mother grandmoth great grandmoth women salut', 'hail thunder storm power keep go suck', 'tweetup loc recogn anyon outsid turquois shirt pleas see g c', 'awwww yur awesom mother keep good work', 'piss bluetooth headset batteri last cell batteri gg moto q', 'pleas get watch bb', 'ayi fml noth perfect', 'day start wonder kid cri kitti miss got back post sign around', 'love dawn choru noisier better miss church bell crazi know go cycl friend not', 'not sure real state market move confus either hold go ahead plan', 'know annoy there german say pleasant anticip greatest pleasur translat', 'friend request tomorrow blame nite', 'namast hooray monday undaunt wakeup consid london feel justifi bright side everyth', 'listen bust miss', 'great idea', 'want sleep xd song head make crazi dont know write song not hahhaha', 'would one plese suggest great thriller movi', 'denni shut winter mile get one', 'ye think unless chang sent u happi mother day text u never respond back', 'one kit brought mous eat lobbi sure feed enough', 'fenton didnt even finish clean room cuz went parti ahhhh still messi', 'didddd met', 'unfair good rock show happen b lore pune', 'knacker awak sinc sleep start work coffe toast sound awesom chri busi', 'care netsexor cam rout heaven howev lobster sound super good almost tempt go get', 'nevermind beyonc twitter haha', 'clair lol buy u big star war pant xma', 'ever turn part brain talk fun come', 'sabido nada de ti make bit sad must say', 'miss math trade', 'wellington monet exhibit casual bump wayn bradi hotel lobbi mega excit', 'bed girl', '', 'queen like', 'think blog list', 'go die tomorrow night', 'hell yeah miss u last nite lol u like opinion', 'nooooo work weekend', 'pair fring tuesday smell like win imo well', 'last schedul corn dog oc shift', 'final finish exam home not watch otalia pbp bpd otalia today hmm via http twib es cop', 'get readi day work till close', 'justin timberlak andi samberg mother lover skit snl great', 'want text first everyday not', 'yeahh two time stood next special time', 'thought id tan hour sun wrong burnt', 'song tay vid kati perri', 'work disney not crack ta', 'wtf rehears got space room book brother stuff right cant transfer anoth room studio', 'broken c', 'http bit ly sjnax say someth fulli understand pleas let know', 'not sure get tweetdeck work comput want know hype', 'mega burguer lunch yesterday', 'whoooooo gettin extra hour today afterward gonna see get marigold mum', 'bore cold tire letharg feel man great holiday monday', 'might also want includ never wear moonwolf', 'go ticketmast site say lisa william event found', 'hey guy sun make day gloomi', 'text friend bore gosh hate rain', 'replac iron ring arriv shini bit jag origin', 'shop', 'yup work recov anyth though', 'rearri rip youd never guess ate', 'well follow think interest right', 'love see', 'andersen thank eric glad u appreci', 'hour work cri surviv weeelcom wonderland sing along', 'anyon ticket mtv movi award guy scam', 'beyonc help day start get sick', 'fine ill get miso soup street', 'noth even miss lifestori', 'awesom ruin white cloth never rememb separ', 'weird wake bed slightli comfort miss group love use pillow', 'skip could get messi rofl', 'comput geek entertain think', 'miss', 'good sentenc', 'make peopl unhappi dun like unhappi', 'oh god look use twitter hopeless', 'studi econ test', 'problem think great thing reflect', 'yeah hope turn minut', 'see unveil new lr arrang offici event plan', 'iamkiara im sick fell last night outsid coz put someth bin', 'hear think layout either lol tri dont know long', 'yay got internet itouch work', 'nice elis roll tha wassup fun ladi', 'safe ride coast go even though windi smile cuz u know u better', 'sleep take two better work', 'wear glass today co right eye swollen know', 'lafff rain', 'love boy make happi look sexiest plain black boxer p', 'grrrrrrrrrrrrrr ive bare read', 'http tinyurl com ateltl rocksteadi pt ii', 'woohooo cool see knew u would get see', 'convent http tr im mlvw look great year go vega sound much fun', 'ye blame', 'pictur zack save bell http twitpic com lg', 'fix guess write get bore watch tv man lame', 'wish happi mother day mom', 'potter also categori hehe love much', 'googl mayb actual knew answer lol ps put uo pic alreadi last night im get anxiou', 'super excit bought tix see hey monday svetlana j denver co', 'woop right tri get sleep haha hot good nightt x', 'guy neither get better', 'tri fireflight first femal front metal awesom unbreak album would good start', 'how possibl rain forecast pinkpop ticket', 'not sure tweet busi simpl thing difficult', 'june chino hill ca day rain n june socal outsid grad move gym', 'walk street harlem home sweet home', 'rod stewart new song', 'like clarifi unabl acc review vibrat not testrun not invitaiton freebi', 'momma martini went food shop without', 'live small market deliv day old bread food bank time realli tough even', 'good morn friday start work week laker go take th w tonight woohoo go laker', 'realli tire work whole day tomorrow thought depress uncoooool', 'jame cameron touch someth revolution someon els come along', 'kno im sad evri leavin horribl im suppos b happi summer cant ima miss evri', 'nacho tudor think', 'good morn dan bday plan get exercis today love ya see nyc', 'found friend son fell ft shaft onto concret today aliv least know much els', 'tire sad', 'gone', 'fault', 'http twitpic com swx wish call malta', 'hardli work last two week lose weight fear lose muscl made doc appt injur foot', 'u say shoutout nikki pleas soulja boy tell em live live http ustr uh', 'hide berri like slave regularli today caught massa im def not light enough juic pour slave', 'diamond comp tition yaayi tomorow diamond danc best still montr al', 'sit wait go gym almost left realiz never charg ipod trip wisconsin dead', 'fighter christina aguilera love song', 'warm nice outsid suck stuck insid code', 'http twitpic com wu sunni day vivoc yupz shower run aircondit mall', 'know law rebel small thing', 'thank tweetstat confirm long suspect twitter keep way late ht http twurl nl oaerf', 'babylov em homenagem ao babi', 'go oxford internet institut sunner doctor programm brisban lack fund', 'saw movi', 'ur pic nice look cute oh', 'watch film recov oper', 'day comput end dang hate not allow comput', 'go kill wast hundr download realis got wrong one', 'guy follow rx twitterwar dd go ginoooo', 'school go absolut horribl today peac', 'http twitpic com wh x lucki jealou even though like much', 'sadfac', 'get feel go make wait get home tell deni vittl bww', 'hand oop complet forgot', 'problem least look floor see banana skin brain step almost got kill', 'dam miss hollyoak nite', 'relist fee complet sale suck', 'coach imho soft best keep chao straight http bit ly yufil', 'childish lol co one said pic jake earth made vomit', 'err think like buck ticket caus expens', 'aww stanley still got live like year right x', 'http twitpic com u h leon look supa fli mini couch', 'carter hey brian littrel doesnt realli like kinda page rigth kiss loev guy', 'go uga like better knew ha', 'troubl breath pain fever', 'feel deflat ugh dog', 'grant hey donna love see twitter', 'read someth happi', 'good morn rsa twittervers pleas send happi vibe cheer today feel littl sad', 'clonecloud actual distant processor provis like idea http bit ly b v', 'well nice love new friend organis', 'recess', 'reeealli wish could n goin late', 'also swirli flat white', 'post world pinhol day love pictur http twitpic com jb', 'oh poor atleast get paid stay back', 'ghunght mein chanda hai phir bhi hai phela chaaron aur ujala love songggggg ps got lost morrison', 'look sooooo pretti love dang wish ny could c u ur thang', 'lmao yep', 'aaaaaaaa hate winshit', 'ugh hate not car miss littl ford focu', 'everi mom mommi mother happi mother day hope someth special fun today', 'go work', 'soo love beyonc song smash', 'back pakistan http bkite com kbp', '', 'huge headach goodnight', 'suck', 'said', 'good time must sleep lol gym danc rehears like hour', 'trip realli great cant beliv summer', 'halla ok got cold tri ignor', 'tweet alli court last time sad sad moment', 'iddon blerrrrrrrrrrgh im hot sticki', 'dinner eat bangu fish', 'feel ill think im dehydr', 'biolog final today home prepar psycholog', 'think steph enjoy first mother day tomorrow', 'got home school assign', 'lt train today ehhh hard tall hard feel good sunday race day rain lost mud', 'who go see reemer wednesdayi kirsti go im well exit', 'miss u roommat', 'jersey weather good chariti drive', 'oh realiz well alreadi work today still car ask', 'sure would make mr koon happi', 'happi mother day valk', 'know im wrong give one chanc senti', 'would like game system', 'sinc hour tomorrow', 'rosaen love new bracelet im proud sista rock girli', 'go home enjoy left day believ quickli week flew time tweet', 'laze bank holiday law', 'potluck daniel take veggi tray miss', 'think cold get wors not better cant stop cough realli suck', 'time start unfollow peopl think', 'tix limbo usual upssuck', 'oooh gosh googl wave look pretti sexi lunch time though back powerpoint significantli less sexi', 'go b q new outdoor furnitur', 'sachi yna know password yet', 'interview pick ny probabl forgot blogtalk radio', 'hard time fall asleep', 'oh kasa pleas lose hair', 'im think bout life need bed fianc bed first', 'flat tire citi', 'hate exam first time last time school year yaaaay', 'hope u alright final', 'hey socialmediatv new record show viewabl later thank social media tv live http ustr njv', 'hello everyon im sit rock sam air best classic rock station twitter', 'schwarzenegg propos close state park http bit ly mhkz', 'http twitpic com wgp bambi eat', 'home pukey boy poor littl babi', 'amaz jockey saw clydesdal commerci love', 'let know goe babe good luck', 'good morn sinc quiet', 'amaz night drive', 'sam go shoot self', 'midnight ice cream weather bore', 'gun rose babi yay hopin would blip fm', 'kinda like not car situat late prevent particip due carless', 'sooo children museum close fund raiser got annoy', 'free good nite mean good nite wateva', 'pull direct not know go', 'senior alreadi', 'yea someon get best', 'clean day today run stuff set schedul week feel much better calmer', 'use yahoo pipe combin feed doabl reliabl guess', 'sometim spam leak messag board', 'odd lap mayb cat', 'cuz feel way', 'leav work go crystal search licens pick bia head vega ugh tire alreadi', 'final x men origin wolverin arriv time play game like mad man time review patrick', 'love album guy wait offici releas curiou top softsynth daw use', 'thank nice blog post howev given cred sinc done least half work', 'chirstina said she gunna twitter partner', 'yr cowork hog jukebox union jack', 'love much tay your amaz come denmark love', 'buy pretti shini bead thing feel quit girlish http elisem livejourn com html', 'enjoy cool breez beach help relax unwind', 'shuld danc like serious best thing haha see yu tomoro', 'stevi wonder gabe call sleepyp gabi', 'new orlean sinc katrina', 'cant believ alreadi friday omg done', 'alix graduat parti', 'bioshock fantast first time play sleep bioshock tomorrow', 'love song start think one knew one sameperson', 'swing get close', 'suck draw tablet', 'month left high school thank god readi summer', 'musicmonday nicest thing kate nash', 'need sleep', 'lucki e went jealou', 'late wake sun face not today', 'x glasgow', 'ha first request send paper copi thesi', 'not look forward drive storm', 'omg much fun watc hous bunni courto isa ledg send link', 'imma miss dem kobe nd bron commrcial wen cleveland get knock doe wer funni', 'thank man appreci rock sir', 'want new hair frank talk', 'want see badli', 'think excit guy move realiz sad see go', 'realli sorri becausei look forward thought itd fun u want hear iow u beer', 'not sick year omg suck bad sick end includ full restroom cleanup', 'song', 'work attempt keep squirrel away squirel jesska stick spider', 'shrug funni plu know enjoy tweet love', 'au fshionwk zimmermann illionar dhini gail sorronda romanc born lisa ho cassett societi love tutu balmain ispir', 'day crappi want cri', 'friend go jealou', 'sad leav beauti apart', 'still crave cheeseburg', 'dont say', 'cup tea cold tast realli good', 'never realiz good techmem actual read duh avid tech crunch reader much better', 'make full girl', 'heyi', 'radio royal transmitt pack today not good anyon got spare shed lol', 'lol wow good haha still believ mother day', 'saw cute movi pass place call peasant kitchen wtf name kinda sad', 'across water damn expens', 'guess gonna tri nap thing day sinc kid cooper yet week sure day differ', 'anoth week begin one got better last', 'im follow im follow im sorri ahhahah miss', 'bear like', 'ugh need job one hire', 'way back dublin omg didnt hit bed sleepi road back good ole dublin p', 'wanna work hour shift today rather whisper sweet noth earpiec ladi friend cellphon', 'internet draw back blackberri file could take hour draw prep done', 'make decis like alway choos black', 'suffer restless leg butt syndrom', 'hey next uk', 'hope nice relax day hope well wish best', 'got go work slight hangov gd nite thou', 'happi mother day vicki mother read', 'sunburnt arm burnt mouth skin come', 'stay home badass', 'realli bad one also classic', 'want summer sprinkl still', 'birthday weekend cant find ex hid dane cook ticket tomorrow wtf want birthday', 'voter paint peel skin mayb skin peel voter paint', 'wake n bake monday', 'say tri tri sword either not yet anyway', 'weekend probabl best still anoth day go', 'testfest weer een groot succ', 'pool today stupid weather', 'youremyheroin realli know feelin wish could hug', 'not get earli', 'go estonia woohoo', 'stjohn hope', 'meant look like tiger stupid predict text', 'finish play mahjong lost mag weisheng', 'new site stuck googl sandpit test skill come back', 'thank twitter', 'oh bore buut almost day til leav franc', 'overcom whatev dart enemi may tri stop gotta stay focus tweetz god bless', 'kimmeh miss howev humpthestump rest life', 'help feel today massiv michael jackson rumour day cue mj hater', 'made way round park jog quit pleas th outing', 'ipod die today', 'new van nice one', 'birthday girl hous tweet tweet sucka', 'finger hurt', 'follow new sanctuari fan see wonder sanctuarysunday good meet', 'old blue g slow code nowaday laptop borrow work let loung brows', 'ess sinc away come tucson', 'saw blink show tmobil parti speachless', 'homework ew fml pull nighter think gonna', 'u go lmk let go togeth', 'watch tini nephew perfect babi', 'happi mother day mom tough job total worth', 'gave tumblr api point privat account', 'oh insomnia hate bore stare ceil cano go sleepnow pleas', 'two clock pleas come faster', 'nooo know click tweetdeck manual blink air run sad', 'arcelay http twitpic com xvw got chase male chihuahua look like pregnant today black', 'walk home rain', 'ahaha that okay thank', 'u two fight', 'inde twitter mate happen enjoy hope see arou http twurl nl j xe', 'want say taylor swift hayley william great love voic', 'watch h got new photo myy room wait ulis get home', 'play skate two hour need get actual skate late', 'drive automat eject support disc ie cd r boot disc time applecar', 'omfg one worst day ever', 'love dreambear want best friend', 'rofl', 'louis bless ya know feel well', 'work graduat shame', 'penguin win ot probabl busi one game win', 'dang stuck fantasti pick', 'oh hahahahahaha serious tell wait staff look great time easiest nice thing', 'subway im go get subway love ate often new zealand', 'eh june th go sign th think x', 'design', 'green day boulevard broken dream hinder lip angel howi day collid nice song', 'watch snl love life host', 'made wish', 'listen maylen wonder cant pull mani cool southern metal lick', 'poor toni come play scrabbl facebook', 'awe', 'follow', 'love app thing hella awesom bro', 'ah gotcha well curiou hear thought wolverin actual went saw', 'need buy iphon good app work wi fi though', 'wanna someth tonight work dunno', 'car alarm immobilis make incred complic costli key code neither immobilis', 'hello twitterfon glad back', 'think follow follow stalk pleas', 'finger cross', 'awesom tell good might watch', 'mgm grand mraz stage doubl back open lot old memori flood back', 'not quit much hmmm product us not canada idk covergirl', 'almost readi new beta found showstop bug pleas standbi', 'hug', 'sister cri eye hubbi call iraq spoke n minut heard pop sound background call drop', 'hous sad look without furnitur air mattress night offici move knoxvil', 'uh oh becom grey hope not one pop shower way', 'girl know beauti price', 'gawwddd headshotss inna row im fyaaahhh', 'offici start end summer oh summer school', 'oh mann likey sadli not bein auction twpp tonight', 'ill catch last second', 'ugh feet feel like go fall', 'go bed go back korea tomorrow', 'hell ye late', 'perhap see twitter version pull someon pigtail let know work', 'advert make wish foundat find photo kid look close death good thing kid', 'hi isla hope', 'min till babi back work', 'need pizza get offic', 'bollywood fim egyptian tea', 'seriou cig crave head kitchen let non smoker weight gain begin', 'serious heartbroken', 'stick stone may break bone word hurt forev', 'get readi work', 'hey kevin yeah one gonna toughi sure not much sleep oh well hour go', 'oh rain sea world parad http yfrog com wvnpj', 'love pleas leav pink', 'thank answer wonder whole week', 'back time wish teenag wish could feel healthi rememb like feel healthi anymor', 'wish would say unfollow', 'nylana happi mother day', 'phase success self discoveri vital phase min away cool classi babi shout yeah mane', 'preet haha one mani reason love', 'alway welcom sweeti hug', 'last day tv front w colleagu sydney pari london', 'tweet wish could give biggest hug right sorri imagin pain must', 'bit earli want nice lunch good time', 'bit holli start cri', 'final home night dinner drink friend go sleep hope bed spin much', 'wow heather', 'time school feelin good jog good aloha', 'stop stay night', 'ju listen not okay nice lik thinkin abt thoma throughout e whole song luv ya', 'soooo disapooint make next time glad product', 'join twitter hehe', 'dubb curs igloo dweller', 'hahahahahahahaha hope hope like', 'lee lovee missss anni', 'oh ex room mate move today', 'awak still feel sick got blog done least http plurk com p x', 'take u eric', 'today felt much crazi digg new addit famili pretti cool', 'random night fun im chillin home happi mother day', 'agre come canberra raddest', 'skinni dip work colleagu mayb not never live lot', 'finish listen last day krypton audio book love sad though', 'rare treat b c rare ap em earli may make open bell pdx farmer mkt new goal', 'die get hand diagnosi murder dvd boxset peski kid amazon still deliv zimbabw', 'thank new first time japa dog custom twitter spread word like new custom', 'read follow ye rather simpl miss dick', 'new chic text say thank e mail answer question might need look newer chic', 'fur laxi make feel physic sick read let right one horrifi cat violenc horribl', 'good grief say much drive home martin ike last fall interest hear say', 'storm outsid', 'proper journo would agre', 'finish watch star trek imax could watch night live long prosper', 'yeah notic miss spender closer hold', 'mom came home final got guitar strap yay', 'earli mother day dinner famili', 'feel bad not sure attribut could cold flu med nap alcohol get better', 'hahah lab hr lab ba seem think similar way', 'pictur made cri lol http www twitpic com w', 'hooray', 'hit word mark geographi note not even gcse mean done page histori', 'bad start day sweat butt rang', 'hey everi yesterday prom best wanna go back time ima miss everi new pick soon myspac com risound', 'happen wierd sudden', 'head offic quiet stockholm least not sunni', 'ano pa bang aasahan ko sa iyo never fail fail', 'tha internet txt', 'fail assassin attempt loui http ff im mrim', 'think someth wrong video load first ish second', 'phone call yett hrmm mayb call end order wait bit longer prom night often spurat moment', 'im hungri cold', 'learn two head boy nutreal milk hotel', 'sorri neglect twitter', 'sit almost empti dorm wait jordan come take last thing say good bye graduat tomorrow', 'srod know nation holiday', 'want someon spend summer even whilst nice relax mood', 'hour til lunch wait ima go mcd', 'song fill ipod suppos hold', 'miss red rock sad coupl day', 'not readi school yet http plurk com p wy', 'jfc need rd graduat end get awesom hook up ftsk rocket excit', 'page betray p c cast realli start enjoy seri', 'someth area make tonsil swell everyday get feel slightli miser ff done', 'watch hella home movi aunt uncl miss day whole famili got along', 'sign night watch reader sure snooz point good night', 'soo honour u cld chk beat perhap sm advic wat nd improv da overal sound music', 'ohh forgot tell last night alton tower touch shark amaz nt massiv one tho', 'weird think may nd total chang crappi mood happi miss much', 'disloc thumb pain disloc toe remind today thank toe still feel weird', 'drive home trade car hope make http myloc sl', 'catt total love default pictur seem like fun mom', 'friday night magic last night lost bad suck draft', 'remmber time crisi tri iphon', 'yeah entir time swoon b c eye swoon think', 'write sinc pm word help edit write stop self oh also research', 'didnt know u guy acc fb hee', 'yeah last long', 'kid may th', 'hernia hurt way usual tonight way abl go', 'sometim feel like person world without iphon', 'sad hollyoak', 'anoth mobil monday back onlin two day never get back http tinyurl com ra ye via', 'thelma louis good movi', 'check http tinyurl com lra', 'iscool gb drive mb gb free tb extern storag perman connect home', 'yeah feel anyth rememb look loopt phone coughin', 'homieeeeeeeeee miss live last night hope tonight hit cuti', 'ya suffer whole day yesterday met dentist feel bit better still look like rocki balboa though', 'pictur never happen', 'sorri misspel twice alreadi im notgiv run http blip fm jjxr', 'ador', 'ok hit hay thank', 'carter video set privat', 'talk kat crappi', 'un cross pleas plan buy lambo summer next stop pitsvill babi peopl carrier', 'back work', 'babe around bore need worri', 'john sound like terrif servic sorri hear mom', 'freez', 'yeaa know smartier plu know real thing better lol', 'interest work care live sf anymor', 'good morn camper not happi bear morn aw dream night v worri', 'finish mow lawn', 'nearli ran pheasant drive lesson baw', 'son would freak falcon', 'day awww man nott', 'sad probabl never see fleetwood mac', 'glad littl prissi well obviou much love w treatment get', 'watch men n blk wishin mum happi mother day', 'hi good luck mtvaward im sure go win hope love work ha speak spanish take care', 'sweet swiss tobleron best come soon meet fabul rita chichest', 'got call realtor say anoth show sunday offer yet least lot interest', 'marri know get soon', 'absolut view section site know busi welcom guest post', 'aww bless haha cute tom', 'chanc blew suffer consequ gnite tweep', 'sorri mike assum music miss know mysteri', 'hehe nz magic place earth', 'play bejewl facebook want higherscor', 'hehe wonder wtf star war day top trend topic get may fourth also', 'god cant even catch public transport swine flu hous', 'beauti day shame got spend offic', 'new movi show franklin thursday night sever sla faculti attend', 'cold one work', 'hey gerardo late respons day talk bout forgiv brother givin wrong direct got way upset', 'chrystina grace timberlak ring', 'im bit tweeet yall later', 'haha know sorri typo last tweet blehhh ps said sucha cute movi awww', 'wow hurt way wors thought would', 'new friend hmmm tell', 'ac tix actual show sold get tix stubhub pay', 'name brand dairi even call semi sweet dark tri get helloveggi store', 'hour sleep mild hangov careless loss brand new ipod pouch', 'shop work time see ya laterz x', 'finish load aim guess get updat twitter messag kati arttt', 'hey guy work need worri tooo mani follow tho', 'bout go bed pretti good day monday', 'email link pretti sad uh rip jessi kitti', 'might broken text messag', 'thank keep good lad', 'bigman hey ive never caught enyon live', 'okay twitter suddenli chang respond messag', 'fell ef arm today back drive', 'honestli hate said ppl sometim sorri makin anyon', 'ask done live annoy human be tell mama happi mother day', 'think hannah', 'holi moley rain cat dog got snazzifi min salon mint', 'senior ball hella fun good night', 'yay good umm reggi perrin next oh care watch bbc lol', 'got live last night vid comin soonnn', 'nice see twitter', 'noth could get wors could think id verg kill someon els thing not good anymor', 'yay watch supernatur great way end hard day miss jess', 'touch real live cube hamilton dealership close sit though', 'look said someon actual dont dont ye ye ugh dont know', 'well dont resit lol last exam', 'watch pineappl express serious think use real weed movi', 'neck hurt lot', 'need get fever grrrrr', 'baha gonna find dont think took gonna find', 'glad someon slept last night doggi would take pictur see laptop', 'kinda noth life bore feel like chang look let go shop tomorrow', 'love game show suuuppper piss got cancel', 'readi work except arm', 'darl dd say mum best friend told tell said love ya moo jd', 'ok ermm meet gym half four', 'sun make happi shame work tonight x', 'sooo mad yesterday today suck much', 'good day sun littl bit burnt tho well actuali quit alot sore heh', 'lucki lucki friend nickleback concert atm wish', 'great dinner wonder girlfriend', 'thank marc jacob thou love limit', 'final learn think speak work wonder', 'monday morn lie bed instead work great bank holiday requir', 'oh ok thank', 'het r u finish clean pond u stay long u get wrinkl kid', 'home heck ima home soon ia', 'cake littl stomach bug noth seriou', 'definit', 'get callback play cri oh well guess back techi', 'week final rain not quit enough yet seem come garden happi', 'take bill keep chang', 'leav morn go mommi', 'gloriou week best holiday ever think want go home morn', 'pain big toe got stamp hokey cokey hurt much anyon suggest help', 'outlook not good', 'saw confess shopohol total fell love hugh danci accent need tomorrow new top want', 'got back kuantan sooooooo much fun', 'well good job two cousin graduat good luck life never wear pajama pant school', 'camel hill give plankton hilari', 'oh god sad day', 'eff nois', 'sweet good day', 'im chri cant get mine keep get error', 'glad hear st tournament soon ksn say need practic', 'sat alon whilst jay play phone', 'myspac profil ollld newsz need editeditedittt', 'slept woke ice coffe laze went late lunch bf sweet littl laid back saturday', 'what point wisdom teeth noth grr much pain look like chipmunk fml', 'haha scare', 'lucki mom paid everyth take shop', 'well not call comedyqueen nowt lol', 'wait email probabl never arriv ed later consti studi hopeless bum', 'miss u stop defend urself true fan u u best u chang ur biggest french fan', 'miss u like cotton candi', 'stay home school today doctor sooooon', 'alo sad quiet empti tonight', 'first surpris birthday ever best night long time', 'omg u nasti', 'p cull hand esp follow spam one nsfw link not click made cut though', 'wtf advertis gone mad want access camera microphon amazon realli know better http bit ly fokq', 'would cri littl wait mean mechan armi would pleas proper represent x', 'gooood morn', 'happi mother day', 'cankl sore', 'kuala lumpur know vanish haha broke last boyfriend back', 'haha good bet', 'oh emm gee quebec day excit', 'love use remot access use desktop laptop back emerg', 'jane hope go away quicker mine week count', 'cinema tonight half price monday', 'hmv shinjuku', 'babysit sun heat get lot freckl', 'tri swat fli buddhist magazin bad karma', 'whew go focu famili time swim suit shop rest vacay thank kind word', 'yo somebodi mother came club dress like go straight church club feel like go hell', 'r u yvonn seen u googl group day miss ya', 'wish saturday night fever stay lastnit whole thing', 'scare bruis', 'think dream howev memori suck mayb not', 'not', 'nope way home', 'aw song make think girl scout', 'ye tri post pic', 'god love quizz get phone im gonna facebook quizz', 'definit also want say perfect time favorit track serious made tear', 'hey jess josh', 'even care', 'wish weather would slightli less raini could use hot tub', 'rare sleep cant help hehe', 'rain go jog hous gym', 'matter', 'lol like challeng imposs want tri', 'ye ye especi wine mushroom ummm love mushi', 'soo stress think could possibl lose', 'current brush art scienc select good domain name domain year poor result', 'go groceri store empti stomach troubl wanna see ur show not sure ill get let u kno', 'bummer hope continu long', 'graham yerrrr samee haha way play edward thinkk mmmm', 'forget much miss tribe til limit access talk spotti internet countri long', 'say alright alright go alreadi sheesh well better earli late http plurk com p rpbd', 'took shirt back cover blister http bit ly vuixg', 'read book call gamer girl bad', 'yo happen invit', 'oooommmmggg prob busi slay properli hope stay ahead task week', 'short hour left go work', 'think read talk view not miss often', 'need good idea fast', 'got read downward make sens', 'yesterday today weekend back work moro', 'im right im vacat got workin', 'start twitter', 'come pup certainli near futur mayb beagl depend muss fatboy', 'break via second phone call', 'wanna work tonight', 'also happi mother day', 'thank love tattoo special feet one beauti', 'romant novel cri end go bed tire', 'know asham not watch singl episod new gh season kept fall asleep gave', 'close hope figur eat noth cooki week tho', 'burn leg x', 'realli awesom im mad cuz follow r goin take breath', 'jame go', 'time play drum', 'agre howev sell full brick motar store soon though hope', 'job camp downfal midnight show harri potter', 'eat lunch school', 'alway one joykil crowd hater', 'brother make banana shake yesterday made mango shake shake guy', 'work got back percent monday feel', 'u win u alway roll pass lol anyon take', 'let guess antiqu collect anywher els like', 'final beauti sunni day atlanta bad stuck insid work', 'thank iphon kept till', 'sure', 'well question blog post', 'omgosh degre sweat miser gonna visit atx need ac need ac', 'could call told person humili front whole twittervers', 'jlh lol special kind magic though see special discoveri think nessi die', 'miss miss rpt mrw oh well youtub sunday guess thank andrew', 'ju got hom fr tda funer sad cri much time much love grandpa never got say last goodby', 'lol great episod', 'fulli inspir write song', 'though cold would go away turn sinu infect keep get wors wors day', 'ali like wonder sunday', 'work summer', 'use last dvd r window iso next batch lightscrib dicsc want see work', 'true love brazil australia nitey', 'gettin readi hit mall w mom jayden thing w faith', 'focu sunday e game', 'ate much ice cream curli fri', 'tri get move morn', 'beag hate cat pee', 'last call', 'valium make feel goood need fall back asleep want mommi', 'http twitpic com wlpv whooooooooooooa ang ganda ko dito ha thank', 'jia', 'month back twitter', 'dammit need new cupcak tin', 'ahhhh sad', 'well glad not one mine bad resort pull old hairband disguis', 'even repli old tomorrow', 'im pleas hun', 'hey hey readi come oklahoma', 'liden thank follow tove', 'fantast time paradis drink margerita', 'rain outsid without umbrella', 'littl girl bgt omggg peopl not feel sorri', 'yup def swine flu think sausag', 'tonight cool', 'new articl http tinyurl com c mek let know think', 'tatiiiii', 'good day check hugh today also lookout best cassoulet recip ever tast', 'nice night golf', 'signin autograph would bore think get wast nite fun stuck work', 'possibl frown eat frosti', 'sad christian lacroix file bankruptci', 'stupid ipod take forev load', 'jessi gone away weekend miss alreadi', 'sit shadow tree heart citi listen panic wait bu thank wind pleasant', 'woke earli morn not happi bout headach dizzi breath yeh im still sick', 'nevermind kept read see ya r gonna williamsburg mind busi lol', 'finger cross neighbor sign up packag today otherwis may bye bye pretti skirt', 'alic know wear cinema', 'yeah yesterday turn parent rent hummer limo pretti cool', 'aww dont cri ashley', 'bring pokemon forgot home', 'go sleep not sleepi', 'love wish half could even name web design ladi', 'still recal help way back struggl ar contest question', 'great weekend ate much think look forward trip hobart friday th', 'hush stop teas', 'im wear certain tye dye tshirt moment miss counterpart', 'gotcha let meet twitt cafe', 'feel sick oh well reckon peopl bu curs anyway nighti night', 'take long fragment bone not heal major bone reabsorb bodi may need fix futur', 'happi belat birthday hun net broke first chanc get onlin luff yooooooo xxxxxxxx', 'think read strawberri hard fav char comic like bad rabbit stud chic sent kid', 'support total', 'mari justin timberlak sooo funni', 'get yer freak monday great one possibl great monday', 'manag stab piec bhuja hot cours roof mouth blood everywher well least mouth', 'love', 'steak burrito bowl right wish lazi go downtown', 'hahaha chivalri not dead rare', 'awww holli she cute hope let sing', 'omg twin sister fav song', 'move offic go miss hollywood', 'girl friend also drop', 'wed', 'probabl not kinda expens work peopl weekend work', 'shame freud follow implic', 'ye pool open weekend', 'alon even', 'might still eat drink', 'farewel employe tonight', 'everyon set away msn nobodi talk', 'skype u la nite', 'like rio ferdinand wear england jersey', 'truli sad cheap littl camcord shot crap', 'sweet nk dream love', 'obsess chri pine heehe', 'fear crept alreadi dismiss let thing right coz time feel differ', 'ugh miser look day degre summer go', 'bore realli know', 'woot go girl', 'twitterberri move ubertwitt suffer bb cach error', 'poetic great go keep come', 'thank stephen appreci', 'total got hit one bar guest ha ha yay', 'hate happen hope figur soon', 'miss sad get meet', 'complet excel dave matthew concert jason mraz open heard stay leav crush first time live', 'spoke cultur racker castl time awesom mexican food drink antibiot', 'twitz lol hiiii mayb lay patron bottl water', 'way home love long car ride', 'tiiiir cant sleep', 'greeeeeeaaaaatttttttt babe amaz', 'not well definit not hayfev', 'think recent job opportun hope get one gettng readi church', 'poor littl mth old taken hospit yesterday syring feed home want drink', 'graverobb graverobb sometim wonder even bother fun tonight', 'snl tonight go hilari', 'got see favorit guy back long island head back citi tomorrow monday boyfriend', 'tell yo mamma em axe durrin said happi mother day', 'want leav', 'http twitpic com xjl hour sun turn blancmang suck pale', 'aww happi mother day girli kingston lucki great mommi', 'oh realli hope good one tri get attent that', 'let check sir', 'bout knock feelin lil sick peac', 'yay play scattegori random joel may sherman', 'corruptedangel god realli realli christ', 'http twitpic com ofz ugh grosss', 'know not', 'like wat wat ha got go mushygushi peac twitter dude got gushi gram make', 'need hug cuz garbag truck men keep drive next whistl im work hard graduat', 'fantast thank', 'r one mine potenti winner think could quit easi code might sit', 'hour sleep last night bare function', 'thank usual learn happen get littl rest review note remind better get rest', 'hear scorcher back home got cloud back studio mayb lucki might get song done day', 'technic havent realli gotten bed think right gonna stay', 'yeah probabl stop stori complet finish though wide awak', 'nope year sinc happen like', 'tri twitter thing facebook final routin need figur twitter thing', 'see u next saturday mr', 'miss terribl', 'creativ choos next alia ad n front obvious not stealthi enought', 'tri repli back need follow dm mani friend common short answer', 'bought leica charger arriv doa call leica got transfer around left vm atleast rf misalign', 'oh yeah camera clip problem void complet fix yay fiddl', 'em hahahahaha sri', 'got twilight board game today good old ebay', 'law power robert green littl bit much anyon interest copi dm', 'real boy goddamit guh apostro feel sad librari ladi think stupid stupid j', 'run earl grey lemon tea instead whb', 'final made qc happi mother day got car', 'done good nite', 'one watch peep actual focus final alreadi', 'oh long rememb', 'download movi notori http tinyurl com u gs cool movi', 'want hang beth tenaya hubbi tonight jon want hang peopl', 'talk sarah lisa', 'tweeter mobil', 'hi wake not lazi would proud btw nice colour not burnt', 'seagul hate im utterli depress miss', 'want get super pretti want cig', 'wasabi recov surgeri http app facebook com dogbook profil view', 'omg icecream', 'go school leav stuff', 'run later hope catch everyon miss today work web bear miss lot', 'gosh watchin cosmet surgeri nightmar itv aw', 'ive pass drunk pass coupl hour good go', 'grr stupid meebo disconnect everi second', 'lmao saw sound hella good hair appt', 'ooh new bonker tomorrow nearli forgot', 'not sure fan week wow guess soon overtak malaysian page', 'im tire sick better sunday sing morn night', 'love video da funk daft punk', 'love', 'pack gym bag gym bit squee happiest whem go', 'happi mother day mommi love much dono id without', 'homework studi guid', 'grrr hate make careless mistak doc give partner', 'least breakthrough perform tho want nomin categori', 'version sold regular version', 'gone', 'rug man hi vishal', 'final use internet explor firefox issu back normal tweet', 'friday work weekend', 'feel butterfli today studi studi studi contract gonna ace write competit journal', 'come fun part find offer per countri live outsid us chang quit tini', 'watch ye man good http tinyurl com dbrc', 'forgot word start cri stop sing carri cri stop', 'hey sherri give b c marri may brother friend', 'sorri think hr till day', 'ipod im', 'okay thought get sick nope hahaha phew sri mike lol hope get better soon', 'grrrr youtub wont let watch chat', 'well propel peopl chang direct point wast day someth lost passion', 'hour fifteen drive left bore ate half food alreadi', 'contempl get hair cut sever anxieti', 'serious addict talk peopl haha love care tell otherwis jerk', 'excit new follow overnight sad ad bot', 'sorri demi read post attend bgt im sure support sb help tho world without pap plzz', 'wish could go meet middl tomorrow', 'pauli wallli made life happi hell love x repli back', 'lovin bailon soooo much right', 'bye la alreadi miss', 'haha dork sound yummi share', 'ahhh think leg burnt hurt', 'trashi sensationalist ye', 'hahaha ur gonna tweet awok night haha man concert suck cali da place', 'happi star war day', 'thank follow', 'http twitpic com ernb love jumper', 'oh fml prob gunna shepard bush hate', 'unfortunatli start make way home via singapor gig fun yet', 'wish sun lolli get addict flavour', 'saddo haha actual make realli happi warren dead though', 'need anoth kiss attack', 'hehe almost hear right ear yet', 'nku get app', 'saw whole lot stuff africa joy casterbridg farm white river mpumalanga quit thrill see ur stuff', 'mom email porch anytim come tomorrow miss worri knock', 'tweetioi class real problem taylor', 'hey hunni u miss talkin u ty follow', 'think broke', 'http twitpic com jco result work green black finger', 'maaaaan spent hour project work comput bork crash lost', 'made decis stick although realli not sure right one', 'ahhhhh process shipment sooooooo much', 'find hope get eaten anyth last night jump deck wont stay safe sigh', 'poor babi girl poorli x', 'whooo babi good luck', 'aaaww good know glad jame great love guy kiss venezuela', 'real detroit weekli not websit oh horror horror', 'go line rest day made progress game weekend may not like', 'omgod soooo tire think energi film today lol', 'mine twpp shadez', 'write essay colleg write bore', 'heard good vibrat thought charli die lost', 'surpris fire announc whole world bodi found selfish', 'haha see go wear blue heey ur watch jona hahaha watch ep yet hope show soon p', 'nice soon pay tweet', 'win trip america pleas repli xo', 'hahaha ye lil jon freakin jizzl u know name st puppi u lil jizzl rememb lol xoxox', 'wonder karma point turn http plurk com p wxj', 'sun shine great day', 'chaz daili happen watch e r instead dvd end era sun wooo http tinyurl com lgwrum', 'hahaha cool pic sal made daniel lol', 'sweeti lucki liberti', 'anyon super nintendo control want sell mine broke', 'go mid valley la haha never mind la wanna go anyway', 'attempt sleep puppi sick alreadi', 'want see enjoy', 'hah final got home', 'sick doctor wait room', 'drive make ahh margarita best', 'omg wow hope everyth ok', 'lazi day stay foot much possibl', 'thingsmummysaid result broken condom', 'oh okay cool love fast furiou wait see new one', 'yeah thing go well get feel like felt long long time', 'ye repriev one paper push back friday leav three page due pm not even problem', 'spend qualiti time fender tele delux true love', 'hmm icecream breakfast springtim', 'wish could seen nephew graduat kindergarten', 'l u much see u school todaay', 'britain got tortur edelcri', 'suzi', 'amaz dvd put netflix list base trash potenti inher titl', 'august requot gyaan live life fail notic live quot muthu', 'perkinz idk wat dat tho mayb sum lol', 'silli', 'hear helicopt fli hous kind weird news headach back booooo', 'rofl u hahaha lemm tell salman munir p p', 'yea way go super excit great midwest resourc midwest pride', 'hi net yayi im short time though', 'love sunshin wish poor richi would feel better', '', 'heyi si year month still want walk', 'hey site go listen web stream get site', 'mind race b c word wrote hate hate keep fall', 'hope eclips run btw http tinyurl com yd', 'uh happi mother day mum', 'bebop lame sorri', 'morn', 'cheer lizzi b anoth foh hero concert still suppos b upset xoxoxo', 'definit write look forward articl write fun', 'hug kathi though mom heaven know smile accomplish peopl keep posit', 'oh noe miss', 'anyth fwd mobilem last week gotten least spam messag day', 'ive spend time w momma celebr mother day earli ive good woodburn', 'heard dad would go septemb would also come', 'heard disappoint disappoint even seen wast c bale', 'mandarinmonday', 'yeah thought littl warn guy miss shift day wk break sure', 'right need breakfast let see make tweet think bloke multitask lol', 'teleport straight', 'may new fav number', 'done absolut noth day today piti smdh guess cant go nite gotta work booo', 'sad casu everyon go seper way never go see friend', 'cool np got work seri design', 'sell car cost much afford one rollersk bye bye petey', 'like like causee im babysit haha call causee im kinda bore right', 'jim much want see screen adapt kick found nick cage heart sank', 'oh sunni', 'oh noe hope feel better soon head sympath', 'sunburn realli bad regret sit sun without suncream', 'feel like alott drug', 'hehe name jack dawson die titan u c movi miley im watch rite amaz tell leo', 'oic cavit sorri im not america see profil word like america', 'throat hurt gonna go read go bed text mee', 'watch old skool fall boy vid', 'join club', 'spitta caught traffic around howlin wolf min wonder wth go musta nice', 'agre time year chang motto soggi state backyard look like swim pool', 'ohhh realli want see coralin seem realli good', 'cold', 'fatti omg found worst idk need talk hope see get work', 'picki precis might not find interest talk', 'awe', 'succes love', 'yeaaaah tangerang vacat', 'yah', 'lost dollar alway lose money', 'well look like go anoth night without snuggl bug miss big girl', 'good one', 'shannon shanni im sorri didnt mean upset thought would find cute im sorri dont sad', 'total best part day studi haha ok realli leav holli shortli peac', 'go clean room that not hard keep room pretti clean realli anyway could still better thing', 'got approxim hour sleep last night love life', 'bad week connect arlington panera wifi suck mayb head legal seafood airport dang miss metavers u stream', 'mice attic clog danc', 'need make effort meet best onlin friend like money cost', 'dude hurt', 'wish dalla still say ow lol hey u spell name wrong good thank ff love', 'fall', 'studi hall brittneyi', 'flo well that not nice hope ur good', 'read sim genet sim forum appar hair dye pass offspr disappoint', 'know yet word hope though good stuff happen late get excit', 'http twitpic com jguu wow pretti x', 'great never good jump rope', 'cast true blood', 'morn', 'new phone zero contact poo send messag name save number thank', 'work someth excit cannot tweet sever month', 'u great alway east germani noko least provok go kill', 'nice pair shoe check nike shoe worth buy', 'cowork friend told manag sent home afraid troubl send home haha dumb', 'wat u doin bad im mixin song', 'help way', 'sign night good sunday night', 'got two ticket one speed one tint window', 'clean hous go see soccergam friend', 'thank gorgeou flower', 'good home', 'ap north korea could opt devast land assault http tinyurl com nmg ht via report scari talk say least mm', 'need go offic melt', 'back home funer wife grandfath today time homework', 'http twitpic com wtii new hair go greeattt use', 'test anoth updat sorri bother u guy', 'call night talk yall tomorrow', 'suck', 'happi mother day mom mother world', 'want join drama practic today', 'breakupword chang', 'oh ok well im sendin lot love', 'nooooooooo u never call anymor lol good rick ross town might go show nite', 'get size straight post offic see later hun', 'tell hasnt miss boge', 'possa happi happi bday babi girl love ya hope get everyth want', 'haha realis sound lot like stellllaaa lol anyhoo got ur facebook msg start work soon hope', 'ok love girl work beckon come back later twpp', 'sound like jeff best job world', 'spent hour tri get newborn bird front garden fli poor babi success', 'someon feel good', 'good morn peopl great day', 'u see twit real xmsiriu let know contact info let transmit', 'wish could twitter book expo recept javitz horribl', 'word day word hour word minut pressur', 'august anberlin not headlin though ye perth show', 'got new cloth seri one supernatur dvd', 'shout nikki pleasssee soulja boy tell em live live http ustr uh', 'love googl mother day theme http tr im jtl', 'tha lol congrat', 'makin tea stressin', 'woah cool land london hour ago love sceneri beauti', 'that terribl enjoy everi minut', 'oh jealou though miss fri potato bread', 'vile peopl remov thing valu', 'not wast may bank holiday crappi north south brighton parti', 'punkrockchick haha saw commerci wouldnt kill', 'guess miss beer good time', 'watch favorit tv show hulu com free', 'full great lunch stuck traffic', 'well mother grandma bit kid mode', 'bad headach get wors minut not better', 'want come back onlin talk gossip horribl thing transpir today', 'funni wrote', 'thank busi good book', 'tweet last hour nobodi like tweetboard', 'thank appreci', 'yay ear match', 'ruddi manageress nd bad job never find good place beyond cut', 'wonder anyon would care die tomorrow', 'laundri instead sit darn laundri keep mock', 'unstabl broadband electr take toll mental stabil', 'grr naplan finish commerc geo exam good luck', 'nice weather look like go rain delhi', 'tweetdeck pull', 'littl boy drown yesterday live subdivis went nicol school sad', 'ultimatum ultimatum matter dress suck', 'know tell anyon dont know dad told famz yet think take onlin', 'oooh spoil teenag fantasi', 'nice day look like go rain get excit take photo get home', 'yay fix blog css problem mess design', 'ohh yeahh prob gonna loner start thank person gonna go', 'wonder cold skylight open left ga morn', 'new forum thread first typhoon season not head okinawa made look http tinyurl com dm b q', 'grand', 'love mom tooo', 'best day ever miss tomorrow', 'thingsmummysaid need learn wash dish laundri alway right', 'yea mostli b c sleep oh well lunch time come soon', 'ahhh drink bride war realli good', 'im missin fun aww cryin lol', 'thank gonna next tweet man figur speak', 'yeah trimet say hr trip get home ish arriv everyon leav', 'cottin emilyyyyyyyy', 'simpl girl miss festiv even head hill internet bb servic', 'popcorn fruitcak not chocol', 'g sneez felt like train wreck last two week not piggystuff good', 'wockeez missin u guy day ill b tomorrow butttt see u june th blockkkkk', 'absurd feel like dip pool real quick bad dont poool', 'go get pedicur cpk lunch', 'everyon seem leav weekend sigh bed', 'go town later get birthday present ipod touch nice think', 'bed head stop give pain ahgg let sinu allergi whatev tomorrow sogni oro', 'bu stop alway big pile loogi gross', 'well keep post come fulli thank', 'happi star war day', 'thank come tonight hope ya fun', 'mean give lol finger crash car lol jk that bad ignor', 'thing look better better think might quit happi', 'fun airshow boy today exhaust', 'marley saddest movi ever never cri movi movi mad cri', 'one cat sick', 'left brooklyn go uptown latin coffe dollar sandwich find downtown brooklyn brooklyn', 'find camera', 'think', 'feelin', 'bird broken wing song love sing know', 'rofl room small danc', 'mmmichel franc cheri', 'made cri poor holli', 'ok time head urban outfitt see catch eye head home sinc rain hinder pic day', 'realli annoy work appear block facebook', 'mother day', 'printchick thx sharen luv', 'deleg eat pate toast wife edit yesterday engag shoot', 'ha think realli lost time get readi work', 'hell yea hot miss cali', 'ye done last homework readi dx go waaalkii sun shine oh yeah', 'write fanfic read', 'save three burner weber next year', 'thank mr dj', 'hate new mt dew commerci one giant mosquito scare gross time', 'ohh sorri that someon els pic bad', 'hug oh gosh sorri', 'yeeeah lmao dentist nice espesh decid old goodi bag sticker awesom toothpast', 'need wait anoth year toy stori', 'hahah hear mvp chant atlanta arena least get right unlik stapl', 'haha well mayb u weak hehe jk', 'biggest food fight mosh pit ever miss across school', 'kill dill plant happen dill great suddenli dead http tinyurl com mlh f', 'wordsaftersex hurt', 'imagin know love hear novel kinda awak lol continu hope', 'gonna tri get coupl hour sleep love go bed later twitter', 'http twitpic com wi p play ethan love babi', 'come want pizza', 'geez hate bein work till day like feel like wast lovley day', 'everi ga station look postcard luck', 'ya walk wall that plaster neck', 'hey everyon mix first singl r u sooo excit', 'guy go see constanc logic', 'not sleep wink last night x', 'feel pain live apt mo previou tenant cat burn eye tight lung gregg', 'ahh big scari bug fli around room', 'oh ye cav win game onto game still danger win one either shot championship', 'happi anoop day monica', 'tri energi drink report back guy im sweat worst cramp want lie', 'happi mother may mak love alway xoxo', 'found sushi fake crab meat not good', 'think career chang', 'meh feel fine crazi minut sick session hungri', 'sun', 'well hope someday soon get one', 'sooooo much stress late', '', 'tune listen meet know high school colleg french cut anymor', 'chronic ill blog let know post link www ptsici blogspot com', 'weekend get close bad stuck north hope abl get next weekend real life fun', 'jt regular snl', 'twappi http bit ly qvk', 'never late need buck idea stop bunch stuffi old reactionari', 'not happi dont know reason', 'fan rofl problem two hand', 'transport church wont make im crush oh well time assign suppos throat realli hurt', 'timeee mom say someth daw tomorrow eh never compelt', 'sat sunbath bomb church day left miss', 'know exactli', 'made game stephen http tinyurl com ctw ld well actual us not', 'thank follow nice rest', 'sensat ocean white portug absolut amaz adoreiii', 'yeah got ur text well ive summer break week far bore watch tenni match', 'nudg not much go late ump game wknd took one pill', 'saw bird slowli die right next', 'hahahaha train want wild ride', 'love famili feud episod kardashian tonight', 'come new plan besti oh one gonna great', 'hmmm http www djhero com', 'lmao ummmm noth', 'haha agre lol', 'hello late play internet love', 'music video made project citi contagi upload youtub', 'theyr sappin mah sentri errr yea without power home right', 'crash qmbol', 'perth australia', 'http twitpic com wgoq beach phenomen day', 'forgot tonight plan head cask might not good idea', 'tire go bed yet', 'night owl huh', 'haha kid listen day long bud', 'go group therapi session wait spill gut ha ha ha', 'eat good', 'happi mother day esp mommi', 'phone old rotari', 'look time sunk total shock tbh', 'im schaumburg rite u want ice cream lol type chilli outsid lol got ice cream', 'done haha hous md marathon ulet', 'omginorit fanci tophat time realli bad grow handlebar moustach', 'got ya bad tho right', 'finish clean comput guest room cupboard stuff', 'watch slumdog millionair soo goood love sad', 'feel sound like kiya last night say get comfi couch enjoy cuddl', 'eh u never heard belfast like everyon love', 'wow', 'ye understand mean know hollywood thing call love', 'hve blister pinki nd hurt soooo much', 'watch happen vega', 'oh happi day nice weather smile happi babi icecream later', 'head beach puppi maverick hug much aloha', 'want borrow mx weekend', 'lol peek http geehal blogspot com come along nice total understand leav set quiet', 'uk train bristol london terribl wifi', 'everyth spin', 'serafina head way', 'ds version suck', 'way school not feeln raini day lot fun weekend', 'congratul heart hacker not comput hacker', 'go sooooo busi today not funni hate busi day', 'still hour', 'oh dear disturb coffe connoisseur die littl', 'ouch give head know duck', 'problem superstar alway deliv huge file much energi pixel', 'realis much love sunday', 'wish headach almost migrain would go away', 'hairspray hair lighter bong new haircut', 'listen jess music myspac also get hang twiiter feel need follow shi', 'ahhh ok rememb film never saw though check thank', 'travel want tix oh right know near vacavil ca', 'guy call ad hd kid earlier today hurt', 'im surfin', 'meebo com free thing effect comp use', 'insomniaa tri sleep hour', 'happi mother day mamma', 'welcom twitter world andrew tell david twitter haha kiddin know want one booo', 'decor mom room asleep mother day wake banner balloon woo', 'jealou want see film', 'hk funni', 'amaz x', 'th post dedic sarah sunni weather love snake plane bring song die alreadi', 'chat matt merci merced lol', 'work still sick realli piss sunday', 'inde glad hear everyth good great life good', 'scram littl earli nib sound pathet', 'wash dish like boss lol', 'wish school sadli still like anoth month left', 'make one still crave shrimp', 'consol abandon back garden thank super reflect laptop screen', 'sorri let', 'seriou bloooooow', 'count crow tabl mountain casino event center near fresno juli', 'dw funni', 'happi came said hi twa nice meet inde thank much come talk', 'aw wee lassi made cri tear streamin doon face lol that wee shame x', 'ooo goddddd vodafon troubl network', 'studi day finish care plan hungri hell ima go treat burrito good day work', 'ur mom call guess not c u', 'definit feel sorri jami stewart amsterdam audienc realli suck www xiuxiu org read post may th', 'not feel twitter moment', 'not feel like babysit want go gym weird know miss zack', 'wow big list lol would happi got half done feel lazi thank kid', 'hate cant sleep', 'edgefest mayb sinc drive', 'heal sleep energi sweeti', 'alright add egg mayb sort leftov meat not bad', 'sorri bro rough', 'excel chiang mai definit possibl next vacat stop thank info', 'grr allow ga grill live suck', 'oh sorri hear', 'love', 'definit come hope ur readi', 'much homework think go hide corner cri', 'sad david leav tomoro week', 'pleasur bojan', 'decaf cut right http blip fm g', 'sound good', 'xo today yeah', 'would dover race play classic', 'humid not friend ask hair', 'go vega summer', 'advisor haha go turn thing tweet phone stupid spammer', 'kick like crazi', 'http twitpic com ut j poor thing', 'home feel like go work tomorrow', 'day go well far meet though', 'thank u sweeti wait set sail u next week', 'listen hallelujah youtub leonard cohen win xfactor', 'weather good mmm today shame work tomorrow', 'watch friend reduc stress insid thank bright kauffman crane creat seri love love love', 'finish work midday kiddi dinner get go ah well bank holiday fb', 'tmeme besti twitpic http twitpic com hac besti http twitpic com hac', 'hmm first pizza age feel bit sick teach', 'sister stupid parti wanna hang friend hilli txt back', 'hope one day abl go date year old boyfriend without parent', 'spend offic', 'fort green brooklyn flea love look forward next weekend alreadi', 'exam wednesday', 'today first day', 'need get adjust neck whack', 'omg cliff richard song mind lol', 'wolfram got chines room problem chines bangalorean hacker run without know english', 'not repli topic yet lolz welll not somethin could repli yanno', 'woo hoo sun outsid might abl get sunset shot tonight finger cross', 'transtelecom', 'good friend dave wait hope dont wait long though', 'last time get taco like', 'seen game websit awesom go msn', 'u magazin', 'haha lol one ef cool got wu tang p e shirt gorgeou repres time', 'great glad enjoy hope great day', 'hmmm love wish tire sleep', 'lost us end mean eat greypoupon anyth prefer bleaker origin', 'good morn got afternoon germani', 'get stress sorti tomorrow like realli realli stress', 'bread oven room clean almost done thing list today', 'stathamfan sure dedic gotta love great product day', 'stuck ladi', 'stuck anniston mississippi got car accid im scare drive boy driver ed fun summer', 'leme put bottl ciroc ya babi make popular', 'live chat soooon like', 'eat breakfast panera bread bore cloudi weather lil drizzl', 'kikireestl nooo yahoo account hmm wanna say b k day idk fo sho', 'not reg gig yet hope done massag actual', 'todayi yayi', 'macbook pro sit close poor macbook asham plastic face side', 'school w linda noth miss', 'weird guy hous without like', 'bit disappoint killer jonathan ross sexi hell though', 'even get chanc shop aldi', 'nz busi fun mother day thank got want wii fit yay', 'forgot happi mom day', 'realli good mood absolut reason tee', 'hmm guess world head day let make predict', 'far tri kill twice min outsid trip stupid thing knew stay bed', 'loong day bed cuddl papabear watch south park yay bday bbq tomorrow wait', 'babi shut', 'still read em', 'ah midday great time breakfast', 'wish could go gotta work', 'spent last year larg ambival w dev practic feel care factor return look', 'back first k run race still aliv', 'curs upon ridicul slow internetz work dang imag load', 'okay reason not buy app hate ea stand simciti rock though http gd jpmm', 'fun', 'wed recept fun thought', 'notic new sidebar twitter com look nice', 'put name list', 'good morn fellow tweeter', 'know love', 'feel higher mt everest', 'everyon work tonight bore', 'own actual cellphon would video call qik', 'oh joy gong long weekebd yipe', 'goin sleeeeep', 'report find', 'hey easi type like facebook much simpler good day', 'wonder come mcdonald take long deliv food', 'lmao that sad kinda discourag rom goin wack', 'yup go mother effin champion lol', 'oh radio amaz yesterday', 'im mad cuz cant get pictur work', 'worst', 'shoe hurt feet', 'first fight', 'back work', 'beauti nice day stuck insid', 'disappoint', 'aarg look like go home vega weekend much maker fair', 'fawx crayon', 'sorri hear hospit hope better soon', 'salt pig thing coz broke one lol guy even wat salt pig', 'omg beckki love g rootin how thing go', 'birthday', 'thank anyway', 'browsin thru video multipli saw video u sang bf miss n miss pl come back wherev u r', 'ate much', 'alway xtra clean b leav da road springhil suit cafe yum', 'think someth better view tight budget', 'aww sound sad', 'car shop kaci yay', 'work graveyard shift', 'dad total rock offspr pretti fli white guy haha', 'yup mother day plan birthday', 'arg exil still problem alt tab', 'r p curl', 'pretti black top flower pink hue', 'get catacomb ffrom cinema tri get local one littl ago theyh', 'dr hook awesom', 'quit welcom mr pool', 'http xkcd com today xkcd look forward daili updat week', 'know miss', 'rain past day actual sunni today well littl super cloudi', 'younger sister fli next week two week visit bless look forward see famili member visit', 'biggest headach ever photosensit get control help', 'tweet also film place w signal hmmm', 'yeah whatev twist mind mayb lol oh wait mine', 'see coffe tabl r u coming insult clean rest hous', 'mine', 'mo nudg better watch', 'come hard find guy passion love woman ever go see day im lone yall', 'urghhhhhhhhhh make cri', 'absolut tru horror still wash ovr sometim think abt actual last day gd memori go', 'mari heart goe', 'inc sound good still like friday although mean go work tomarrow', 'awww like ann curti tho rite soap that gonna replac', 'window run happi got sum wick new featur http bit ly jywnz', 'look youtub jessandnicolemus new leav comment subscrib thankyou x', 'need break need kitkat haha', 'oh total work', 'psa usu twiddict last tweet yet show bore bare w', 'histor jesu ever exist im find hard prove hearsay account bug', 'need server someon know program use wordpress love knowledg limit right', 'watch forgottenmost enjoy see pay today face doesnt bounc back anymor', 'excit week tri product monday tri hard', 'sooo lucki fianc away w marin corp even seen yet', 'sarah mcglaclan song background pleas donat jpnnbak fund dinero cabl bill think make', 'omg anyon see wee girl bgt sucha shame', 'gday know nhibern issu com interop vb net wrapper net nhibern dll get crazi', 'hello aint tweetin day cuz switch thing da new place exhaust sick', 'g price drop would nice want anoth one backup blu ray player', 'wit cha got home da regga club wishin sexin somebodi', 'like binari code name say zirconcod well xd look nice better', 'get wait room', 'lol glad like', 'didnt save link dont need distract need motiv', 'ugh two week push produc six pack produc noth pain', 'sum tell vote miley seem sum peepl r still vote went mtv com nd seem cant vote', 'thank dear wish best', 'said hi u', 'omg mad came radio', 'mommi oh well hope get better', 'http twitpic com aida snood', 'mayb go see hannah montana movi todaaaay seen one time wait see', 'manag find bottl pimm weather go', 'sarah congrat sarah that awsum', 'realli bore today ate bowl ful rasberri grape wait dinner', 'teacher made lamest joke today darth vader birthday cuz may th lol love happi star war day everyon', 'oh marathon mahasha', 'ye sir sure', 'cool http www inbflat net detail made pleas tell', 'one wish video compil thrust', 'congrat howi hope bring littl jame germani soon wish best famili', 'fun sad not guy', 'guinea pig die today', 'huge block snack chocol ti call name alreadi', 'room hot sleep', 'possibl ye', 'ellen rescu bad hip deserv pamper full life though', 'play quak min', 'hope went well root not comfort abl world phd applic form fill', 'go msn need talk someth happen today', 'click without subscript need vote tweet http openzap com today best list', 'goodnight tweep', 'aww miss least get go home right', 'barrel made hey pass barrel', 'thank ad', 'wait watch next season hero', 'bore make mother day card', 'sometim around midnight airborn toxic event liter cannot escap fml', 'think max cat may realli gone', 'work logo photoshop work hehe tri lah', 'bird live find way kill thing besid extermin vega suck', 'oowww wisdom teeth hurt much', 'airsoft much fun play brother great bond experi', 'know help almost everyday', 'saw half rro staff walk sadli see', 'total agre even good judg said wither said make feel better', 'want listen musiq soulchild not ipod', 'meet rosi donnel still fun night', 'right stare everyon els work thier laptop', 'nice cake like haha sooo gayi though', 'sunni enter sub basement rain', 'orang vitamin water new addict u tri', 'yay thanku hug', 'said bum miss sigh want go california', 'readi new gener oh yeah backstreet fan proud', 'recov photo', 'never want lose fan got us thank say wish other nice day greet', 'chillin bore drink margarita txt', 'killer come td banknorth boston pm go everyon els go though ticket sale sat', 'mom hair salon die hair', 'good morn mommi happi mother day pull cat tail know like', 'not good', 'thank love video need download offer everyth want tri', 'notic ridicul', 'im ride high low mood chore blow', 'hate websit say ticket price anoth websit not', 'min brake wrrkk', 'ok outta follow u ive talk lol dont shi dont biteee', 'ye thank haha field flower exist singapor well not one frolick', 'song go site want comput', 'munchin bacon butti woohoo fave', 'school today teacher cancel lesson chillin', 'eye start hurt late must reach updat due tweet sent youuuu philippin tour pleeeas', 'hair dresser pass away yesterday breast cancer greatest hair dresser ever', 'suppos go tomorrow tooooo use ga ticket money pay car inspect fee', 'best thing ever done carri birth child', 'mother citi terrel texa district citi council seat lol happi mother day', 'friday even idea', 'im tire sleep tri', 'alon old hous thank net keep aliv kick whoever invent net wanna kiss hair', 'know mean littl dog sink depress want move someplac tropic', 'sutra next youtub video gonna love video', 'http twitpic com woj omgssh ang cute ng bbi']\n"
     ]
    }
   ],
   "source": [
     #corpus consists of all stopwords"
   ]
  },
  {
   "cell_type": "markdown",
   "id": "fcc48601",
   "metadata": {
    "papermill": {
     "duration": 0.007957,
     "end_time": "2025-07-19T18:32:15.506273",
     "exception": false,
     "start_time": "2025-07-19T18:32:15.498316",
     "status": "completed"
    },
    "tags": []
   },
   "source": [
    "# Creating the bag of words model"
   ]
  },
  {
   "cell_type": "code",
   "execution_count": 11,
   "id": "fe0176bd",
   "metadata": {
    "execution": {
     "iopub.execute_input": "2025-07-19T18:32:15.523296Z",
     "iopub.status.busy": "2025-07-19T18:32:15.522670Z",
     "iopub.status.idle": "2025-07-19T18:32:15.932065Z",
     "shell.execute_reply": "2025-07-19T18:32:15.930930Z"
    },
    "papermill": {
     "duration": 0.419907,
     "end_time": "2025-07-19T18:32:15.933894",
     "exception": false,
     "start_time": "2025-07-19T18:32:15.513987",
     "status": "completed"
    },
    "tags": []
   },
   "outputs": [
    {
     "name": "stdout",
     "output_type": "stream",
     "text": [
      "            1       2\n",
      "0     morning    0-20\n",
      "1        noon   21-30\n",
      "2       night   31-45\n",
      "3     morning   46-60\n",
      "4        noon   60-70\n",
      "...       ...     ...\n",
      "3529     noon   21-30\n",
      "3530    night   31-45\n",
      "3531  morning   46-60\n",
      "3532     noon   60-70\n",
      "3533    night  70-100\n",
      "\n",
      "[3534 rows x 2 columns]\n"
     ]
    }
   ],
   "source": [
    "cv= CountVectorizer(max_features=4000) # bag of words(corpus) consists iof 4000 most frequently used words\n",
    "vectorized =cv.fit_transform(corpus).toarray() # used to convert a text corpus into a numeric matrix using the Bag of Words model\n",
    "X= np.concatenate((X,vectorized),axis=1) #join this vectorized matrix in the matrix of features X\n",
    "df=pd.DataFrame(X)\n",
    "X=df.iloc[:,1:] # drop the 'text' column since since we already have the numeric vectorized matrix\n",
    "df=pd.DataFrame(X)\n",
    "\n",
    "print(X[[1,2]])"
   ]
  },
  {
   "cell_type": "code",
   "execution_count": 12,
   "id": "5d93b5cb",
   "metadata": {
    "execution": {
     "iopub.execute_input": "2025-07-19T18:32:15.950606Z",
     "iopub.status.busy": "2025-07-19T18:32:15.950230Z",
     "iopub.status.idle": "2025-07-19T18:32:15.968556Z",
     "shell.execute_reply": "2025-07-19T18:32:15.967251Z"
    },
    "papermill": {
     "duration": 0.028551,
     "end_time": "2025-07-19T18:32:15.970121",
     "exception": false,
     "start_time": "2025-07-19T18:32:15.941570",
     "status": "completed"
    },
    "tags": []
   },
   "outputs": [
    {
     "name": "stdout",
     "output_type": "stream",
     "text": [
      "         1       2            3          4      5    6    7    8    9    10    \\\n",
      "0     morning    0-20   38928346.0   652860.0   60.0    0    0    0    0    0   \n",
      "1        noon   21-30    2877797.0    27400.0  105.0    0    0    0    0    0   \n",
      "2       night   31-45   43851044.0  2381740.0   18.0    0    0    0    0    0   \n",
      "3     morning   46-60      77265.0      470.0  164.0    0    0    0    0    0   \n",
      "4        noon   60-70   32866272.0  1246700.0   26.0    0    0    0    0    0   \n",
      "...       ...     ...          ...        ...    ...  ...  ...  ...  ...  ...   \n",
      "3529     noon   21-30    6624554.0   120340.0   55.0    0    0    0    0    0   \n",
      "3530    night   31-45   24206644.0  1266700.0   19.0    0    0    0    0    0   \n",
      "3531  morning   46-60  206139589.0   910770.0  226.0    0    0    0    0    0   \n",
      "3532     noon   60-70   25778816.0   120410.0  214.0    0    0    0    0    0   \n",
      "3533    night  70-100    2083374.0    25220.0   83.0    0    0    0    0    0   \n",
      "\n",
      "      ... 3996 3997 3998 3999 4000 4001 4002 4003 4004 4005  \n",
      "0     ...    0    0    0    0    0    0    0    0    0    0  \n",
      "1     ...    0    0    0    0    0    0    0    0    0    0  \n",
      "2     ...    0    0    0    0    0    0    0    0    0    0  \n",
      "3     ...    0    0    0    0    0    0    0    0    0    0  \n",
      "4     ...    0    0    0    0    0    0    0    0    0    0  \n",
      "...   ...  ...  ...  ...  ...  ...  ...  ...  ...  ...  ...  \n",
      "3529  ...    0    0    0    0    0    0    0    0    0    0  \n",
      "3530  ...    0    0    0    0    0    0    0    0    0    0  \n",
      "3531  ...    0    0    0    0    0    0    0    0    0    0  \n",
      "3532  ...    0    0    0    0    0    0    0    0    0    0  \n",
      "3533  ...    0    0    0    0    0    0    0    0    0    0  \n",
      "\n",
      "[3534 rows x 4005 columns]\n"
     ]
    }
   ],
   "source": [
    "print(X)"
   ]
  },
  {
   "cell_type": "markdown",
   "id": "f69b5aea",
   "metadata": {
    "papermill": {
     "duration": 0.007181,
     "end_time": "2025-07-19T18:32:15.985024",
     "exception": false,
     "start_time": "2025-07-19T18:32:15.977843",
     "status": "completed"
    },
    "tags": []
   },
   "source": [
    "# Label Encode first and second column"
   ]
  },
  {
   "cell_type": "code",
   "execution_count": 13,
   "id": "3b1ea4e7",
   "metadata": {
    "execution": {
     "iopub.execute_input": "2025-07-19T18:32:16.001000Z",
     "iopub.status.busy": "2025-07-19T18:32:16.000688Z",
     "iopub.status.idle": "2025-07-19T18:32:16.023505Z",
     "shell.execute_reply": "2025-07-19T18:32:16.022354Z"
    },
    "papermill": {
     "duration": 0.033112,
     "end_time": "2025-07-19T18:32:16.025407",
     "exception": false,
     "start_time": "2025-07-19T18:32:15.992295",
     "status": "completed"
    },
    "tags": []
   },
   "outputs": [
    {
     "name": "stdout",
     "output_type": "stream",
     "text": [
      "     1    2            3          4      5    6    7    8    9    10    ...  \\\n",
      "0       0    0   38928346.0   652860.0   60.0    0    0    0    0    0  ...   \n",
      "1       2    1    2877797.0    27400.0  105.0    0    0    0    0    0  ...   \n",
      "2       1    2   43851044.0  2381740.0   18.0    0    0    0    0    0  ...   \n",
      "3       0    3      77265.0      470.0  164.0    0    0    0    0    0  ...   \n",
      "4       2    4   32866272.0  1246700.0   26.0    0    0    0    0    0  ...   \n",
      "...   ...  ...          ...        ...    ...  ...  ...  ...  ...  ...  ...   \n",
      "3529    2    1    6624554.0   120340.0   55.0    0    0    0    0    0  ...   \n",
      "3530    1    2   24206644.0  1266700.0   19.0    0    0    0    0    0  ...   \n",
      "3531    0    3  206139589.0   910770.0  226.0    0    0    0    0    0  ...   \n",
      "3532    2    4   25778816.0   120410.0  214.0    0    0    0    0    0  ...   \n",
      "3533    1    5    2083374.0    25220.0   83.0    0    0    0    0    0  ...   \n",
      "\n",
      "     3996 3997 3998 3999 4000 4001 4002 4003 4004 4005  \n",
      "0       0    0    0    0    0    0    0    0    0    0  \n",
      "1       0    0    0    0    0    0    0    0    0    0  \n",
      "2       0    0    0    0    0    0    0    0    0    0  \n",
      "3       0    0    0    0    0    0    0    0    0    0  \n",
      "4       0    0    0    0    0    0    0    0    0    0  \n",
      "...   ...  ...  ...  ...  ...  ...  ...  ...  ...  ...  \n",
      "3529    0    0    0    0    0    0    0    0    0    0  \n",
      "3530    0    0    0    0    0    0    0    0    0    0  \n",
      "3531    0    0    0    0    0    0    0    0    0    0  \n",
      "3532    0    0    0    0    0    0    0    0    0    0  \n",
      "3533    0    0    0    0    0    0    0    0    0    0  \n",
      "\n",
      "[3534 rows x 4005 columns]\n",
      "[1 2 0 ... 0 2 2]\n"
     ]
    }
   ],
   "source": [
    "df=pd.DataFrame(X)\n",
    "from sklearn.preprocessing import LabelEncoder\n",
    "le =LabelEncoder()\n",
    "X.iloc[:,0] = le.fit_transform(X.iloc[:,0])\n",
    "X.iloc[:,1] = le.fit_transform(X.iloc[:,1])\n",
    "y=le.fit_transform(y)\n",
    "print(X)\n",
    "print(y)"
   ]
  },
  {
   "cell_type": "markdown",
   "id": "5bbf7599",
   "metadata": {
    "papermill": {
     "duration": 0.007319,
     "end_time": "2025-07-19T18:32:16.040454",
     "exception": false,
     "start_time": "2025-07-19T18:32:16.033135",
     "status": "completed"
    },
    "tags": []
   },
   "source": [
    "# Feature scale second third and fourth column"
   ]
  },
  {
   "cell_type": "code",
   "execution_count": 14,
   "id": "fe3b7633",
   "metadata": {
    "execution": {
     "iopub.execute_input": "2025-07-19T18:32:16.057281Z",
     "iopub.status.busy": "2025-07-19T18:32:16.057013Z",
     "iopub.status.idle": "2025-07-19T18:32:16.088649Z",
     "shell.execute_reply": "2025-07-19T18:32:16.087454Z"
    },
    "papermill": {
     "duration": 0.042267,
     "end_time": "2025-07-19T18:32:16.090274",
     "exception": false,
     "start_time": "2025-07-19T18:32:16.048007",
     "status": "completed"
    },
    "tags": []
   },
   "outputs": [
    {
     "name": "stdout",
     "output_type": "stream",
     "text": [
      "     1    2         3         4         5    6    7    8    9    10    ...  \\\n",
      "0       0    0  -0.00334 -0.010544  -0.14689    0    0    0    0    0  ...   \n",
      "1       2    1 -0.248825 -0.350677  -0.12401    0    0    0    0    0  ...   \n",
      "2       1    2   0.03018   0.92964 -0.168246    0    0    0    0    0  ...   \n",
      "3       0    3 -0.267895 -0.365321 -0.094011    0    0    0    0    0  ...   \n",
      "4       2    4  -0.04462  0.312392 -0.164178    0    0    0    0    0  ...   \n",
      "...   ...  ...       ...       ...       ...  ...  ...  ...  ...  ...  ...   \n",
      "3529    2    1 -0.223311 -0.300135 -0.149433    0    0    0    0    0  ...   \n",
      "3530    1    2 -0.103587  0.323269 -0.167737    0    0    0    0    0  ...   \n",
      "3531    0    3  1.135275   0.12971 -0.062486    0    0    0    0    0  ...   \n",
      "3532    2    4 -0.092881 -0.300097 -0.068588    0    0    0    0    0  ...   \n",
      "3533    1    5 -0.254234 -0.351862 -0.135196    0    0    0    0    0  ...   \n",
      "\n",
      "     3996 3997 3998 3999 4000 4001 4002 4003 4004 4005  \n",
      "0       0    0    0    0    0    0    0    0    0    0  \n",
      "1       0    0    0    0    0    0    0    0    0    0  \n",
      "2       0    0    0    0    0    0    0    0    0    0  \n",
      "3       0    0    0    0    0    0    0    0    0    0  \n",
      "4       0    0    0    0    0    0    0    0    0    0  \n",
      "...   ...  ...  ...  ...  ...  ...  ...  ...  ...  ...  \n",
      "3529    0    0    0    0    0    0    0    0    0    0  \n",
      "3530    0    0    0    0    0    0    0    0    0    0  \n",
      "3531    0    0    0    0    0    0    0    0    0    0  \n",
      "3532    0    0    0    0    0    0    0    0    0    0  \n",
      "3533    0    0    0    0    0    0    0    0    0    0  \n",
      "\n",
      "[3534 rows x 4005 columns]\n"
     ]
    }
   ],
   "source": [
    "scaler = StandardScaler() \n",
    "X.iloc[:, [2, 3, 4]] = scaler.fit_transform(X.iloc[:, [2, 3, 4]])# feature scaling second, third and fourth column because they can dominate the column having small numeric values\n",
    "print(X)\n"
   ]
  },
  {
   "cell_type": "markdown",
   "id": "509bd0c2",
   "metadata": {
    "papermill": {
     "duration": 0.008146,
     "end_time": "2025-07-19T18:32:16.106632",
     "exception": false,
     "start_time": "2025-07-19T18:32:16.098486",
     "status": "completed"
    },
    "tags": []
   },
   "source": [
    "# Splitting the dataset into the Training set and Test set"
   ]
  },
  {
   "cell_type": "code",
   "execution_count": 15,
   "id": "640e4482",
   "metadata": {
    "execution": {
     "iopub.execute_input": "2025-07-19T18:32:16.124480Z",
     "iopub.status.busy": "2025-07-19T18:32:16.123467Z",
     "iopub.status.idle": "2025-07-19T18:32:16.770548Z",
     "shell.execute_reply": "2025-07-19T18:32:16.769655Z"
    },
    "papermill": {
     "duration": 0.657946,
     "end_time": "2025-07-19T18:32:16.772263",
     "exception": false,
     "start_time": "2025-07-19T18:32:16.114317",
     "status": "completed"
    },
    "tags": []
   },
   "outputs": [],
   "source": [
    "from sklearn.model_selection import train_test_split\n",
    "X_train, X_test, y_train, y_test = train_test_split(X, y, test_size = 0.2, random_state = 1)"
   ]
  },
  {
   "cell_type": "markdown",
   "id": "6586d44c",
   "metadata": {
    "papermill": {
     "duration": 0.008497,
     "end_time": "2025-07-19T18:32:16.788771",
     "exception": false,
     "start_time": "2025-07-19T18:32:16.780274",
     "status": "completed"
    },
    "tags": []
   },
   "source": [
    "# Applying Logistic Regression"
   ]
  },
  {
   "cell_type": "code",
   "execution_count": 16,
   "id": "4968a5ec",
   "metadata": {
    "execution": {
     "iopub.execute_input": "2025-07-19T18:32:16.805110Z",
     "iopub.status.busy": "2025-07-19T18:32:16.804822Z",
     "iopub.status.idle": "2025-07-19T18:32:28.862182Z",
     "shell.execute_reply": "2025-07-19T18:32:28.861496Z"
    },
    "papermill": {
     "duration": 12.070506,
     "end_time": "2025-07-19T18:32:28.866736",
     "exception": false,
     "start_time": "2025-07-19T18:32:16.796230",
     "status": "completed"
    },
    "tags": []
   },
   "outputs": [
    {
     "data": {
      "text/html": [
       "<style>#sk-container-id-1 {color: black;background-color: white;}#sk-container-id-1 pre{padding: 0;}#sk-container-id-1 div.sk-toggleable {background-color: white;}#sk-container-id-1 label.sk-toggleable__label {cursor: pointer;display: block;width: 100%;margin-bottom: 0;padding: 0.3em;box-sizing: border-box;text-align: center;}#sk-container-id-1 label.sk-toggleable__label-arrow:before {content: \"▸\";float: left;margin-right: 0.25em;color: #696969;}#sk-container-id-1 label.sk-toggleable__label-arrow:hover:before {color: black;}#sk-container-id-1 div.sk-estimator:hover label.sk-toggleable__label-arrow:before {color: black;}#sk-container-id-1 div.sk-toggleable__content {max-height: 0;max-width: 0;overflow: hidden;text-align: left;background-color: #f0f8ff;}#sk-container-id-1 div.sk-toggleable__content pre {margin: 0.2em;color: black;border-radius: 0.25em;background-color: #f0f8ff;}#sk-container-id-1 input.sk-toggleable__control:checked~div.sk-toggleable__content {max-height: 200px;max-width: 100%;overflow: auto;}#sk-container-id-1 input.sk-toggleable__control:checked~label.sk-toggleable__label-arrow:before {content: \"▾\";}#sk-container-id-1 div.sk-estimator input.sk-toggleable__control:checked~label.sk-toggleable__label {background-color: #d4ebff;}#sk-container-id-1 div.sk-label input.sk-toggleable__control:checked~label.sk-toggleable__label {background-color: #d4ebff;}#sk-container-id-1 input.sk-hidden--visually {border: 0;clip: rect(1px 1px 1px 1px);clip: rect(1px, 1px, 1px, 1px);height: 1px;margin: -1px;overflow: hidden;padding: 0;position: absolute;width: 1px;}#sk-container-id-1 div.sk-estimator {font-family: monospace;background-color: #f0f8ff;border: 1px dotted black;border-radius: 0.25em;box-sizing: border-box;margin-bottom: 0.5em;}#sk-container-id-1 div.sk-estimator:hover {background-color: #d4ebff;}#sk-container-id-1 div.sk-parallel-item::after {content: \"\";width: 100%;border-bottom: 1px solid gray;flex-grow: 1;}#sk-container-id-1 div.sk-label:hover label.sk-toggleable__label {background-color: #d4ebff;}#sk-container-id-1 div.sk-serial::before {content: \"\";position: absolute;border-left: 1px solid gray;box-sizing: border-box;top: 0;bottom: 0;left: 50%;z-index: 0;}#sk-container-id-1 div.sk-serial {display: flex;flex-direction: column;align-items: center;background-color: white;padding-right: 0.2em;padding-left: 0.2em;position: relative;}#sk-container-id-1 div.sk-item {position: relative;z-index: 1;}#sk-container-id-1 div.sk-parallel {display: flex;align-items: stretch;justify-content: center;background-color: white;position: relative;}#sk-container-id-1 div.sk-item::before, #sk-container-id-1 div.sk-parallel-item::before {content: \"\";position: absolute;border-left: 1px solid gray;box-sizing: border-box;top: 0;bottom: 0;left: 50%;z-index: -1;}#sk-container-id-1 div.sk-parallel-item {display: flex;flex-direction: column;z-index: 1;position: relative;background-color: white;}#sk-container-id-1 div.sk-parallel-item:first-child::after {align-self: flex-end;width: 50%;}#sk-container-id-1 div.sk-parallel-item:last-child::after {align-self: flex-start;width: 50%;}#sk-container-id-1 div.sk-parallel-item:only-child::after {width: 0;}#sk-container-id-1 div.sk-dashed-wrapped {border: 1px dashed gray;margin: 0 0.4em 0.5em 0.4em;box-sizing: border-box;padding-bottom: 0.4em;background-color: white;}#sk-container-id-1 div.sk-label label {font-family: monospace;font-weight: bold;display: inline-block;line-height: 1.2em;}#sk-container-id-1 div.sk-label-container {text-align: center;}#sk-container-id-1 div.sk-container {/* jupyter's `normalize.less` sets `[hidden] { display: none; }` but bootstrap.min.css set `[hidden] { display: none !important; }` so we also need the `!important` here to be able to override the default hidden behavior on the sphinx rendered scikit-learn.org. See: https://github.com/scikit-learn/scikit-learn/issues/21755 */display: inline-block !important;position: relative;}#sk-container-id-1 div.sk-text-repr-fallback {display: none;}</style><div id=\"sk-container-id-1\" class=\"sk-top-container\"><div class=\"sk-text-repr-fallback\"><pre>LogisticRegression(C=0.5, class_weight=&#x27;balanced&#x27;, max_iter=5000)</pre><b>In a Jupyter environment, please rerun this cell to show the HTML representation or trust the notebook. <br />On GitHub, the HTML representation is unable to render, please try loading this page with nbviewer.org.</b></div><div class=\"sk-container\" hidden><div class=\"sk-item\"><div class=\"sk-estimator sk-toggleable\"><input class=\"sk-toggleable__control sk-hidden--visually\" id=\"sk-estimator-id-1\" type=\"checkbox\" checked><label for=\"sk-estimator-id-1\" class=\"sk-toggleable__label sk-toggleable__label-arrow\">LogisticRegression</label><div class=\"sk-toggleable__content\"><pre>LogisticRegression(C=0.5, class_weight=&#x27;balanced&#x27;, max_iter=5000)</pre></div></div></div></div></div>"
      ],
      "text/plain": [
       "LogisticRegression(C=0.5, class_weight='balanced', max_iter=5000)"
      ]
     },
     "execution_count": 16,
     "metadata": {},
     "output_type": "execute_result"
    }
   ],
   "source": [
    "from sklearn.linear_model import LogisticRegression\n",
    "classifier = LogisticRegression(C=0.5,class_weight='balanced',max_iter=5000) # using class_weight='balanced' because it tells the model to pay more attention to minority classes\n",
    "classifier.fit(X_train, y_train) # training the model using training set"
   ]
  },
  {
   "cell_type": "code",
   "execution_count": 17,
   "id": "3458a0e8",
   "metadata": {
    "execution": {
     "iopub.execute_input": "2025-07-19T18:32:28.897260Z",
     "iopub.status.busy": "2025-07-19T18:32:28.896931Z",
     "iopub.status.idle": "2025-07-19T18:32:29.106832Z",
     "shell.execute_reply": "2025-07-19T18:32:29.105872Z"
    },
    "papermill": {
     "duration": 0.22605,
     "end_time": "2025-07-19T18:32:29.108338",
     "exception": false,
     "start_time": "2025-07-19T18:32:28.882288",
     "status": "completed"
    },
    "tags": []
   },
   "outputs": [
    {
     "name": "stdout",
     "output_type": "stream",
     "text": [
      "[[2 2]\n",
      " [1 2]\n",
      " [2 2]\n",
      " ...\n",
      " [1 2]\n",
      " [0 0]\n",
      " [1 1]]\n"
     ]
    }
   ],
   "source": [
    "y_pred = classifier.predict(X_test) # y_pred stores the predicted values\n",
    "print(np.concatenate((y_pred.reshape(len(y_pred),1), y_test.reshape(len(y_test),1)),1)) # the first column denotes the predicted results and the second column denotes the actual data from the test set."
   ]
  },
  {
   "cell_type": "markdown",
   "id": "dc9a04a3",
   "metadata": {
    "papermill": {
     "duration": 0.007656,
     "end_time": "2025-07-19T18:32:29.124257",
     "exception": false,
     "start_time": "2025-07-19T18:32:29.116601",
     "status": "completed"
    },
    "tags": []
   },
   "source": [
    "# Evaluating the Logistic Regression model"
   ]
  },
  {
   "cell_type": "code",
   "execution_count": 18,
   "id": "ba52f9aa",
   "metadata": {
    "execution": {
     "iopub.execute_input": "2025-07-19T18:32:29.142099Z",
     "iopub.status.busy": "2025-07-19T18:32:29.141180Z",
     "iopub.status.idle": "2025-07-19T18:32:29.152138Z",
     "shell.execute_reply": "2025-07-19T18:32:29.150982Z"
    },
    "papermill": {
     "duration": 0.021561,
     "end_time": "2025-07-19T18:32:29.153825",
     "exception": false,
     "start_time": "2025-07-19T18:32:29.132264",
     "status": "completed"
    },
    "tags": []
   },
   "outputs": [
    {
     "name": "stdout",
     "output_type": "stream",
     "text": [
      "[[136  57  11]\n",
      " [ 52 180  50]\n",
      " [ 12  57 152]]\n"
     ]
    },
    {
     "data": {
      "text/plain": [
       "0.6619519094766619"
      ]
     },
     "execution_count": 18,
     "metadata": {},
     "output_type": "execute_result"
    }
   ],
   "source": [
    "cm = confusion_matrix(y_test, y_pred)\n",
    "print(cm)\n",
    "accuracy_score(y_test, y_pred) # accuracy of 66.19% is achieved which is considered good for a classic ML model."
   ]
  },
  {
   "cell_type": "code",
   "execution_count": 19,
   "id": "1ae9207f",
   "metadata": {
    "execution": {
     "iopub.execute_input": "2025-07-19T18:32:29.173097Z",
     "iopub.status.busy": "2025-07-19T18:32:29.172773Z",
     "iopub.status.idle": "2025-07-19T18:32:29.186426Z",
     "shell.execute_reply": "2025-07-19T18:32:29.185203Z"
    },
    "papermill": {
     "duration": 0.025331,
     "end_time": "2025-07-19T18:32:29.188049",
     "exception": false,
     "start_time": "2025-07-19T18:32:29.162718",
     "status": "completed"
    },
    "tags": []
   },
   "outputs": [
    {
     "name": "stdout",
     "output_type": "stream",
     "text": [
      "              precision    recall  f1-score   support\n",
      "\n",
      "           0       0.68      0.67      0.67       204\n",
      "           1       0.61      0.64      0.62       282\n",
      "           2       0.71      0.69      0.70       221\n",
      "\n",
      "    accuracy                           0.66       707\n",
      "   macro avg       0.67      0.66      0.67       707\n",
      "weighted avg       0.66      0.66      0.66       707\n",
      "\n"
     ]
    }
   ],
   "source": [
    "print(classification_report(y_test, y_pred)) # prints precsion recall and f1-scores of all the classes."
   ]
  },
  {
   "cell_type": "markdown",
   "id": "1b3e8138",
   "metadata": {
    "papermill": {
     "duration": 0.008102,
     "end_time": "2025-07-19T18:32:29.204640",
     "exception": false,
     "start_time": "2025-07-19T18:32:29.196538",
     "status": "completed"
    },
    "tags": []
   },
   "source": [
    "**This model doesnot ignore any class(positive, negative or neutral) and achieves the accuracy of 66.19%. Please let me know if you get more scores than this model. I'll be happy to learn.**"
   ]
  },
  {
   "cell_type": "markdown",
   "id": "65711273",
   "metadata": {
    "papermill": {
     "duration": 0.00783,
     "end_time": "2025-07-19T18:32:29.220710",
     "exception": false,
     "start_time": "2025-07-19T18:32:29.212880",
     "status": "completed"
    },
    "tags": []
   },
   "source": []
  }
 ],
 "metadata": {
  "kaggle": {
   "accelerator": "none",
   "dataSources": [
    {
     "datasetId": 989445,
     "sourceId": 1808590,
     "sourceType": "datasetVersion"
    },
    {
     "datasetId": 7895683,
     "sourceId": 12509482,
     "sourceType": "datasetVersion"
    }
   ],
   "dockerImageVersionId": 31089,
   "isGpuEnabled": false,
   "isInternetEnabled": true,
   "language": "python",
   "sourceType": "notebook"
  },
  "kernelspec": {
   "display_name": "Python 3",
   "language": "python",
   "name": "python3"
  },
  "language_info": {
   "codemirror_mode": {
    "name": "ipython",
    "version": 3
   },
   "file_extension": ".py",
   "mimetype": "text/x-python",
   "name": "python",
   "nbconvert_exporter": "python",
   "pygments_lexer": "ipython3",
   "version": "3.11.13"
  },
  "papermill": {
   "default_parameters": {},
   "duration": 24.132995,
   "end_time": "2025-07-19T18:32:30.150148",
   "environment_variables": {},
   "exception": null,
   "input_path": "__notebook__.ipynb",
   "output_path": "__notebook__.ipynb",
   "parameters": {},
   "start_time": "2025-07-19T18:32:06.017153",
   "version": "2.6.0"
  }
 },
 "nbformat": 4,
 "nbformat_minor": 5
}
